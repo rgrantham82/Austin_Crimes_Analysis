{
 "cells": [
  {
   "cell_type": "markdown",
   "metadata": {},
   "source": [
    "# Exploratory Analysis\n",
    "<ul>\n",
    "<li><a href=\"#intro\">Introduction</a></li>\n",
    "    \n",
    "    In between this notebook, and the first, I cleaned the data further in Excel since the dataset was small enough to begin with. First, I combined the various LGBT related biases into one as 'Anti-LGBT'. I also, cleaned up some other biases to make the entire column uniform as possible. Second, I cleaned the offender ethnicity column for the same reason. The resulting dataset lists 60 separate alleged hate crimes, in Austin, TX, since 2017. \n",
    "    \n",
    "    Out of the total number of reported incidents, 30% occurred against the LGBT Community. \n",
    "    \n",
    "> **Questions**:\n",
    "><ul>\n",
    "><li><a href=\"#q1\"> 1. How are reported incidents in Austin distributed according to motivation?</a></li>\n",
    "><li><a href=\"#q2\"> 2. How are offense types distributed during the course of a hate crime?</a></li> \n",
    "><li><a href=\"#q3\"> 3. What is the race/ethnicity of the offenders?</a></li>\n",
    "><li><a href=\"#q4\"> 4. At what kinds of locations in Austin do hate crimes take place?</a></li>\n",
    "><li><a href=\"#q5\"> 5. Correlations between victims and offenders</a></li>"
   ]
  },
  {
   "cell_type": "code",
   "execution_count": 1,
   "metadata": {},
   "outputs": [],
   "source": [
    "# Importing the appropriate libraries and configurations\n",
    "import pandas as pd\n",
    "import numpy as np\n",
    "import matplotlib.pyplot as plt\n",
    "import seaborn as sns\n",
    "\n",
    "%matplotlib inline"
   ]
  },
  {
   "cell_type": "code",
   "execution_count": 2,
   "metadata": {},
   "outputs": [],
   "source": [
    "# Loading & examining the dataset\n",
    "df = pd.read_csv('datasets\\df_new.csv')"
   ]
  },
  {
   "cell_type": "code",
   "execution_count": null,
   "metadata": {},
   "outputs": [],
   "source": []
  },
  {
   "cell_type": "code",
   "execution_count": 3,
   "metadata": {},
   "outputs": [],
   "source": [
    "# Helper function to clean the data\n",
    "def clean_data(df):\n",
    "    \"\"\"Converting and setting the index\"\"\"\n",
    "    df['date_of_incident'] = df['date_of_incident'].astype('datetime64')\n",
    "    df.set_index(['date_of_incident'], inplace=True)\n",
    "    df.sort_index(inplace=True)\n",
    "    \"\"\"Converting the following to category type\"\"\"\n",
    "    cat_col = ['bias', \n",
    "               'offense', \n",
    "               'offense_location', \n",
    "               'race_ethn_offender']\n",
    "    df[cat_col] = df[cat_col].astype('category')\n",
    "    return df\n",
    "df = clean_data(df)"
   ]
  },
  {
   "cell_type": "code",
   "execution_count": 4,
   "metadata": {
    "scrolled": false
   },
   "outputs": [
    {
     "data": {
      "text/plain": [
       "2"
      ]
     },
     "execution_count": 4,
     "metadata": {},
     "output_type": "execute_result"
    }
   ],
   "source": [
    "df.duplicated().sum()"
   ]
  },
  {
   "cell_type": "code",
   "execution_count": 5,
   "metadata": {},
   "outputs": [],
   "source": [
    "df.drop_duplicates(inplace=True)"
   ]
  },
  {
   "cell_type": "code",
   "execution_count": 6,
   "metadata": {},
   "outputs": [
    {
     "data": {
      "text/html": [
       "<div>\n",
       "<style scoped>\n",
       "    .dataframe tbody tr th:only-of-type {\n",
       "        vertical-align: middle;\n",
       "    }\n",
       "\n",
       "    .dataframe tbody tr th {\n",
       "        vertical-align: top;\n",
       "    }\n",
       "\n",
       "    .dataframe thead th {\n",
       "        text-align: right;\n",
       "    }\n",
       "</style>\n",
       "<table border=\"1\" class=\"dataframe\">\n",
       "  <thead>\n",
       "    <tr style=\"text-align: right;\">\n",
       "      <th></th>\n",
       "      <th>incident_number</th>\n",
       "      <th>bias</th>\n",
       "      <th>number_of_offenders_over_18</th>\n",
       "      <th>number_of_offenders_under_18</th>\n",
       "      <th>number_of_victims_over_18</th>\n",
       "      <th>number_of_victims_under_18</th>\n",
       "      <th>offense</th>\n",
       "      <th>offense_location</th>\n",
       "      <th>race_ethn_offender</th>\n",
       "    </tr>\n",
       "    <tr>\n",
       "      <th>date_of_incident</th>\n",
       "      <th></th>\n",
       "      <th></th>\n",
       "      <th></th>\n",
       "      <th></th>\n",
       "      <th></th>\n",
       "      <th></th>\n",
       "      <th></th>\n",
       "      <th></th>\n",
       "      <th></th>\n",
       "    </tr>\n",
       "  </thead>\n",
       "  <tbody>\n",
       "    <tr>\n",
       "      <th>2017-01-01</th>\n",
       "      <td>2017-241137</td>\n",
       "      <td>anti-black</td>\n",
       "      <td>1</td>\n",
       "      <td>0</td>\n",
       "      <td>1</td>\n",
       "      <td>0</td>\n",
       "      <td>Aggravated Assault</td>\n",
       "      <td>Park/Playground</td>\n",
       "      <td>white</td>\n",
       "    </tr>\n",
       "    <tr>\n",
       "      <th>2017-02-01</th>\n",
       "      <td>2017-580344</td>\n",
       "      <td>anti-white</td>\n",
       "      <td>1</td>\n",
       "      <td>0</td>\n",
       "      <td>1</td>\n",
       "      <td>0</td>\n",
       "      <td>Aggravated Assault</td>\n",
       "      <td>Highway/Road/Alley/Street/Sidewalk</td>\n",
       "      <td>black</td>\n",
       "    </tr>\n",
       "    <tr>\n",
       "      <th>2017-03-21</th>\n",
       "      <td>2017-800291</td>\n",
       "      <td>anti-jewish</td>\n",
       "      <td>0</td>\n",
       "      <td>0</td>\n",
       "      <td>0</td>\n",
       "      <td>0</td>\n",
       "      <td>Destruction</td>\n",
       "      <td>Highway/Road/Alley/Street/Sidewalk</td>\n",
       "      <td>unknown</td>\n",
       "    </tr>\n",
       "    <tr>\n",
       "      <th>2017-04-12</th>\n",
       "      <td>2017-1021534</td>\n",
       "      <td>anti-jewish</td>\n",
       "      <td>0</td>\n",
       "      <td>0</td>\n",
       "      <td>0</td>\n",
       "      <td>0</td>\n",
       "      <td>Simple Assault</td>\n",
       "      <td>Air/Bus/Train Terminal</td>\n",
       "      <td>white</td>\n",
       "    </tr>\n",
       "    <tr>\n",
       "      <th>2017-05-15</th>\n",
       "      <td>2017-1351550</td>\n",
       "      <td>anti-lgbt</td>\n",
       "      <td>2</td>\n",
       "      <td>1</td>\n",
       "      <td>0</td>\n",
       "      <td>1</td>\n",
       "      <td>Simple Assault</td>\n",
       "      <td>Residence/Home</td>\n",
       "      <td>white</td>\n",
       "    </tr>\n",
       "  </tbody>\n",
       "</table>\n",
       "</div>"
      ],
      "text/plain": [
       "                 incident_number         bias  number_of_offenders_over_18  \\\n",
       "date_of_incident                                                             \n",
       "2017-01-01           2017-241137   anti-black                            1   \n",
       "2017-02-01           2017-580344   anti-white                            1   \n",
       "2017-03-21           2017-800291  anti-jewish                            0   \n",
       "2017-04-12          2017-1021534  anti-jewish                            0   \n",
       "2017-05-15          2017-1351550    anti-lgbt                            2   \n",
       "\n",
       "                  number_of_offenders_under_18  number_of_victims_over_18  \\\n",
       "date_of_incident                                                            \n",
       "2017-01-01                                   0                          1   \n",
       "2017-02-01                                   0                          1   \n",
       "2017-03-21                                   0                          0   \n",
       "2017-04-12                                   0                          0   \n",
       "2017-05-15                                   1                          0   \n",
       "\n",
       "                  number_of_victims_under_18             offense  \\\n",
       "date_of_incident                                                   \n",
       "2017-01-01                                 0  Aggravated Assault   \n",
       "2017-02-01                                 0  Aggravated Assault   \n",
       "2017-03-21                                 0         Destruction   \n",
       "2017-04-12                                 0      Simple Assault   \n",
       "2017-05-15                                 1      Simple Assault   \n",
       "\n",
       "                                    offense_location race_ethn_offender  \n",
       "date_of_incident                                                         \n",
       "2017-01-01                           Park/Playground              white  \n",
       "2017-02-01        Highway/Road/Alley/Street/Sidewalk              black  \n",
       "2017-03-21        Highway/Road/Alley/Street/Sidewalk            unknown  \n",
       "2017-04-12                    Air/Bus/Train Terminal              white  \n",
       "2017-05-15                            Residence/Home              white  "
      ]
     },
     "metadata": {},
     "output_type": "display_data"
    },
    {
     "name": "stdout",
     "output_type": "stream",
     "text": [
      "----------------------------------\n"
     ]
    },
    {
     "data": {
      "text/html": [
       "<div>\n",
       "<style scoped>\n",
       "    .dataframe tbody tr th:only-of-type {\n",
       "        vertical-align: middle;\n",
       "    }\n",
       "\n",
       "    .dataframe tbody tr th {\n",
       "        vertical-align: top;\n",
       "    }\n",
       "\n",
       "    .dataframe thead th {\n",
       "        text-align: right;\n",
       "    }\n",
       "</style>\n",
       "<table border=\"1\" class=\"dataframe\">\n",
       "  <thead>\n",
       "    <tr style=\"text-align: right;\">\n",
       "      <th></th>\n",
       "      <th>incident_number</th>\n",
       "      <th>bias</th>\n",
       "      <th>number_of_offenders_over_18</th>\n",
       "      <th>number_of_offenders_under_18</th>\n",
       "      <th>number_of_victims_over_18</th>\n",
       "      <th>number_of_victims_under_18</th>\n",
       "      <th>offense</th>\n",
       "      <th>offense_location</th>\n",
       "      <th>race_ethn_offender</th>\n",
       "    </tr>\n",
       "    <tr>\n",
       "      <th>date_of_incident</th>\n",
       "      <th></th>\n",
       "      <th></th>\n",
       "      <th></th>\n",
       "      <th></th>\n",
       "      <th></th>\n",
       "      <th></th>\n",
       "      <th></th>\n",
       "      <th></th>\n",
       "      <th></th>\n",
       "    </tr>\n",
       "  </thead>\n",
       "  <tbody>\n",
       "    <tr>\n",
       "      <th>2020-06-04</th>\n",
       "      <td>2020-1560947</td>\n",
       "      <td>anti-black</td>\n",
       "      <td>1</td>\n",
       "      <td>0</td>\n",
       "      <td>1</td>\n",
       "      <td>0</td>\n",
       "      <td>Criminal Mischief</td>\n",
       "      <td>Residence/Home</td>\n",
       "      <td>unknown</td>\n",
       "    </tr>\n",
       "    <tr>\n",
       "      <th>2020-06-09</th>\n",
       "      <td>2020-1610708</td>\n",
       "      <td>anti-black</td>\n",
       "      <td>1</td>\n",
       "      <td>0</td>\n",
       "      <td>1</td>\n",
       "      <td>0</td>\n",
       "      <td>Criminal Mischief</td>\n",
       "      <td>Highway/Road/Alley/Street/Sidewalk</td>\n",
       "      <td>unknown</td>\n",
       "    </tr>\n",
       "    <tr>\n",
       "      <th>2020-06-17</th>\n",
       "      <td>2020-1690572</td>\n",
       "      <td>anti-black</td>\n",
       "      <td>1</td>\n",
       "      <td>0</td>\n",
       "      <td>1</td>\n",
       "      <td>0</td>\n",
       "      <td>Criminal Mischief</td>\n",
       "      <td>Parking Lot/Garage/Drop Lot</td>\n",
       "      <td>unknown</td>\n",
       "    </tr>\n",
       "    <tr>\n",
       "      <th>2020-06-23</th>\n",
       "      <td>2020-1750961</td>\n",
       "      <td>anti-black</td>\n",
       "      <td>1</td>\n",
       "      <td>0</td>\n",
       "      <td>1</td>\n",
       "      <td>0</td>\n",
       "      <td>Criminal Mischief</td>\n",
       "      <td>Highway/Road/Alley/Street/Sidewalk</td>\n",
       "      <td>unknown</td>\n",
       "    </tr>\n",
       "    <tr>\n",
       "      <th>2020-07-24</th>\n",
       "      <td>2020-2061031</td>\n",
       "      <td>anti-lgbt</td>\n",
       "      <td>1</td>\n",
       "      <td>0</td>\n",
       "      <td>1</td>\n",
       "      <td>0</td>\n",
       "      <td>Aggravated Assault</td>\n",
       "      <td>Highway/Road/Alley/Street/Sidewalk</td>\n",
       "      <td>hispanic</td>\n",
       "    </tr>\n",
       "  </tbody>\n",
       "</table>\n",
       "</div>"
      ],
      "text/plain": [
       "                 incident_number        bias  number_of_offenders_over_18  \\\n",
       "date_of_incident                                                            \n",
       "2020-06-04          2020-1560947  anti-black                            1   \n",
       "2020-06-09          2020-1610708  anti-black                            1   \n",
       "2020-06-17          2020-1690572  anti-black                            1   \n",
       "2020-06-23          2020-1750961  anti-black                            1   \n",
       "2020-07-24          2020-2061031   anti-lgbt                            1   \n",
       "\n",
       "                  number_of_offenders_under_18  number_of_victims_over_18  \\\n",
       "date_of_incident                                                            \n",
       "2020-06-04                                   0                          1   \n",
       "2020-06-09                                   0                          1   \n",
       "2020-06-17                                   0                          1   \n",
       "2020-06-23                                   0                          1   \n",
       "2020-07-24                                   0                          1   \n",
       "\n",
       "                  number_of_victims_under_18             offense  \\\n",
       "date_of_incident                                                   \n",
       "2020-06-04                                 0   Criminal Mischief   \n",
       "2020-06-09                                 0   Criminal Mischief   \n",
       "2020-06-17                                 0   Criminal Mischief   \n",
       "2020-06-23                                 0   Criminal Mischief   \n",
       "2020-07-24                                 0  Aggravated Assault   \n",
       "\n",
       "                                    offense_location race_ethn_offender  \n",
       "date_of_incident                                                         \n",
       "2020-06-04                            Residence/Home            unknown  \n",
       "2020-06-09        Highway/Road/Alley/Street/Sidewalk            unknown  \n",
       "2020-06-17               Parking Lot/Garage/Drop Lot            unknown  \n",
       "2020-06-23        Highway/Road/Alley/Street/Sidewalk            unknown  \n",
       "2020-07-24        Highway/Road/Alley/Street/Sidewalk           hispanic  "
      ]
     },
     "metadata": {},
     "output_type": "display_data"
    },
    {
     "name": "stdout",
     "output_type": "stream",
     "text": [
      "----------------------------------\n",
      "<class 'pandas.core.frame.DataFrame'>\n",
      "DatetimeIndex: 62 entries, 2017-01-01 to 2020-07-24\n",
      "Data columns (total 9 columns):\n",
      "incident_number                 62 non-null object\n",
      "bias                            62 non-null category\n",
      "number_of_offenders_over_18     62 non-null int64\n",
      "number_of_offenders_under_18    62 non-null int64\n",
      "number_of_victims_over_18       62 non-null int64\n",
      "number_of_victims_under_18      62 non-null int64\n",
      "offense                         62 non-null category\n",
      "offense_location                62 non-null category\n",
      "race_ethn_offender              62 non-null category\n",
      "dtypes: category(4), int64(4), object(1)\n",
      "memory usage: 5.2+ KB\n"
     ]
    },
    {
     "data": {
      "text/plain": [
       "None"
      ]
     },
     "metadata": {},
     "output_type": "display_data"
    }
   ],
   "source": [
    "# Reexamining the head, tail, & info\n",
    "display(df.head())\n",
    "print('----------------------------------')\n",
    "display(df.tail())\n",
    "print('----------------------------------')\n",
    "display(df.info())"
   ]
  },
  {
   "cell_type": "markdown",
   "metadata": {},
   "source": [
    "<a id='q1'></a>\n",
    "### Question 1. How are reported incidences in Austin distributed according to motivation? "
   ]
  },
  {
   "cell_type": "code",
   "execution_count": 7,
   "metadata": {
    "scrolled": false
   },
   "outputs": [
    {
     "data": {
      "text/plain": [
       "anti-black         22\n",
       "anti-lgbt          20\n",
       "anti-hispanic       7\n",
       "anti-muslim         4\n",
       "anti-jewish         4\n",
       "anti-white          3\n",
       "anti-disability     1\n",
       "anti-buddhist       1\n",
       "Name: bias, dtype: int64"
      ]
     },
     "metadata": {},
     "output_type": "display_data"
    },
    {
     "name": "stdout",
     "output_type": "stream",
     "text": [
      "----------------------------------\n"
     ]
    },
    {
     "data": {
      "text/plain": [
       "anti-black         0.354839\n",
       "anti-lgbt          0.322581\n",
       "anti-hispanic      0.112903\n",
       "anti-muslim        0.064516\n",
       "anti-jewish        0.064516\n",
       "anti-white         0.048387\n",
       "anti-disability    0.016129\n",
       "anti-buddhist      0.016129\n",
       "Name: bias, dtype: float64"
      ]
     },
     "metadata": {},
     "output_type": "display_data"
    },
    {
     "data": {
      "text/plain": [
       "<matplotlib.axes._subplots.AxesSubplot at 0x26207e84948>"
      ]
     },
     "execution_count": 7,
     "metadata": {},
     "output_type": "execute_result"
    },
    {
     "data": {
      "image/png": "[encoded data removed]",
      "text/plain": [
       "<Figure size 432x288 with 1 Axes>"
      ]
     },
     "metadata": {
      "needs_background": "light"
     },
     "output_type": "display_data"
    }
   ],
   "source": [
    "# Create and display a dataframe of the biases\n",
    "bias = df.bias.value_counts()\n",
    "display(bias)\n",
    "\n",
    "# Create and display a dataframe of the biases as percentages\n",
    "bias_pct = df.bias.value_counts(normalize=True)\n",
    "print('----------------------------------')\n",
    "display(df.bias.value_counts(normalize=True))\n",
    "\n",
    "bias.sort_values().plot.barh()"
   ]
  },
  {
   "cell_type": "markdown",
   "metadata": {},
   "source": [
    "As we can see, 32.81% of hate crimes, since 2017, occurred against the LGBT community. "
   ]
  },
  {
   "cell_type": "markdown",
   "metadata": {},
   "source": [
    "<a id='q2'></a>\n",
    "### Question 2. How are offense types distributed during the course of a hate crime? "
   ]
  },
  {
   "cell_type": "code",
   "execution_count": 8,
   "metadata": {},
   "outputs": [
    {
     "data": {
      "text/plain": [
       "Assault                22\n",
       "Criminal Mischief       9\n",
       "Simple Assault          8\n",
       "Intimidation            7\n",
       "Vandalism               4\n",
       "Aggravated Assault      4\n",
       "Destruction             2\n",
       "Theft                   1\n",
       "Robbery                 1\n",
       "Burglary/Assault        1\n",
       "Assault with Injury     1\n",
       "Assault by Threat       1\n",
       "Assault by Contact      1\n",
       "Name: offense, dtype: int64"
      ]
     },
     "metadata": {},
     "output_type": "display_data"
    },
    {
     "name": "stdout",
     "output_type": "stream",
     "text": [
      "----------------------------------\n"
     ]
    },
    {
     "data": {
      "text/plain": [
       "Assault                0.354839\n",
       "Criminal Mischief      0.145161\n",
       "Simple Assault         0.129032\n",
       "Intimidation           0.112903\n",
       "Vandalism              0.064516\n",
       "Aggravated Assault     0.064516\n",
       "Destruction            0.032258\n",
       "Theft                  0.016129\n",
       "Robbery                0.016129\n",
       "Burglary/Assault       0.016129\n",
       "Assault with Injury    0.016129\n",
       "Assault by Threat      0.016129\n",
       "Assault by Contact     0.016129\n",
       "Name: offense, dtype: float64"
      ]
     },
     "metadata": {},
     "output_type": "display_data"
    },
    {
     "data": {
      "text/plain": [
       "<matplotlib.axes._subplots.AxesSubplot at 0x2620a1d3608>"
      ]
     },
     "execution_count": 8,
     "metadata": {},
     "output_type": "execute_result"
    },
    {
     "data": {
      "image/png": "[encoded data removed]",
      "text/plain": [
       "<Figure size 432x288 with 1 Axes>"
      ]
     },
     "metadata": {
      "needs_background": "light"
     },
     "output_type": "display_data"
    }
   ],
   "source": [
    "# Create a dataframe for the offense values\n",
    "offense_count = df.offense.value_counts()\n",
    "display(offense_count)\n",
    "\n",
    "# Displaying the offense values as proportions\n",
    "print('----------------------------------')\n",
    "offense_count_pct = df.offense.value_counts(normalize=True)\n",
    "display(offense_count_pct)\n",
    "\n",
    "offense_count.sort_values().plot.barh()"
   ]
  },
  {
   "cell_type": "markdown",
   "metadata": {},
   "source": [
    "There are so many types of assault. I am unsure, legally speaking, what the difference is between all the assault variables. Definitely a question for further research. "
   ]
  },
  {
   "cell_type": "markdown",
   "metadata": {},
   "source": [
    "<a id='q3'></a>\n",
    "### Question 3. What is the race/ethnicity of the offenders?      "
   ]
  },
  {
   "cell_type": "code",
   "execution_count": 9,
   "metadata": {
    "scrolled": false
   },
   "outputs": [
    {
     "data": {
      "text/plain": [
       "white                    26\n",
       "unknown                  15\n",
       "hispanic                 14\n",
       "black                     5\n",
       "hispanic (2) white(2)     1\n",
       "asian                     1\n",
       "Name: race_ethn_offender, dtype: int64"
      ]
     },
     "metadata": {},
     "output_type": "display_data"
    },
    {
     "name": "stdout",
     "output_type": "stream",
     "text": [
      "----------------------------------\n"
     ]
    },
    {
     "data": {
      "text/plain": [
       "white                    0.419355\n",
       "unknown                  0.241935\n",
       "hispanic                 0.225806\n",
       "black                    0.080645\n",
       "hispanic (2) white(2)    0.016129\n",
       "asian                    0.016129\n",
       "Name: race_ethn_offender, dtype: float64"
      ]
     },
     "metadata": {},
     "output_type": "display_data"
    },
    {
     "data": {
      "image/png": "[encoded data removed]",
      "text/plain": [
       "<Figure size 432x288 with 1 Axes>"
      ]
     },
     "metadata": {
      "needs_background": "light"
     },
     "output_type": "display_data"
    },
    {
     "data": {
      "text/html": [
       "<div>\n",
       "<style scoped>\n",
       "    .dataframe tbody tr th:only-of-type {\n",
       "        vertical-align: middle;\n",
       "    }\n",
       "\n",
       "    .dataframe tbody tr th {\n",
       "        vertical-align: top;\n",
       "    }\n",
       "\n",
       "    .dataframe thead th {\n",
       "        text-align: right;\n",
       "    }\n",
       "</style>\n",
       "<table border=\"1\" class=\"dataframe\">\n",
       "  <thead>\n",
       "    <tr style=\"text-align: right;\">\n",
       "      <th>race_ethn_offender</th>\n",
       "      <th>asian</th>\n",
       "      <th>black</th>\n",
       "      <th>hispanic</th>\n",
       "      <th>hispanic (2) white(2)</th>\n",
       "      <th>unknown</th>\n",
       "      <th>white</th>\n",
       "    </tr>\n",
       "    <tr>\n",
       "      <th>bias</th>\n",
       "      <th></th>\n",
       "      <th></th>\n",
       "      <th></th>\n",
       "      <th></th>\n",
       "      <th></th>\n",
       "      <th></th>\n",
       "    </tr>\n",
       "  </thead>\n",
       "  <tbody>\n",
       "    <tr>\n",
       "      <th>anti-black</th>\n",
       "      <td>1</td>\n",
       "      <td>0</td>\n",
       "      <td>1</td>\n",
       "      <td>0</td>\n",
       "      <td>7</td>\n",
       "      <td>13</td>\n",
       "    </tr>\n",
       "    <tr>\n",
       "      <th>anti-buddhist</th>\n",
       "      <td>0</td>\n",
       "      <td>0</td>\n",
       "      <td>0</td>\n",
       "      <td>0</td>\n",
       "      <td>1</td>\n",
       "      <td>0</td>\n",
       "    </tr>\n",
       "    <tr>\n",
       "      <th>anti-disability</th>\n",
       "      <td>0</td>\n",
       "      <td>0</td>\n",
       "      <td>1</td>\n",
       "      <td>0</td>\n",
       "      <td>0</td>\n",
       "      <td>0</td>\n",
       "    </tr>\n",
       "    <tr>\n",
       "      <th>anti-hispanic</th>\n",
       "      <td>0</td>\n",
       "      <td>1</td>\n",
       "      <td>2</td>\n",
       "      <td>0</td>\n",
       "      <td>1</td>\n",
       "      <td>3</td>\n",
       "    </tr>\n",
       "    <tr>\n",
       "      <th>anti-jewish</th>\n",
       "      <td>0</td>\n",
       "      <td>0</td>\n",
       "      <td>0</td>\n",
       "      <td>0</td>\n",
       "      <td>3</td>\n",
       "      <td>1</td>\n",
       "    </tr>\n",
       "    <tr>\n",
       "      <th>anti-lgbt</th>\n",
       "      <td>0</td>\n",
       "      <td>2</td>\n",
       "      <td>8</td>\n",
       "      <td>1</td>\n",
       "      <td>3</td>\n",
       "      <td>6</td>\n",
       "    </tr>\n",
       "    <tr>\n",
       "      <th>anti-muslim</th>\n",
       "      <td>0</td>\n",
       "      <td>0</td>\n",
       "      <td>1</td>\n",
       "      <td>0</td>\n",
       "      <td>0</td>\n",
       "      <td>3</td>\n",
       "    </tr>\n",
       "    <tr>\n",
       "      <th>anti-white</th>\n",
       "      <td>0</td>\n",
       "      <td>2</td>\n",
       "      <td>1</td>\n",
       "      <td>0</td>\n",
       "      <td>0</td>\n",
       "      <td>0</td>\n",
       "    </tr>\n",
       "  </tbody>\n",
       "</table>\n",
       "</div>"
      ],
      "text/plain": [
       "race_ethn_offender  asian  black  hispanic  hispanic (2) white(2)  unknown  \\\n",
       "bias                                                                         \n",
       "anti-black              1      0         1                      0        7   \n",
       "anti-buddhist           0      0         0                      0        1   \n",
       "anti-disability         0      0         1                      0        0   \n",
       "anti-hispanic           0      1         2                      0        1   \n",
       "anti-jewish             0      0         0                      0        3   \n",
       "anti-lgbt               0      2         8                      1        3   \n",
       "anti-muslim             0      0         1                      0        0   \n",
       "anti-white              0      2         1                      0        0   \n",
       "\n",
       "race_ethn_offender  white  \n",
       "bias                       \n",
       "anti-black             13  \n",
       "anti-buddhist           0  \n",
       "anti-disability         0  \n",
       "anti-hispanic           3  \n",
       "anti-jewish             1  \n",
       "anti-lgbt               6  \n",
       "anti-muslim             3  \n",
       "anti-white              0  "
      ]
     },
     "metadata": {},
     "output_type": "display_data"
    },
    {
     "data": {
      "image/png": "[encoded data removed]",
      "text/plain": [
       "<Figure size 720x360 with 1 Axes>"
      ]
     },
     "metadata": {
      "needs_background": "light"
     },
     "output_type": "display_data"
    }
   ],
   "source": [
    "# Create a dataframe for the offender ethnicity values\n",
    "offenders_count = df['race_ethn_offender'].value_counts()\n",
    "display(offenders_count)\n",
    "print('----------------------------------')\n",
    "\n",
    "# Displaying the offender ethnicity values as proportions\n",
    "offenders_count_pct = df['race_ethn_offender'].value_counts(normalize=True)\n",
    "display(offenders_count_pct)\n",
    "\n",
    "offenders_count.sort_values().plot.barh()\n",
    "plt.title('Total Offenders by Race/Ethnicity')\n",
    "plt.xlabel('Total Offenses since 2017')\n",
    "plt.ylabel('Offender Race/Ethnicity')\n",
    "plt.show()\n",
    "\n",
    "off_race_bias = pd.crosstab(df.bias, df.race_ethn_offender)\n",
    "display(off_race_bias)\n",
    "\n",
    "off_race_bias.plot.bar(rot=60, \n",
    "                       figsize=(10,5))\n",
    "plt.title('Race/Ethnicity of Offender(s) by Bias')\n",
    "plt.ylabel('Count')\n",
    "plt.show()"
   ]
  },
  {
   "cell_type": "markdown",
   "metadata": {},
   "source": [
    "Note...the above result has an instance of 'Hispanic (2), Caucasian (2)' as a single offender because of an incident that occurred on 1/19/2019: https://www.statesman.com/news/20200124/confrontation-that-ignited-attack-on-austin-gay-couple-questioned-by-detective. Two of the offenders were white, and the other 2 were hispanic. \n",
    "\n",
    "So in actuality, of the total offenders, 44.44% were White, 22.22% were Hispanic, 7.94% were Black, and 1.59% (1 offender in total) were identified as Asian. \n",
    "\n",
    "It is interesting to note that, out of the total, 23.81% remains unidentified in terms of race and ethnicity. "
   ]
  },
  {
   "cell_type": "markdown",
   "metadata": {},
   "source": [
    "<a id='q4'></a>\n",
    "### Question 4. At what kinds of locations in Austin do hate crimes take place? "
   ]
  },
  {
   "cell_type": "code",
   "execution_count": 10,
   "metadata": {
    "scrolled": false
   },
   "outputs": [
    {
     "data": {
      "text/plain": [
       "Highway/Road/Alley/Street/Sidewalk      20\n",
       "Residence/Home                          12\n",
       "Parking Lot/Garage/Drop Lot              7\n",
       "Bar/Nightclub                            5\n",
       "Convenience Store                        4\n",
       "Park/Playground                          2\n",
       "Church/Temple/Synagogue/Mosque           2\n",
       "Shelter-Mission/Homeless                 1\n",
       "Department/Discount Store                1\n",
       "Bank/Savings and Loan                    1\n",
       "Hotel/Motel                              1\n",
       "Drug Store/Dr.'s office/Hospital         1\n",
       "School-Elementary/Secondary              1\n",
       "Other/unknown                            1\n",
       "Parking Lot/Garage/Drop Lot/Drop Lot     1\n",
       "Restaurant                               1\n",
       "Air/Bus/Train Terminal                   1\n",
       "Name: offense_location, dtype: int64"
      ]
     },
     "metadata": {},
     "output_type": "display_data"
    },
    {
     "name": "stdout",
     "output_type": "stream",
     "text": [
      "----------------------------------\n"
     ]
    },
    {
     "data": {
      "text/plain": [
       "Highway/Road/Alley/Street/Sidewalk      0.322581\n",
       "Residence/Home                          0.193548\n",
       "Parking Lot/Garage/Drop Lot             0.112903\n",
       "Bar/Nightclub                           0.080645\n",
       "Convenience Store                       0.064516\n",
       "Park/Playground                         0.032258\n",
       "Church/Temple/Synagogue/Mosque          0.032258\n",
       "Shelter-Mission/Homeless                0.016129\n",
       "Department/Discount Store               0.016129\n",
       "Bank/Savings and Loan                   0.016129\n",
       "Hotel/Motel                             0.016129\n",
       "Drug Store/Dr.'s office/Hospital        0.016129\n",
       "School-Elementary/Secondary             0.016129\n",
       "Other/unknown                           0.016129\n",
       "Parking Lot/Garage/Drop Lot/Drop Lot    0.016129\n",
       "Restaurant                              0.016129\n",
       "Air/Bus/Train Terminal                  0.016129\n",
       "Name: offense_location, dtype: float64"
      ]
     },
     "metadata": {},
     "output_type": "display_data"
    },
    {
     "data": {
      "text/html": [
       "<div>\n",
       "<style scoped>\n",
       "    .dataframe tbody tr th:only-of-type {\n",
       "        vertical-align: middle;\n",
       "    }\n",
       "\n",
       "    .dataframe tbody tr th {\n",
       "        vertical-align: top;\n",
       "    }\n",
       "\n",
       "    .dataframe thead th {\n",
       "        text-align: right;\n",
       "    }\n",
       "</style>\n",
       "<table border=\"1\" class=\"dataframe\">\n",
       "  <thead>\n",
       "    <tr style=\"text-align: right;\">\n",
       "      <th>offense_location</th>\n",
       "      <th>Air/Bus/Train Terminal</th>\n",
       "      <th>Bank/Savings and Loan</th>\n",
       "      <th>Bar/Nightclub</th>\n",
       "      <th>Church/Temple/Synagogue/Mosque</th>\n",
       "      <th>Convenience Store</th>\n",
       "      <th>Department/Discount Store</th>\n",
       "      <th>Drug Store/Dr.'s office/Hospital</th>\n",
       "      <th>Highway/Road/Alley/Street/Sidewalk</th>\n",
       "      <th>Hotel/Motel</th>\n",
       "      <th>Other/unknown</th>\n",
       "      <th>Park/Playground</th>\n",
       "      <th>Parking Lot/Garage/Drop Lot</th>\n",
       "      <th>Parking Lot/Garage/Drop Lot/Drop Lot</th>\n",
       "      <th>Residence/Home</th>\n",
       "      <th>Restaurant</th>\n",
       "      <th>School-Elementary/Secondary</th>\n",
       "      <th>Shelter-Mission/Homeless</th>\n",
       "    </tr>\n",
       "    <tr>\n",
       "      <th>bias</th>\n",
       "      <th></th>\n",
       "      <th></th>\n",
       "      <th></th>\n",
       "      <th></th>\n",
       "      <th></th>\n",
       "      <th></th>\n",
       "      <th></th>\n",
       "      <th></th>\n",
       "      <th></th>\n",
       "      <th></th>\n",
       "      <th></th>\n",
       "      <th></th>\n",
       "      <th></th>\n",
       "      <th></th>\n",
       "      <th></th>\n",
       "      <th></th>\n",
       "      <th></th>\n",
       "    </tr>\n",
       "  </thead>\n",
       "  <tbody>\n",
       "    <tr>\n",
       "      <th>anti-black</th>\n",
       "      <td>0</td>\n",
       "      <td>0</td>\n",
       "      <td>0</td>\n",
       "      <td>1</td>\n",
       "      <td>3</td>\n",
       "      <td>0</td>\n",
       "      <td>1</td>\n",
       "      <td>8</td>\n",
       "      <td>0</td>\n",
       "      <td>0</td>\n",
       "      <td>1</td>\n",
       "      <td>3</td>\n",
       "      <td>0</td>\n",
       "      <td>4</td>\n",
       "      <td>0</td>\n",
       "      <td>0</td>\n",
       "      <td>1</td>\n",
       "    </tr>\n",
       "    <tr>\n",
       "      <th>anti-buddhist</th>\n",
       "      <td>0</td>\n",
       "      <td>0</td>\n",
       "      <td>0</td>\n",
       "      <td>1</td>\n",
       "      <td>0</td>\n",
       "      <td>0</td>\n",
       "      <td>0</td>\n",
       "      <td>0</td>\n",
       "      <td>0</td>\n",
       "      <td>0</td>\n",
       "      <td>0</td>\n",
       "      <td>0</td>\n",
       "      <td>0</td>\n",
       "      <td>0</td>\n",
       "      <td>0</td>\n",
       "      <td>0</td>\n",
       "      <td>0</td>\n",
       "    </tr>\n",
       "    <tr>\n",
       "      <th>anti-disability</th>\n",
       "      <td>0</td>\n",
       "      <td>0</td>\n",
       "      <td>1</td>\n",
       "      <td>0</td>\n",
       "      <td>0</td>\n",
       "      <td>0</td>\n",
       "      <td>0</td>\n",
       "      <td>0</td>\n",
       "      <td>0</td>\n",
       "      <td>0</td>\n",
       "      <td>0</td>\n",
       "      <td>0</td>\n",
       "      <td>0</td>\n",
       "      <td>0</td>\n",
       "      <td>0</td>\n",
       "      <td>0</td>\n",
       "      <td>0</td>\n",
       "    </tr>\n",
       "    <tr>\n",
       "      <th>anti-hispanic</th>\n",
       "      <td>0</td>\n",
       "      <td>1</td>\n",
       "      <td>0</td>\n",
       "      <td>0</td>\n",
       "      <td>0</td>\n",
       "      <td>0</td>\n",
       "      <td>0</td>\n",
       "      <td>3</td>\n",
       "      <td>0</td>\n",
       "      <td>0</td>\n",
       "      <td>1</td>\n",
       "      <td>0</td>\n",
       "      <td>1</td>\n",
       "      <td>0</td>\n",
       "      <td>0</td>\n",
       "      <td>1</td>\n",
       "      <td>0</td>\n",
       "    </tr>\n",
       "    <tr>\n",
       "      <th>anti-jewish</th>\n",
       "      <td>1</td>\n",
       "      <td>0</td>\n",
       "      <td>0</td>\n",
       "      <td>0</td>\n",
       "      <td>0</td>\n",
       "      <td>0</td>\n",
       "      <td>0</td>\n",
       "      <td>1</td>\n",
       "      <td>0</td>\n",
       "      <td>0</td>\n",
       "      <td>0</td>\n",
       "      <td>0</td>\n",
       "      <td>0</td>\n",
       "      <td>2</td>\n",
       "      <td>0</td>\n",
       "      <td>0</td>\n",
       "      <td>0</td>\n",
       "    </tr>\n",
       "    <tr>\n",
       "      <th>anti-lgbt</th>\n",
       "      <td>0</td>\n",
       "      <td>0</td>\n",
       "      <td>4</td>\n",
       "      <td>0</td>\n",
       "      <td>0</td>\n",
       "      <td>1</td>\n",
       "      <td>0</td>\n",
       "      <td>6</td>\n",
       "      <td>0</td>\n",
       "      <td>0</td>\n",
       "      <td>0</td>\n",
       "      <td>3</td>\n",
       "      <td>0</td>\n",
       "      <td>6</td>\n",
       "      <td>0</td>\n",
       "      <td>0</td>\n",
       "      <td>0</td>\n",
       "    </tr>\n",
       "    <tr>\n",
       "      <th>anti-muslim</th>\n",
       "      <td>0</td>\n",
       "      <td>0</td>\n",
       "      <td>0</td>\n",
       "      <td>0</td>\n",
       "      <td>1</td>\n",
       "      <td>0</td>\n",
       "      <td>0</td>\n",
       "      <td>0</td>\n",
       "      <td>0</td>\n",
       "      <td>1</td>\n",
       "      <td>0</td>\n",
       "      <td>1</td>\n",
       "      <td>0</td>\n",
       "      <td>0</td>\n",
       "      <td>1</td>\n",
       "      <td>0</td>\n",
       "      <td>0</td>\n",
       "    </tr>\n",
       "    <tr>\n",
       "      <th>anti-white</th>\n",
       "      <td>0</td>\n",
       "      <td>0</td>\n",
       "      <td>0</td>\n",
       "      <td>0</td>\n",
       "      <td>0</td>\n",
       "      <td>0</td>\n",
       "      <td>0</td>\n",
       "      <td>2</td>\n",
       "      <td>1</td>\n",
       "      <td>0</td>\n",
       "      <td>0</td>\n",
       "      <td>0</td>\n",
       "      <td>0</td>\n",
       "      <td>0</td>\n",
       "      <td>0</td>\n",
       "      <td>0</td>\n",
       "      <td>0</td>\n",
       "    </tr>\n",
       "  </tbody>\n",
       "</table>\n",
       "</div>"
      ],
      "text/plain": [
       "offense_location  Air/Bus/Train Terminal  Bank/Savings and Loan  \\\n",
       "bias                                                              \n",
       "anti-black                             0                      0   \n",
       "anti-buddhist                          0                      0   \n",
       "anti-disability                        0                      0   \n",
       "anti-hispanic                          0                      1   \n",
       "anti-jewish                            1                      0   \n",
       "anti-lgbt                              0                      0   \n",
       "anti-muslim                            0                      0   \n",
       "anti-white                             0                      0   \n",
       "\n",
       "offense_location  Bar/Nightclub  Church/Temple/Synagogue/Mosque  \\\n",
       "bias                                                              \n",
       "anti-black                    0                               1   \n",
       "anti-buddhist                 0                               1   \n",
       "anti-disability               1                               0   \n",
       "anti-hispanic                 0                               0   \n",
       "anti-jewish                   0                               0   \n",
       "anti-lgbt                     4                               0   \n",
       "anti-muslim                   0                               0   \n",
       "anti-white                    0                               0   \n",
       "\n",
       "offense_location  Convenience Store  Department/Discount Store  \\\n",
       "bias                                                             \n",
       "anti-black                        3                          0   \n",
       "anti-buddhist                     0                          0   \n",
       "anti-disability                   0                          0   \n",
       "anti-hispanic                     0                          0   \n",
       "anti-jewish                       0                          0   \n",
       "anti-lgbt                         0                          1   \n",
       "anti-muslim                       1                          0   \n",
       "anti-white                        0                          0   \n",
       "\n",
       "offense_location  Drug Store/Dr.'s office/Hospital  \\\n",
       "bias                                                 \n",
       "anti-black                                       1   \n",
       "anti-buddhist                                    0   \n",
       "anti-disability                                  0   \n",
       "anti-hispanic                                    0   \n",
       "anti-jewish                                      0   \n",
       "anti-lgbt                                        0   \n",
       "anti-muslim                                      0   \n",
       "anti-white                                       0   \n",
       "\n",
       "offense_location  Highway/Road/Alley/Street/Sidewalk  Hotel/Motel  \\\n",
       "bias                                                                \n",
       "anti-black                                         8            0   \n",
       "anti-buddhist                                      0            0   \n",
       "anti-disability                                    0            0   \n",
       "anti-hispanic                                      3            0   \n",
       "anti-jewish                                        1            0   \n",
       "anti-lgbt                                          6            0   \n",
       "anti-muslim                                        0            0   \n",
       "anti-white                                         2            1   \n",
       "\n",
       "offense_location  Other/unknown  Park/Playground  Parking Lot/Garage/Drop Lot  \\\n",
       "bias                                                                            \n",
       "anti-black                    0                1                            3   \n",
       "anti-buddhist                 0                0                            0   \n",
       "anti-disability               0                0                            0   \n",
       "anti-hispanic                 0                1                            0   \n",
       "anti-jewish                   0                0                            0   \n",
       "anti-lgbt                     0                0                            3   \n",
       "anti-muslim                   1                0                            1   \n",
       "anti-white                    0                0                            0   \n",
       "\n",
       "offense_location  Parking Lot/Garage/Drop Lot/Drop Lot  Residence/Home  \\\n",
       "bias                                                                     \n",
       "anti-black                                           0               4   \n",
       "anti-buddhist                                        0               0   \n",
       "anti-disability                                      0               0   \n",
       "anti-hispanic                                        1               0   \n",
       "anti-jewish                                          0               2   \n",
       "anti-lgbt                                            0               6   \n",
       "anti-muslim                                          0               0   \n",
       "anti-white                                           0               0   \n",
       "\n",
       "offense_location  Restaurant  School-Elementary/Secondary  \\\n",
       "bias                                                        \n",
       "anti-black                 0                            0   \n",
       "anti-buddhist              0                            0   \n",
       "anti-disability            0                            0   \n",
       "anti-hispanic              0                            1   \n",
       "anti-jewish                0                            0   \n",
       "anti-lgbt                  0                            0   \n",
       "anti-muslim                1                            0   \n",
       "anti-white                 0                            0   \n",
       "\n",
       "offense_location  Shelter-Mission/Homeless  \n",
       "bias                                        \n",
       "anti-black                               1  \n",
       "anti-buddhist                            0  \n",
       "anti-disability                          0  \n",
       "anti-hispanic                            0  \n",
       "anti-jewish                              0  \n",
       "anti-lgbt                                0  \n",
       "anti-muslim                              0  \n",
       "anti-white                               0  "
      ]
     },
     "metadata": {},
     "output_type": "display_data"
    },
    {
     "data": {
      "image/png": "[encoded data removed]",
      "text/plain": [
       "<Figure size 1440x720 with 1 Axes>"
      ]
     },
     "metadata": {
      "needs_background": "light"
     },
     "output_type": "display_data"
    },
    {
     "data": {
      "image/png": "[encoded data removed]",
      "text/plain": [
       "<Figure size 432x288 with 1 Axes>"
      ]
     },
     "metadata": {
      "needs_background": "light"
     },
     "output_type": "display_data"
    }
   ],
   "source": [
    "# Displaying 'offense location'\n",
    "location = df.offense_location.value_counts()\n",
    "display(location)\n",
    "print('----------------------------------')\n",
    "\n",
    "# Displaying 'offense location' as proportions\n",
    "location_pct = df.offense_location.value_counts(normalize=True)\n",
    "display(location_pct)\n",
    "\n",
    "\n",
    "local_bias = pd.crosstab(df.bias, df.offense_location)\n",
    "display(local_bias)\n",
    "\n",
    "local_bias.plot.bar(figsize=(20,10), \n",
    "                    rot=60)\n",
    "plt.show()\n",
    "\n",
    "location.sort_values().plot.barh()\n",
    "plt.show()"
   ]
  },
  {
   "cell_type": "markdown",
   "metadata": {},
   "source": [
    "It's interesting that 20% of the instances occurred within a residence/home. \n",
    "\n",
    "As a final look, let's examine the correlations between victims and offenders. "
   ]
  },
  {
   "cell_type": "markdown",
   "metadata": {},
   "source": [
    "<a id='q5'></a>\n",
    "### Correlations between offenders and victims"
   ]
  },
  {
   "cell_type": "code",
   "execution_count": 11,
   "metadata": {},
   "outputs": [
    {
     "data": {
      "text/html": [
       "<div>\n",
       "<style scoped>\n",
       "    .dataframe tbody tr th:only-of-type {\n",
       "        vertical-align: middle;\n",
       "    }\n",
       "\n",
       "    .dataframe tbody tr th {\n",
       "        vertical-align: top;\n",
       "    }\n",
       "\n",
       "    .dataframe thead th {\n",
       "        text-align: right;\n",
       "    }\n",
       "</style>\n",
       "<table border=\"1\" class=\"dataframe\">\n",
       "  <thead>\n",
       "    <tr style=\"text-align: right;\">\n",
       "      <th></th>\n",
       "      <th>number_of_offenders_over_18</th>\n",
       "      <th>number_of_offenders_under_18</th>\n",
       "      <th>number_of_victims_over_18</th>\n",
       "      <th>number_of_victims_under_18</th>\n",
       "    </tr>\n",
       "  </thead>\n",
       "  <tbody>\n",
       "    <tr>\n",
       "      <th>number_of_offenders_over_18</th>\n",
       "      <td>1.000000</td>\n",
       "      <td>-0.174610</td>\n",
       "      <td>0.438571</td>\n",
       "      <td>-0.016937</td>\n",
       "    </tr>\n",
       "    <tr>\n",
       "      <th>number_of_offenders_under_18</th>\n",
       "      <td>-0.174610</td>\n",
       "      <td>1.000000</td>\n",
       "      <td>-0.386583</td>\n",
       "      <td>0.574846</td>\n",
       "    </tr>\n",
       "    <tr>\n",
       "      <th>number_of_victims_over_18</th>\n",
       "      <td>0.438571</td>\n",
       "      <td>-0.386583</td>\n",
       "      <td>1.000000</td>\n",
       "      <td>-0.532162</td>\n",
       "    </tr>\n",
       "    <tr>\n",
       "      <th>number_of_victims_under_18</th>\n",
       "      <td>-0.016937</td>\n",
       "      <td>0.574846</td>\n",
       "      <td>-0.532162</td>\n",
       "      <td>1.000000</td>\n",
       "    </tr>\n",
       "  </tbody>\n",
       "</table>\n",
       "</div>"
      ],
      "text/plain": [
       "                              number_of_offenders_over_18  \\\n",
       "number_of_offenders_over_18                      1.000000   \n",
       "number_of_offenders_under_18                    -0.174610   \n",
       "number_of_victims_over_18                        0.438571   \n",
       "number_of_victims_under_18                      -0.016937   \n",
       "\n",
       "                              number_of_offenders_under_18  \\\n",
       "number_of_offenders_over_18                      -0.174610   \n",
       "number_of_offenders_under_18                      1.000000   \n",
       "number_of_victims_over_18                        -0.386583   \n",
       "number_of_victims_under_18                        0.574846   \n",
       "\n",
       "                              number_of_victims_over_18  \\\n",
       "number_of_offenders_over_18                    0.438571   \n",
       "number_of_offenders_under_18                  -0.386583   \n",
       "number_of_victims_over_18                      1.000000   \n",
       "number_of_victims_under_18                    -0.532162   \n",
       "\n",
       "                              number_of_victims_under_18  \n",
       "number_of_offenders_over_18                    -0.016937  \n",
       "number_of_offenders_under_18                    0.574846  \n",
       "number_of_victims_over_18                      -0.532162  \n",
       "number_of_victims_under_18                      1.000000  "
      ]
     },
     "metadata": {},
     "output_type": "display_data"
    }
   ],
   "source": [
    "# Examining correlations between victims & offenders\n",
    "df_corr = df.corr()\n",
    "display(df_corr)"
   ]
  },
  {
   "cell_type": "code",
   "execution_count": 12,
   "metadata": {},
   "outputs": [
    {
     "data": {
      "text/plain": [
       "<matplotlib.axes._subplots.AxesSubplot at 0x2620b91bfc8>"
      ]
     },
     "execution_count": 12,
     "metadata": {},
     "output_type": "execute_result"
    },
    {
     "data": {
      "image/png": "[encoded data removed]",
      "text/plain": [
       "<Figure size 432x288 with 2 Axes>"
      ]
     },
     "metadata": {
      "needs_background": "light"
     },
     "output_type": "display_data"
    }
   ],
   "source": [
    "sns.heatmap(df.corr())"
   ]
  },
  {
   "cell_type": "markdown",
   "metadata": {},
   "source": [
    "There are no particularly strong correlations at all, save that when the victim(s) is/are under 18, the perpetrators are more likely to be under 18 as well. "
   ]
  },
  {
   "cell_type": "code",
   "execution_count": null,
   "metadata": {},
   "outputs": [],
   "source": []
  }
 ],
 "metadata": {
  "kernelspec": {
   "display_name": "Python 3",
   "language": "python",
   "name": "python3"
  },
  "language_info": {
   "codemirror_mode": {
    "name": "ipython",
    "version": 3
   },
   "file_extension": ".py",
   "mimetype": "text/x-python",
   "name": "python",
   "nbconvert_exporter": "python",
   "pygments_lexer": "ipython3",
   "version": "3.7.6"
  }
 },
 "nbformat": 4,
 "nbformat_minor": 4
}
