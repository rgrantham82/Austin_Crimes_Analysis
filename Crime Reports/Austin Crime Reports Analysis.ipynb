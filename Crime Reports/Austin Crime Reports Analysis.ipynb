{
 "cells": [
  {
   "cell_type": "markdown",
   "metadata": {},
   "source": [
    "# Analyzing Austin PD's Crime Reports Dataset\n",
    "\n",
    "The dataset is available from the Austin Police Department on https://data.austintexas.gov/Public-Safety/Crime-Reports/fdj4-gpfu.\n",
    "\n",
    "\n",
    "## Table of Contents \n",
    "\n",
    "    I. Introduction\n",
    "    II. Data Scrubbing\n",
    "    III. Exploratory Analysis \n",
    "    IV. Summary\n",
    "    \n",
    "    Questions:\n",
    "><ul>\n",
    "><li><a href=\"#q1\"> 1. What areas of Austin have the highest crime rates?</a></li>\n",
    "><li><a href=\"#q2\"> 2. How is crime distributed in 78753?</a></li> \n",
    "><li><a href=\"#q3\"> 3. How is crime distributed in 78741?</a></li>\n",
    "><li><a href=\"#q4\"> 4. How are violent crimes, in particular murder, capital murder, aggrivated assault, and rape distributed?\n",
    "><li><a href=\"#q5\"> 5. What significant does the family violence factor play, in violent crime, over time? \n",
    "><li><a href=\"#q6\"> 6. How does murder appear on the map?\n",
    "</a></li>"
   ]
  },
  {
   "cell_type": "markdown",
   "metadata": {},
   "source": [
    "## I. Introduction\n",
    "\n",
    "I began reviewing the Crime Reports dataset, provided by the Austin PD, around the same time I began reviewing its Hate Crimes datasets for analysis, at the beginning of 2020. This is a rather large dataset, containing over 2 million records, spanning from 2003 to the present, and is updated weekly. \n",
    "\n",
    "This is a self-paced project, conceived outside of both work and the educational arenas. It is my hope that this project will reveal some actionable insights that will benefit the Austin law enforcement community, news outlets, and anyone else interested in gaining knowledge on how best to combat the problem of crime in the Austin area.\n",
    "\n",
    "I first attempted importing the data into this notebook using Sodapy's Socrata API method but found it lacking. It didn't import the entire dataset, and added several redundant columns. I, therefore, prefer to manually download the entire dataset and re-download each week after it's updated."
   ]
  },
  {
   "cell_type": "code",
   "execution_count": 1,
   "metadata": {},
   "outputs": [],
   "source": [
    "# Importing essential libraries and configurations\n",
    "import pandas as pd\n",
    "import numpy as np\n",
    "import matplotlib.pyplot as plt\n",
    "import folium\n",
    "from folium import plugins\n",
    "import seaborn as sns \n",
    "import warnings\n",
    "\n",
    "plt.style.use('fivethirtyeight')\n",
    "%matplotlib inline\n",
    "warnings.filterwarnings('ignore')\n",
    "pd.set_option('display.max_columns', \n",
    "              None)"
   ]
  },
  {
   "cell_type": "code",
   "execution_count": 2,
   "metadata": {},
   "outputs": [],
   "source": [
    "# Loading the data\n",
    "df = pd.read_csv('crime_reports.csv')"
   ]
  },
  {
   "cell_type": "code",
   "execution_count": 3,
   "metadata": {
    "scrolled": false
   },
   "outputs": [
    {
     "name": "stdout",
     "output_type": "stream",
     "text": [
      "<class 'pandas.core.frame.DataFrame'>\n",
      "RangeIndex: 2277186 entries, 0 to 2277185\n",
      "Data columns (total 27 columns):\n",
      " #   Column                       Dtype  \n",
      "---  ------                       -----  \n",
      " 0   Incident Number              int64  \n",
      " 1   Highest Offense Description  object \n",
      " 2   Highest Offense Code         int64  \n",
      " 3   Family Violence              object \n",
      " 4   Occurred Date Time           object \n",
      " 5   Occurred Date                object \n",
      " 6   Occurred Time                float64\n",
      " 7   Report Date Time             object \n",
      " 8   Report Date                  object \n",
      " 9   Report Time                  float64\n",
      " 10  Location Type                object \n",
      " 11  Address                      object \n",
      " 12  Zip Code                     float64\n",
      " 13  Council District             float64\n",
      " 14  APD Sector                   object \n",
      " 15  APD District                 object \n",
      " 16  PRA                          object \n",
      " 17  Census Tract                 float64\n",
      " 18  Clearance Status             object \n",
      " 19  Clearance Date               object \n",
      " 20  UCR Category                 object \n",
      " 21  Category Description         object \n",
      " 22  X-coordinate                 float64\n",
      " 23  Y-coordinate                 float64\n",
      " 24  Latitude                     float64\n",
      " 25  Longitude                    float64\n",
      " 26  Location                     object \n",
      "dtypes: float64(9), int64(2), object(16)\n",
      "memory usage: 469.1+ MB\n"
     ]
    },
    {
     "data": {
      "text/plain": [
       "None"
      ]
     },
     "metadata": {},
     "output_type": "display_data"
    },
    {
     "name": "stdout",
     "output_type": "stream",
     "text": [
      "----------------------------------\n"
     ]
    },
    {
     "data": {
      "text/plain": [
       "0"
      ]
     },
     "metadata": {},
     "output_type": "display_data"
    },
    {
     "name": "stdout",
     "output_type": "stream",
     "text": [
      "----------------------------------\n"
     ]
    },
    {
     "data": {
      "text/plain": [
       "Incident Number                      0\n",
       "Highest Offense Description          0\n",
       "Highest Offense Code                 0\n",
       "Family Violence                      0\n",
       "Occurred Date Time                 165\n",
       "Occurred Date                        0\n",
       "Occurred Time                       84\n",
       "Report Date Time                     1\n",
       "Report Date                          0\n",
       "Report Time                          1\n",
       "Location Type                    20861\n",
       "Address                             12\n",
       "Zip Code                         13891\n",
       "Council District                 47007\n",
       "APD Sector                        8814\n",
       "APD District                      9284\n",
       "PRA                              10524\n",
       "Census Tract                   1466019\n",
       "Clearance Status                603439\n",
       "Clearance Date                  334230\n",
       "UCR Category                   1502526\n",
       "Category Description           1502526\n",
       "X-coordinate                      9947\n",
       "Y-coordinate                      9947\n",
       "Latitude                         38411\n",
       "Longitude                        38411\n",
       "Location                         38411\n",
       "dtype: int64"
      ]
     },
     "metadata": {},
     "output_type": "display_data"
    }
   ],
   "source": [
    "# Examining the dataframe\n",
    "display(df.info())\n",
    "print('----------------------------------')\n",
    "display(df.duplicated().sum())\n",
    "print('----------------------------------')\n",
    "display(df.isnull().sum())"
   ]
  },
  {
   "cell_type": "markdown",
   "metadata": {},
   "source": [
    "## II. Data Scrubbing\n",
    "\n",
    "There are several columns of data we don't need. We'll drop those and also scrub the Columns were keeping for analysis. Mainly, we want the zip code and address columns to be free of nulls and duplicates. \n",
    "\n",
    "The 'clearance status' column contains 3 types of statuses: Y for Yes, N for No, and O which stands for \"cleared by other means than arrest.\" Therefore, I changed it to boolean type:  Y and O as True, and N as False. However, you may note that areas, where there is no clearance status at all, may or may not contain a corresponding date in the clearance date column. I am unsure how best to handle this so I am open to suggestions or advice. I also converted the 'family violence' column to boolean type.  "
   ]
  },
  {
   "cell_type": "code",
   "execution_count": null,
   "metadata": {
    "scrolled": false
   },
   "outputs": [],
   "source": [
    "# Script for scrubbing the data\n",
    "def clean_data(df):\n",
    "    drop_col = ['Occurred Time', \n",
    "                'Occurred Date', \n",
    "                'Report Date', \n",
    "                'Report Time', \n",
    "                'Census Tract', \n",
    "                'UCR Category', \n",
    "                'Category Description', \n",
    "                'X-coordinate', \n",
    "                'Y-coordinate', \n",
    "                'Location']\n",
    "    df.drop(drop_col, \n",
    "            axis=1, \n",
    "            inplace=True)\n",
    "    #clean_col = ['Zip Code', \n",
    "    #            'Report Date Time', \n",
    "    #             'Occurred Date Time'] \n",
    "    #df.dropna(subset =clean_col, \n",
    "    #          inplace=True)\n",
    "    df.rename(columns=lambda x: x.strip().lower().replace(\" \", \n",
    "                                                          \"_\"), \n",
    "              inplace=True)\n",
    "    \"\"\"Convert the following to bools\"\"\"\n",
    "    d = {'Y': True, \n",
    "         'N': False}\n",
    "    e = {'C': True, \n",
    "         'O': True, \n",
    "         'N': False}\n",
    "    df.clearance_status = df.clearance_status.map(e)\n",
    "    df.clearance_status = df.clearance_status.astype('bool')\n",
    "    df.family_violence  = df.family_violence.map(d)\n",
    "    df.family_violence  = df.family_violence.astype('bool') \n",
    "    \"\"\"Convert the following to datetime type\"\"\"\n",
    "    date_col = ['occurred_date_time', \n",
    "                'clearance_date', \n",
    "                'report_date_time'] \n",
    "    \"\"\"Convert the following to category type\"\"\"\n",
    "    cat_col  = ['highest_offense_description', \n",
    "                'location_type', \n",
    "                'apd_sector', \n",
    "                'pra', \n",
    "                'council_district', \n",
    "                'zip_code'] \n",
    "    df[date_col] = df[date_col].astype('datetime64') \n",
    "    df[cat_col]  = df[cat_col].astype('category') \n",
    "    \"\"\"Creating new time columns and an index out of the 'occured date time' column\"\"\"\n",
    "    df['year']  = pd.to_datetime(df['occurred_date_time'], \n",
    "                                 format='%m/%d/%Y').dt.year \n",
    "    df['month'] = pd.to_datetime(df['occurred_date_time'], \n",
    "                                 format='%m/%d/%Y').dt.month\n",
    "    df['week']  = pd.to_datetime(df['occurred_date_time'], \n",
    "                                 format='%m/%d/%Y').dt.week\n",
    "    df['day']   = pd.to_datetime(df['occurred_date_time'], \n",
    "                                 format='%m/%d/%Y').dt.day\n",
    "    df['hour']  = pd.to_datetime(df['occurred_date_time'], \n",
    "                                 format='%m/%d/%Y').dt.hour\n",
    "    df.set_index(['occurred_date_time'], \n",
    "                 inplace=True)\n",
    "    df.sort_index(inplace=True)\n",
    "    return df\n",
    "df = clean_data(df)"
   ]
  },
  {
   "cell_type": "code",
   "execution_count": null,
   "metadata": {},
   "outputs": [],
   "source": [
    "# Rechecking the dataframe \n",
    "display(df.isnull().sum())\n",
    "print('----------------------------------')\n",
    "display(df.dtypes)\n",
    "print('----------------------------------')\n",
    "display(df.head())\n",
    "print('----------------------------------')\n",
    "display(df.tail())"
   ]
  },
  {
   "cell_type": "markdown",
   "metadata": {},
   "source": [
    "## III. Exploratory Analysis"
   ]
  },
  {
   "cell_type": "markdown",
   "metadata": {},
   "source": [
    "First, let's get an overall look at crime rates and how they trend over time..."
   ]
  },
  {
   "cell_type": "markdown",
   "metadata": {},
   "source": [
    "### Overall crime rates over time "
   ]
  },
  {
   "cell_type": "code",
   "execution_count": null,
   "metadata": {},
   "outputs": [],
   "source": [
    "figsize=(20,10)\n",
    "\n",
    "# Creating and visualizing a data frame for the overall yearly crime rate since 2003\n",
    "crimes_per_year = df['year'].value_counts().sort_index() \n",
    "\n",
    "g = sns.barplot(x=crimes_per_year.index, \n",
    "                y=crimes_per_year.values)\n",
    "g.set_xticklabels(g.get_xticklabels(), \n",
    "                  rotation=60)\n",
    "g.set(xlabel='Year', \n",
    "      ylabel='Crimes Reported', \n",
    "      title ='Annual Crime Rates')\n",
    "plt.show()\n",
    "\n",
    "# Creating and visualizing a data frame for the overall yearly crime rate since 2003\n",
    "crimes_per_month = df['month'].value_counts().sort_index() \n",
    "\n",
    "d = sns.barplot(x=crimes_per_month.index, \n",
    "                y=crimes_per_month.values)\n",
    "d.set_xticklabels(d.get_xticklabels(), \n",
    "                  rotation=60)\n",
    "d.set(xlabel='Month', \n",
    "      ylabel='Crimes Reported', \n",
    "      title ='Monthly Crime Rates')\n",
    "plt.show()\n",
    "\n",
    "# Overall hourly crime rates as well\n",
    "crimes_per_hour = df['hour'].value_counts().sort_index()\n",
    "\n",
    "e = sns.barplot(x=crimes_per_hour.index, \n",
    "                y=crimes_per_hour.values)\n",
    "e.set_xticklabels(e.get_xticklabels(), \n",
    "                  rotation=60)\n",
    "e.set(xlabel='Hour', \n",
    "      ylabel='Crimes Reported', \n",
    "      title ='Hourly Crime Rates')\n",
    "plt.show()"
   ]
  },
  {
   "cell_type": "markdown",
   "metadata": {},
   "source": [
    "### Top 50 crime types "
   ]
  },
  {
   "cell_type": "code",
   "execution_count": null,
   "metadata": {},
   "outputs": [],
   "source": [
    "df.highest_offense_description.value_counts().head(50).sort_values().plot.barh(figsize=(9,10), \n",
    "                                                                               title ='Top 50 crime types since 2003')"
   ]
  },
  {
   "cell_type": "markdown",
   "metadata": {},
   "source": [
    "Between 2003 and now, crime peaked in 2008 and continued a downward trend until 2019 when it rose again. Since we're still in 2020, we have to wait until the end of the year to see what 2020 yields. "
   ]
  },
  {
   "cell_type": "markdown",
   "metadata": {},
   "source": [
    "<a id='q1'></a>\n",
    "### A. Question 1. What areas of Austin have the highest crime rates? "
   ]
  },
  {
   "cell_type": "code",
   "execution_count": null,
   "metadata": {
    "scrolled": false
   },
   "outputs": [],
   "source": [
    "# Create and show dataframe for crime rates by zipcode and then as percentages\n",
    "zip_codes = df.zip_code.value_counts().head(25)\n",
    "display(zip_codes)\n",
    "print('----------------------------------')\n",
    "display(df.zip_code.value_counts(normalize=True).head(25))\n",
    "\n",
    "\n",
    "# Visualizing the top 25 areas for crime \n",
    "df.zip_code.value_counts().head(25).plot.bar(rot=60, \n",
    "                                             title='Top 25 Zipcodes (2003-Present)')\n",
    "plt.show()"
   ]
  },
  {
   "cell_type": "markdown",
   "metadata": {},
   "source": [
    "Out of all the areas in Austin, 78741 has the highest percentage of overall crime at 9.14%. This is a significant 1.29 percentage points higher than the number 2 area 78753 which hosts 7.85% of overall crime."
   ]
  },
  {
   "cell_type": "markdown",
   "metadata": {},
   "source": [
    "#### Taking a closer look at particular areas... \n",
    "\n",
    "Because 78753 is my resident zipcode, I chose to examine it first. \n",
    "\n",
    "Next, I'll examine 78741. "
   ]
  },
  {
   "cell_type": "markdown",
   "metadata": {},
   "source": [
    "<a id='q2'></a>\n",
    "### B. Question 2. How is crime distributed in 78753? "
   ]
  },
  {
   "cell_type": "code",
   "execution_count": null,
   "metadata": {
    "scrolled": false
   },
   "outputs": [],
   "source": [
    "# Examining crime in the 78753 area\n",
    "df_53 = df[df.zip_code == 78753]\n",
    "\n",
    "# Create a dataframe for the top 10 crime categories in the zipcode\n",
    "df_53_off = df_53.highest_offense_description.value_counts().head(22)\n",
    "\n",
    "# Display the different crime values & then as percentages \n",
    "display(df_53_off)\n",
    "print('----------------------------------')\n",
    "display(df_53.highest_offense_description.value_counts(normalize=True).head(22))\n",
    "\n",
    "df_53_off.plot.pie(figsize=(8,8), \n",
    "                   title ='Crime Distribution (78753)')"
   ]
  },
  {
   "cell_type": "markdown",
   "metadata": {},
   "source": [
    "<a id='q3'></a>\n",
    "### C. Question 3. How is crime distributed in 78741? "
   ]
  },
  {
   "cell_type": "code",
   "execution_count": null,
   "metadata": {
    "scrolled": false
   },
   "outputs": [],
   "source": [
    "# Create a dataframe for crime in the 78741 area (the highest amount of crime of any Austin zip code)\n",
    "df_41 = df[df.zip_code == 78741]\n",
    "\n",
    "# Create a dataframe for the top 10 crime categories in the zipcode\n",
    "df_41_off = df_41.highest_offense_description.value_counts().head(21)\n",
    "\n",
    "# Display the different crime values & then as percentages \n",
    "display(df_41_off)\n",
    "print('----------------------------------')\n",
    "display(df_41.highest_offense_description.value_counts(normalize=True).head(21))\n",
    "\n",
    "df_41_off.plot.pie(figsize=(8,8), \n",
    "                   title ='Crime Distribution (78741)')"
   ]
  },
  {
   "cell_type": "markdown",
   "metadata": {},
   "source": [
    "<a id='q4'></a>\n",
    "### D. Question 4. How are violent crimes, in particular murder, capital murder, aggrivated assault, and rape distributed? "
   ]
  },
  {
   "cell_type": "markdown",
   "metadata": {},
   "source": [
    "***The following line of code shows crime rates only >= 1% per zipcode.***"
   ]
  },
  {
   "cell_type": "code",
   "execution_count": null,
   "metadata": {
    "scrolled": false
   },
   "outputs": [],
   "source": [
    "# Creating an overall and separate dataframes for violent crime\n",
    "df_viol = df.query('highest_offense_description     == [\"MURDER\", \"CAPITAL MURDER\", \"RAPE\", \"AGG ASSAULT\"]') \n",
    "df_viol_mur = df.query('highest_offense_description == [\"MURDER\", \"CAPITAL MURDER\"]')\n",
    "df_mur = df[df.highest_offense_description          == 'MURDER']\n",
    "df_mur_cap = df[df.highest_offense_description      == 'CAPITAL MURDER']\n",
    "df_agg_asslt = df[df.highest_offense_description    == 'AGG ASSAULT']\n",
    "df_rape = df[df.highest_offense_description         == 'RAPE']\n",
    "\n",
    "\n",
    "# Visualizing violent crimes per year\n",
    "viol_per_year = df_viol['year'].value_counts().sort_index()\n",
    "viol_per_year.plot.bar(rot=60,\n",
    "                       title='Annual Violent Crime Rates (2003-Present)', \n",
    "                       fontsize=12)\n",
    "plt.show()\n",
    "\n",
    "# Visualizing murders per year\n",
    "viol_mur_per_year = df_viol_mur.year.value_counts().sort_index()\n",
    "viol_mur_per_year.plot.bar(rot=60,\n",
    "                           title='Annual Murder Rates (2003-Present)', \n",
    "                           fontsize=12)\n",
    "plt.show()\n",
    "\n",
    "#Violent Crime by Zipcode\n",
    "display(df_viol.zip_code.value_counts(normalize=True).head(25))\n",
    "df_viol.zip_code.value_counts().head(25).plot.bar(title='Top Zipcodes for Violent Crime', \n",
    "                                                  fontsize=12, \n",
    "                                                  rot=60)\n",
    "plt.show()\n",
    "\n",
    "# Murder by Zipcode\n",
    "display (df_viol_mur.zip_code.value_counts(normalize=True).head(25))\n",
    "df_viol_mur.zip_code.value_counts().head(25).plot.bar(fontsize=12, \n",
    "                                                      title='Top Zipcodes for Murder', \n",
    "                                                      rot=60)\n",
    "plt.show()\n",
    "        \n",
    "mur_by_month = df_viol_mur['month'].value_counts().sort_index()\n",
    "mur_by_hour = df_viol_mur['hour'].value_counts().sort_index()\n",
    "\n",
    "# Visualizing monthly & hourly murder rate with Seaborn\n",
    "v = sns.barplot(x=mur_by_month.index, \n",
    "                y=mur_by_month.values)\n",
    "v.set_xticklabels(v.get_xticklabels(), \n",
    "                  rotation=60)\n",
    "v.set(xlabel='Month', \n",
    "      ylabel='Crimes Reported', \n",
    "      title ='Monthly Murder Rates (2003-Present)')\n",
    "plt.show()\n",
    "\n",
    "f = sns.barplot(x=mur_by_hour.index, \n",
    "                y=mur_by_hour.values)\n",
    "f.set_xticklabels(f.get_xticklabels(), \n",
    "                  rotation=60)\n",
    "f.set(xlabel='Hour', \n",
    "      ylabel='Crimes Reported', \n",
    "      title ='Hourly Murder Rates (2003-Present)')\n",
    "plt.show()\n",
    "\n",
    "# Calculating and visualizing frequency rate of violent crimes by zipcode\n",
    "viol_freq = pd.crosstab(df_viol.zip_code, \n",
    "                        df_viol.highest_offense_description)\n",
    "\n",
    "display(viol_freq)\n",
    "\n",
    "viol_freq.plot.bar(figsize=figsize, \n",
    "                   title='Violent Crime Distribution by Zipcode and Type since 2003', \n",
    "                   fontsize=12, \n",
    "                   stacked=True, \n",
    "                   rot=60)\n",
    "plt.show()\n",
    "\n",
    "viol_mur_freq = pd.crosstab(df_viol_mur.zip_code, \n",
    "                            df_viol_mur.highest_offense_description)\n",
    "\n",
    "viol_mur_freq.plot.bar(figsize=figsize, \n",
    "                       title='Murder Distribution by Zipcode and Type since 2003', \n",
    "                       fontsize=12, \n",
    "                       stacked=True,  \n",
    "                       rot=60)\n",
    "plt.show()"
   ]
  },
  {
   "cell_type": "code",
   "execution_count": null,
   "metadata": {},
   "outputs": [],
   "source": [
    "viol_freq.to_csv('viol_freq.csv')"
   ]
  },
  {
   "cell_type": "markdown",
   "metadata": {},
   "source": [
    "According to the data , 2010 and 2016 had the most number of murders . Alarmingly, as of 10/19/2020, murders already totaled 34--the same amount for 2016 and 2010!!"
   ]
  },
  {
   "cell_type": "markdown",
   "metadata": {},
   "source": [
    "<a id='q5'></a>\n",
    "### E. Question 5. What significance has the family violence factor played over time? "
   ]
  },
  {
   "cell_type": "code",
   "execution_count": null,
   "metadata": {
    "scrolled": false
   },
   "outputs": [],
   "source": [
    "# Taking a look at first at the overall crime set\n",
    "display(df.family_violence.mean())\n",
    "\n",
    "print('----------------------------------')\n",
    "display(df.groupby(df.index.year).family_violence.mean())\n",
    "\n",
    "hrly_fam_viol_occurrences = df.groupby(df.index.year).family_violence.mean()\n",
    "\n",
    "fam_viol_avg = df.groupby(df.index.year).family_violence.mean()\n",
    "\n",
    "fam_viol_avg.plot(rot=60, \n",
    "                  title='Overall Family Violence Percentages (2003-Present)')\n",
    "plt.show()\n",
    "\n",
    "# Now taking a look at violent crime specifically \n",
    "display(df_viol.family_violence.mean())\n",
    "\n",
    "print('----------------------------------')\n",
    "display(df_viol.groupby(df_viol.index.year).family_violence.mean())\n",
    "\n",
    "viol_hrly_fam_viol_occurrences = df_viol.groupby(df_viol.index.year).family_violence.mean()\n",
    "\n",
    "viol_fam_viol_avg = df_viol.groupby(df_viol.index.year).family_violence.mean()\n",
    "\n",
    "viol_fam_viol_avg.plot(rot=60, \n",
    "                       title='Violent Crime and Family Violence (2003-Present)')\n",
    "plt.show()\n",
    "\n",
    "# Now taking a look at murder with the family violence factor included \n",
    "display(df_viol_mur.family_violence.mean())\n",
    "\n",
    "print('----------------------------------')\n",
    "display(df_viol_mur.groupby(df_viol_mur.index.year).family_violence.mean())\n",
    "\n",
    "mur_hrly_fam_viol_occurrences = df_viol_mur.groupby(df_viol_mur.index.year).family_violence.mean()\n",
    "\n",
    "mur_fam_viol_avg = df_viol_mur.groupby(df_viol_mur.index.year).family_violence.mean()\n",
    "\n",
    "mur_fam_viol_avg.plot(rot=60, \n",
    "                      title='Murder and Family Violence (2003-Present)')\n",
    "plt.show()\n",
    "\n",
    "# Now taking a look at rape with the family violence factor included \n",
    "display(df_rape.family_violence.mean())\n",
    "\n",
    "print('----------------------------------')\n",
    "display(df_rape.groupby(df_rape.index.year).family_violence.mean())\n",
    "\n",
    "rape_hrly_fam_viol_occurrences = df_rape.groupby(df_rape.index.year).family_violence.mean()\n",
    "\n",
    "rape_fam_viol_avg = df_rape.groupby(df_rape.index.year).family_violence.mean()\n",
    "\n",
    "rape_fam_viol_avg.plot(rot=60, \n",
    "                       title='Rape and Family Violence(2003-Present)')\n",
    "plt.show()\n",
    "\n",
    "# Now taking a look at aggrivated assault with the family violence factor included \n",
    "display(df_rape.family_violence.mean())\n",
    "\n",
    "print('----------------------------------')\n",
    "display(df_agg_asslt.groupby(df_agg_asslt.index.year).family_violence.mean())\n",
    "\n",
    "agg_asslt_fam_viol_avg = df_agg_asslt.groupby(df_agg_asslt.index.year).family_violence.mean()\n",
    "\n",
    "agg_asslt_fam_viol_avg.plot(rot=60, \n",
    "                            title='Aggrivated Assault and Family Violence (2003-Present)')\n",
    "plt.show()"
   ]
  },
  {
   "cell_type": "markdown",
   "metadata": {},
   "source": [
    "Overall, family violence is seeing an upward trend as a crime factor. Violent crime saw an alarming upward trend of the family violence factor, as well. Rapes, for example, involved the family violence factor a 3rd of the time in 2016 whereas in 2004, family violence was involved less than 1% of the time. "
   ]
  },
  {
   "cell_type": "markdown",
   "metadata": {},
   "source": [
    "<a id='q6'></a>\n",
    "### F. Question 6. How does murder appear on the map? "
   ]
  },
  {
   "cell_type": "code",
   "execution_count": null,
   "metadata": {},
   "outputs": [],
   "source": [
    "# As a heatmap\n",
    "mur_coords_heat = df_viol_mur[(df_viol_mur['latitude'].isnull() == False) \n",
    "                           & (df_viol_mur['longitude'].isnull() == False)]\n",
    "\n",
    "k = folium.Map(location=[30.2672, -97.7431], \n",
    "               tiles='OpenStreetMap', \n",
    "               zoom_start=11) \n",
    "                         \n",
    "k.add_child(plugins.HeatMap(mur_coords_heat[['latitude', \n",
    "                                             'longitude']].values, \n",
    "                            radius=15))\n",
    "\n",
    "k.save(outfile='aus_mur_heatmap.html')\n",
    "\n",
    "k"
   ]
  },
  {
   "cell_type": "code",
   "execution_count": null,
   "metadata": {},
   "outputs": [],
   "source": [
    "# Pinpointing individual addresses\n",
    "mur_coords_add  = df_viol_mur[(df_viol_mur['latitude'].isnull() == False) \n",
    "                           & (df_viol_mur['longitude'].isnull() == False)]\n",
    "\n",
    "# Making a folium map using incident lat and lon\n",
    "m = folium.Map([30.2672, -97.7431], \n",
    "               tiles='Stamen Toner', \n",
    "               zoom_level=12)\n",
    "\n",
    "for index, row in mur_coords_add.iterrows():\n",
    "\tlat = row['latitude']\n",
    "\tlon = row['longitude']\n",
    "\tname= row['address']\n",
    "\tfolium.Marker([lat, lon], \n",
    "                  popup=name).add_to(m)\n",
    "    \n",
    "m.save(outfile='aus_mur_map.html')\n",
    "\n",
    "m"
   ]
  },
  {
   "cell_type": "markdown",
   "metadata": {},
   "source": [
    "## Are there any addresses where murder occurs frequently?"
   ]
  },
  {
   "cell_type": "code",
   "execution_count": null,
   "metadata": {},
   "outputs": [],
   "source": [
    "df_viol_mur.address.value_counts().head(31)"
   ]
  },
  {
   "cell_type": "code",
   "execution_count": null,
   "metadata": {},
   "outputs": [],
   "source": [
    "temp = df.groupby(['zip_code', 'year'])['location_type'].count().sort_values(ascending=False).reset_index()\n",
    "df2 = temp.pivot('zip_code', 'year', 'location_type')\n",
    "df2 = df2.fillna(0)"
   ]
  },
  {
   "cell_type": "code",
   "execution_count": null,
   "metadata": {},
   "outputs": [],
   "source": [
    "df_viol_mur.to_csv('datasets\\df_viol_mur.csv')"
   ]
  },
  {
   "cell_type": "code",
   "execution_count": null,
   "metadata": {},
   "outputs": [],
   "source": [
    "plt.figure(figsize=(12,6))\n",
    "sns.relplot(x='week', \n",
    "            y='year', \n",
    "            data=df_viol_mur, \n",
    "            kind='line')\n",
    "plt.show()"
   ]
  },
  {
   "cell_type": "markdown",
   "metadata": {},
   "source": [
    "## IV. Summary\n",
    "Needless to say, violent crimes go hand-in-hand with other violent crimes.\n",
    "\n",
    "So far, 78753 and 78741 are the top hotspots for all sorts of crime in Austin, including violent crime. 78753 accounts for 10.85% while  78741 accounts for 10.64% of total murders.\n",
    "\n",
    "#### ***It is important to note that murder does not necessarily make the defendant(s) automatically eligible for the death penalty. Under Texas law, we distinguish capital murder, through the motives and actions of the defendant(s) during the commission of a homicide, as whether or not automatically warranting an eventual date with the executioner. This includes such things as if the homicide was premeditated or not, if the defendant(s) murdered a police officer, etc.***\n",
    "\n",
    "78723 comes in at number one with 14.1% of total capital murders. \n",
    "\n",
    "Next, 78741 climbs back to claim the number 1 spot for rape at 12.09% -- 3.43 percentage points higher than the number 2 spot 78753 carrying 8.66% which is quite a significant lead when you look at it on the graph!! Why does rape occur so much more often in this area than in others?\n",
    "\n",
    "A peculiar outlier is zipcode 78731. Although violent crime frequency ranks amongst the lowest there, rape accounts for over 50% of violent crimes committed in that area. Why is that? \n",
    "\n",
    "Astonishingly the family violence factor played an ever increasing role over over time, in regards to violent crime. From 2003 to 2015, family violence increased by nearly 10 percentage points--meaning you were likely to be the victim of a family member, during the commission of a rape, aggrivated assault, murder, or capital murder, only 3.15% of the time in 2003. But by 2015, that same likelihood rose to 12.82%!"
   ]
  }
 ],
 "metadata": {
  "kernelspec": {
   "display_name": "Python 3",
   "language": "python",
   "name": "python3"
  },
  "language_info": {
   "codemirror_mode": {
    "name": "ipython",
    "version": 3
   },
   "file_extension": ".py",
   "mimetype": "text/x-python",
   "name": "python",
   "nbconvert_exporter": "python",
   "pygments_lexer": "ipython3",
   "version": "3.8.3"
  }
 },
 "nbformat": 4,
 "nbformat_minor": 4
}
