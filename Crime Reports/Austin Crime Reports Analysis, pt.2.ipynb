{
 "cells": [
  {
   "cell_type": "markdown",
   "metadata": {},
   "source": [
    "# Austin Crime Reports Analysis, Pt.2\n",
    "\n",
    "After completing the first notebook, I did some further analysis in Excel with parts of the dataset I saved to individual csv files. In particular, I separated the address column into street numbers and names to add some dimension."
   ]
  },
  {
   "cell_type": "code",
   "execution_count": 1,
   "metadata": {},
   "outputs": [],
   "source": [
    "# Importing essential libraries and configurations\n",
    "%matplotlib inline\n",
    "\n",
    "import pandas as pd\n",
    "import numpy as np\n",
    "import matplotlib.pyplot as plt\n",
    "import seaborn as sns\n",
    "import warnings\n",
    "warnings.filterwarnings('ignore')\n",
    "\n",
    "pd.set_option('display.max_columns', None)"
   ]
  },
  {
   "cell_type": "code",
   "execution_count": 2,
   "metadata": {},
   "outputs": [],
   "source": [
    "# Loading the dataframes\n",
    "df_mur = pd.read_csv('df_mur.csv')\n",
    "df_mur_cap = pd.read_csv('df_mur_cap.csv')\n",
    "df_rape = pd.read_csv('df_rape.csv')"
   ]
  },
  {
   "cell_type": "code",
   "execution_count": 3,
   "metadata": {
    "scrolled": false
   },
   "outputs": [],
   "source": [
    "df_mur.report_date_time = df_mur.report_date_time.astype('datetime64')\n",
    "df_mur.set_index(['report_date_time'], inplace=True)\n",
    "df_mur.sort_index(inplace=True)\n",
    "\n",
    "df_mur_cap.report_date_time = df_mur_cap.report_date_time.astype('datetime64')\n",
    "df_mur_cap.set_index(['report_date_time'], inplace=True)\n",
    "df_mur_cap.sort_index(inplace=True)\n",
    "\n",
    "df_rape.report_date_time = df_rape.report_date_time.astype('datetime64')\n",
    "df_rape.set_index(['report_date_time'], inplace=True)\n",
    "df_rape.sort_index(inplace=True)\n",
    "\n",
    "# Converting columns to their appropriate data types\n",
    "df_mur.clearance_date = df_mur.clearance_date.astype('datetime64')\n",
    "df_mur.occurred_date = df_mur.occurred_date.astype('datetime64')\n",
    "df_mur.highest_offense_code = df_mur.highest_offense_code.astype('int64')\n",
    "\n",
    "df_mur_cap.clearance_date = df_mur_cap.clearance_date.astype('datetime64')\n",
    "df_mur_cap.occurred_date = df_mur_cap.occurred_date.astype('datetime64')\n",
    "df_mur_cap.highest_offense_code = df_mur_cap.highest_offense_code.astype('int64')\n",
    "\n",
    "df_rape.clearance_date = df_rape.clearance_date.astype('datetime64')\n",
    "df_rape.occurred_date = df_rape.occurred_date.astype('datetime64')\n",
    "df_rape.highest_offense_code = df_rape.highest_offense_code.astype('int64')"
   ]
  },
  {
   "cell_type": "markdown",
   "metadata": {},
   "source": [
    "## How are violent crimes distributed..."
   ]
  },
  {
   "cell_type": "markdown",
   "metadata": {},
   "source": [
    "### Question 1. Are there any addresses in Austin, known to be hotspots for violent crime? \n",
    "\n",
    "Note: For non-capital murder, in the following code, I am only including results that have hosted 2 incidents or more. For rape, I am only including the top 50 results."
   ]
  },
  {
   "cell_type": "code",
   "execution_count": 4,
   "metadata": {
    "scrolled": false
   },
   "outputs": [
    {
     "name": "stdout",
     "output_type": "stream",
     "text": [
      "-----------------------------------------------\n",
      "Addresses where violent crimes most often occur\n",
      "-----------------------------------------------\n",
      "Murder\n",
      "----------------------------------\n"
     ]
    },
    {
     "data": {
      "text/plain": [
       "8610 N LAMAR BLVD           3\n",
       "4700 E RIVERSIDE DR         3\n",
       "8800 N IH 35 SVRD SB        3\n",
       "2501 ANKEN DR               2\n",
       "2508 E RIVERSIDE DR         2\n",
       "1050 SPRINGDALE RD          2\n",
       "9010 GALEWOOD DR            2\n",
       "10610 MORADO CIR            2\n",
       "6409 SPRINGDALE RD          2\n",
       "9220 N IH 35 SVRD SB        2\n",
       "9601 MIDDLE FISKVILLE RD    2\n",
       "6118 FAIRWAY ST             2\n",
       "2400 WICKERSHAM LN          2\n",
       "1137 GUNTER ST              2\n",
       "6407 SPRINGDALE RD          2\n",
       "833 FAIRFIELD DR            2\n",
       "2713 S CONGRESS AVE         2\n",
       "9200 NORTH PLZ              2\n",
       "201 W 5TH ST                2\n",
       "601 E 15TH ST               2\n",
       "2915 S IH 35 SVRD NB        2\n",
       "8912 N LAMAR BLVD           2\n",
       "Name: address, dtype: int64"
      ]
     },
     "metadata": {},
     "output_type": "display_data"
    },
    {
     "name": "stdout",
     "output_type": "stream",
     "text": [
      "----------------------------------\n"
     ]
    },
    {
     "data": {
      "text/plain": [
       "8610 N LAMAR BLVD           0.007792\n",
       "4700 E RIVERSIDE DR         0.007792\n",
       "8800 N IH 35 SVRD SB        0.007792\n",
       "2501 ANKEN DR               0.005195\n",
       "2508 E RIVERSIDE DR         0.005195\n",
       "1050 SPRINGDALE RD          0.005195\n",
       "9010 GALEWOOD DR            0.005195\n",
       "10610 MORADO CIR            0.005195\n",
       "6409 SPRINGDALE RD          0.005195\n",
       "9220 N IH 35 SVRD SB        0.005195\n",
       "9601 MIDDLE FISKVILLE RD    0.005195\n",
       "6118 FAIRWAY ST             0.005195\n",
       "2400 WICKERSHAM LN          0.005195\n",
       "1137 GUNTER ST              0.005195\n",
       "6407 SPRINGDALE RD          0.005195\n",
       "833 FAIRFIELD DR            0.005195\n",
       "2713 S CONGRESS AVE         0.005195\n",
       "9200 NORTH PLZ              0.005195\n",
       "201 W 5TH ST                0.005195\n",
       "601 E 15TH ST               0.005195\n",
       "2915 S IH 35 SVRD NB        0.005195\n",
       "8912 N LAMAR BLVD           0.005195\n",
       "Name: address, dtype: float64"
      ]
     },
     "metadata": {},
     "output_type": "display_data"
    },
    {
     "name": "stdout",
     "output_type": "stream",
     "text": [
      "----------------------------------\n",
      "Capital Murder\n",
      "----------------------------------\n"
     ]
    },
    {
     "data": {
      "text/plain": [
       "815 W SLAUGHTER LN              2\n",
       "7000 DECKER LN                  2\n",
       "9200 NORTH PLAZA                1\n",
       "12900 N IH 35 SVRD SB           1\n",
       "2100 HOLLY ST                   1\n",
       "612 DENSON DR                   1\n",
       "5603 PORSCHE LN                 1\n",
       "1200 E 52ND ST                  1\n",
       "1500 BLOCK BURTON DR            1\n",
       "1811 J J SEABROOK DR            1\n",
       "6900 BLOCK BLESSING AVE         1\n",
       "11701 METRIC BLVD               1\n",
       "2812 NUECES ST                  1\n",
       "3128 MANOR RD                   1\n",
       "4708 WHISPERING VALLEY DR       1\n",
       "360 NUECES ST                   1\n",
       "2110 E 4TH ST                   1\n",
       "1711 RUTLAND DR                 1\n",
       "6103 HYSIDE DR                  1\n",
       "1200 BLOCK E 38TH HALF ST       1\n",
       "6323 SHADOW BND                 1\n",
       "1105 DARVONE CIR                1\n",
       "5700 CAMERON RD                 1\n",
       "2904 PECAN SPRINGS RD           1\n",
       "11040 KIRKOSWALD RD             1\n",
       "1030 NORWOOD PARK BLVD          1\n",
       "12334 COPPERFIELD DR            1\n",
       "605 MASTERSON PASS              1\n",
       "4600 BLOCK BANDERA RD           1\n",
       "6808 MONTANA ST                 1\n",
       "                               ..\n",
       "6407 SPRINGDALE RD              1\n",
       "600 BARWOOD PARK                1\n",
       "2803 SCENIC DR                  1\n",
       "8312 N I 35 SB SVC RD           1\n",
       "1620 RUTLAND DR                 1\n",
       "1401 E RUNDBERG LN              1\n",
       "5305 SUMMER DR                  1\n",
       "1500 E 6TH ST                   1\n",
       "2005 WILLOW CREEK DR            1\n",
       "311 DELMAR AVE                  1\n",
       "4708 TANNEY ST                  1\n",
       "501 E BEN WHITE BLVD SVRD EB    1\n",
       "1101 REINLI ST                  1\n",
       "7401 N LAMAR BLVD               1\n",
       "2200 BLOCK ELMONT DR            1\n",
       "1215 SOUTHPORT DR               1\n",
       "7103 TEABERRY DR                1\n",
       "5600 BLOCK MANOR RD             1\n",
       "8100 BLOCK SONNET AVE           1\n",
       "7500 N LAMAR BLVD               1\n",
       "412 E WILLIAM CANNON DR         1\n",
       "2700 BLOCK S CONGRESS AVE       1\n",
       "9210 NORTHGATE BLVD             1\n",
       "744 W WILLIAM CANNON DR         1\n",
       "9036 N LAMAR BLVD               1\n",
       "4900 E OLTORF ST                1\n",
       "6802 ISABELLE DR                1\n",
       "3210 KRAMER LN                  1\n",
       "6600 ED BLUESTEIN BLVD SB       1\n",
       "10503 N LAMAR BLVD              1\n",
       "Name: address, Length: 77, dtype: int64"
      ]
     },
     "metadata": {},
     "output_type": "display_data"
    },
    {
     "name": "stdout",
     "output_type": "stream",
     "text": [
      "----------------------------------\n"
     ]
    },
    {
     "data": {
      "text/plain": [
       "815 W SLAUGHTER LN              0.025316\n",
       "7000 DECKER LN                  0.025316\n",
       "9200 NORTH PLAZA                0.012658\n",
       "12900 N IH 35 SVRD SB           0.012658\n",
       "2100 HOLLY ST                   0.012658\n",
       "612 DENSON DR                   0.012658\n",
       "5603 PORSCHE LN                 0.012658\n",
       "1200 E 52ND ST                  0.012658\n",
       "1500 BLOCK BURTON DR            0.012658\n",
       "1811 J J SEABROOK DR            0.012658\n",
       "6900 BLOCK BLESSING AVE         0.012658\n",
       "11701 METRIC BLVD               0.012658\n",
       "2812 NUECES ST                  0.012658\n",
       "3128 MANOR RD                   0.012658\n",
       "4708 WHISPERING VALLEY DR       0.012658\n",
       "360 NUECES ST                   0.012658\n",
       "2110 E 4TH ST                   0.012658\n",
       "1711 RUTLAND DR                 0.012658\n",
       "6103 HYSIDE DR                  0.012658\n",
       "1200 BLOCK E 38TH HALF ST       0.012658\n",
       "6323 SHADOW BND                 0.012658\n",
       "1105 DARVONE CIR                0.012658\n",
       "5700 CAMERON RD                 0.012658\n",
       "2904 PECAN SPRINGS RD           0.012658\n",
       "11040 KIRKOSWALD RD             0.012658\n",
       "1030 NORWOOD PARK BLVD          0.012658\n",
       "12334 COPPERFIELD DR            0.012658\n",
       "605 MASTERSON PASS              0.012658\n",
       "4600 BLOCK BANDERA RD           0.012658\n",
       "6808 MONTANA ST                 0.012658\n",
       "                                  ...   \n",
       "6407 SPRINGDALE RD              0.012658\n",
       "600 BARWOOD PARK                0.012658\n",
       "2803 SCENIC DR                  0.012658\n",
       "8312 N I 35 SB SVC RD           0.012658\n",
       "1620 RUTLAND DR                 0.012658\n",
       "1401 E RUNDBERG LN              0.012658\n",
       "5305 SUMMER DR                  0.012658\n",
       "1500 E 6TH ST                   0.012658\n",
       "2005 WILLOW CREEK DR            0.012658\n",
       "311 DELMAR AVE                  0.012658\n",
       "4708 TANNEY ST                  0.012658\n",
       "501 E BEN WHITE BLVD SVRD EB    0.012658\n",
       "1101 REINLI ST                  0.012658\n",
       "7401 N LAMAR BLVD               0.012658\n",
       "2200 BLOCK ELMONT DR            0.012658\n",
       "1215 SOUTHPORT DR               0.012658\n",
       "7103 TEABERRY DR                0.012658\n",
       "5600 BLOCK MANOR RD             0.012658\n",
       "8100 BLOCK SONNET AVE           0.012658\n",
       "7500 N LAMAR BLVD               0.012658\n",
       "412 E WILLIAM CANNON DR         0.012658\n",
       "2700 BLOCK S CONGRESS AVE       0.012658\n",
       "9210 NORTHGATE BLVD             0.012658\n",
       "744 W WILLIAM CANNON DR         0.012658\n",
       "9036 N LAMAR BLVD               0.012658\n",
       "4900 E OLTORF ST                0.012658\n",
       "6802 ISABELLE DR                0.012658\n",
       "3210 KRAMER LN                  0.012658\n",
       "6600 ED BLUESTEIN BLVD SB       0.012658\n",
       "10503 N LAMAR BLVD              0.012658\n",
       "Name: address, Length: 77, dtype: float64"
      ]
     },
     "metadata": {},
     "output_type": "display_data"
    },
    {
     "name": "stdout",
     "output_type": "stream",
     "text": [
      "----------------------------------\n",
      "Rape\n",
      "----------------------------------\n"
     ]
    },
    {
     "data": {
      "text/plain": [
       "900 BLOCK E 32ND ST                   51\n",
       "700 BLOCK E 8TH ST                    29\n",
       "1300 BLOCK CROSSING PL                28\n",
       "12200 BLOCK N MOPAC EXPY SVRD NB      18\n",
       "300 BLOCK E 6TH ST                    17\n",
       "4100 BLOCK GUADALUPE ST               17\n",
       "1600 BLOCK WICKERSHAM LN              16\n",
       "600 BLOCK E 15TH ST                   15\n",
       "500 BLOCK E 4TH ST                    15\n",
       "1500 BLOCK WICKERSHAM LN              15\n",
       "900 BLOCK W BEN WHITE BLVD SVRD EB    14\n",
       "1500 BLOCK GROVE BLVD                 13\n",
       "2100 BLOCK BURTON DR                  12\n",
       "400 BLOCK E WILLIAM CANNON DR         11\n",
       "5300 BLOCK N IH 35 SVRD SB            10\n",
       "200 BLOCK LAVACA ST                   10\n",
       "9300 BLOCK NORTHGATE BLVD             10\n",
       "1100 BLOCK GUNTER ST                  10\n",
       "2700 BLOCK S IH 35 SVRD NB            10\n",
       "11100 BLOCK RESEARCH BLVD SVRD NB     10\n",
       "9400 BLOCK N IH 35 SVRD SB            10\n",
       "1600 BLOCK ROYAL CREST DR             10\n",
       "4400 BLOCK E OLTORF ST                10\n",
       "2400 BLOCK TOWN LAKE CIR               9\n",
       "1700 BLOCK TERI RD                     9\n",
       "9000 BLOCK NORTHGATE BLVD              9\n",
       "1600 BLOCK RUTLAND DR                  9\n",
       "2300 BLOCK DOUGLAS ST                  9\n",
       "12000 BLOCK DESSAU RD                  9\n",
       "1500 BLOCK FARO DR                     9\n",
       "6100 BLOCK FAIRWAY ST                  9\n",
       "700 BLOCK SAN JACINTO BLVD             8\n",
       "2600 BLOCK GRACY FARMS LN              8\n",
       "1900 BLOCK BURTON DR                   8\n",
       "2400 BLOCK S LAKESHORE BLVD            8\n",
       "8900 BLOCK N LAMAR BLVD                8\n",
       "4300 BLOCK S CONGRESS AVE              8\n",
       "9600 BLOCK MIDDLE FISKVILLE RD         8\n",
       "9200 BLOCK NORTH PLZ                   8\n",
       "3000 BLOCK S CONGRESS AVE              8\n",
       "2400 BLOCK E RIVERSIDE DR              8\n",
       "1000 BLOCK JUSTIN LN                   8\n",
       "1600 BLOCK E RIVERSIDE DR              7\n",
       "5500 BLOCK N IH 35 SVRD SB             7\n",
       "1700 BLOCK RUTLAND DR                  7\n",
       "500 BLOCK E 8TH ST                     7\n",
       "1800 BLOCK W RUNDBERG LN               7\n",
       "9100 BLOCK N IH 35 SVRD SB             7\n",
       "1100 BLOCK REINLI ST                   7\n",
       "6800 BLOCK MC NEIL DR                  7\n",
       "Name: address, dtype: int64"
      ]
     },
     "metadata": {},
     "output_type": "display_data"
    },
    {
     "name": "stdout",
     "output_type": "stream",
     "text": [
      "----------------------------------\n"
     ]
    },
    {
     "data": {
      "text/plain": [
       "900 BLOCK E 32ND ST                   0.012397\n",
       "700 BLOCK E 8TH ST                    0.007049\n",
       "1300 BLOCK CROSSING PL                0.006806\n",
       "12200 BLOCK N MOPAC EXPY SVRD NB      0.004375\n",
       "300 BLOCK E 6TH ST                    0.004132\n",
       "4100 BLOCK GUADALUPE ST               0.004132\n",
       "1600 BLOCK WICKERSHAM LN              0.003889\n",
       "600 BLOCK E 15TH ST                   0.003646\n",
       "500 BLOCK E 4TH ST                    0.003646\n",
       "1500 BLOCK WICKERSHAM LN              0.003646\n",
       "900 BLOCK W BEN WHITE BLVD SVRD EB    0.003403\n",
       "1500 BLOCK GROVE BLVD                 0.003160\n",
       "2100 BLOCK BURTON DR                  0.002917\n",
       "400 BLOCK E WILLIAM CANNON DR         0.002674\n",
       "5300 BLOCK N IH 35 SVRD SB            0.002431\n",
       "200 BLOCK LAVACA ST                   0.002431\n",
       "9300 BLOCK NORTHGATE BLVD             0.002431\n",
       "1100 BLOCK GUNTER ST                  0.002431\n",
       "2700 BLOCK S IH 35 SVRD NB            0.002431\n",
       "11100 BLOCK RESEARCH BLVD SVRD NB     0.002431\n",
       "9400 BLOCK N IH 35 SVRD SB            0.002431\n",
       "1600 BLOCK ROYAL CREST DR             0.002431\n",
       "4400 BLOCK E OLTORF ST                0.002431\n",
       "2400 BLOCK TOWN LAKE CIR              0.002188\n",
       "1700 BLOCK TERI RD                    0.002188\n",
       "9000 BLOCK NORTHGATE BLVD             0.002188\n",
       "1600 BLOCK RUTLAND DR                 0.002188\n",
       "2300 BLOCK DOUGLAS ST                 0.002188\n",
       "12000 BLOCK DESSAU RD                 0.002188\n",
       "1500 BLOCK FARO DR                    0.002188\n",
       "6100 BLOCK FAIRWAY ST                 0.002188\n",
       "700 BLOCK SAN JACINTO BLVD            0.001945\n",
       "2600 BLOCK GRACY FARMS LN             0.001945\n",
       "1900 BLOCK BURTON DR                  0.001945\n",
       "2400 BLOCK S LAKESHORE BLVD           0.001945\n",
       "8900 BLOCK N LAMAR BLVD               0.001945\n",
       "4300 BLOCK S CONGRESS AVE             0.001945\n",
       "9600 BLOCK MIDDLE FISKVILLE RD        0.001945\n",
       "9200 BLOCK NORTH PLZ                  0.001945\n",
       "3000 BLOCK S CONGRESS AVE             0.001945\n",
       "2400 BLOCK E RIVERSIDE DR             0.001945\n",
       "1000 BLOCK JUSTIN LN                  0.001945\n",
       "1600 BLOCK E RIVERSIDE DR             0.001702\n",
       "5500 BLOCK N IH 35 SVRD SB            0.001702\n",
       "1700 BLOCK RUTLAND DR                 0.001702\n",
       "500 BLOCK E 8TH ST                    0.001702\n",
       "1800 BLOCK W RUNDBERG LN              0.001702\n",
       "9100 BLOCK N IH 35 SVRD SB            0.001702\n",
       "1100 BLOCK REINLI ST                  0.001702\n",
       "6800 BLOCK MC NEIL DR                 0.001702\n",
       "Name: address, dtype: float64"
      ]
     },
     "metadata": {},
     "output_type": "display_data"
    }
   ],
   "source": [
    "print('-----------------------------------------------')\n",
    "print('Addresses where violent crimes most often occur')\n",
    "print('-----------------------------------------------')\n",
    "print('Murder')\n",
    "print('----------------------------------')\n",
    "display(df_mur.address.value_counts().head(22))\n",
    "print('----------------------------------')\n",
    "display(df_mur.address.value_counts(normalize=True).head(22))\n",
    "\n",
    "print('----------------------------------')\n",
    "print('Capital Murder')\n",
    "print('----------------------------------')\n",
    "display(df_mur_cap.address.value_counts())\n",
    "print('----------------------------------')\n",
    "display(df_mur_cap.address.value_counts(normalize=True))\n",
    "print('----------------------------------')\n",
    "print('Rape')\n",
    "print('----------------------------------')\n",
    "display(df_rape.address.value_counts().head(50))\n",
    "print('----------------------------------')\n",
    "display(df_rape.address.value_counts(normalize=True).head(50))"
   ]
  },
  {
   "cell_type": "markdown",
   "metadata": {},
   "source": [
    "### Question 2. Are there any specific streets in Austin, that are hotspots for violent crime? \n",
    "\n",
    "Note: For murder only, in the following code, I am only including results that >= 1%..."
   ]
  },
  {
   "cell_type": "code",
   "execution_count": 5,
   "metadata": {
    "scrolled": false
   },
   "outputs": [
    {
     "name": "stdout",
     "output_type": "stream",
     "text": [
      "---------------------------------------------\n",
      "Streets where violent crimes most offen occur\n",
      "---------------------------------------------\n",
      "----------------------------------\n",
      "Murder\n",
      "----------------------------------\n"
     ]
    },
    {
     "data": {
      "text/plain": [
       "E RIVERSIDE DR         13\n",
       "N LAMAR BLVD           10\n",
       "N IH 35 SVRD SB         9\n",
       "SPRINGDALE RD           7\n",
       "RUTLAND DR              6\n",
       "S CONGRESS AVE          5\n",
       "GALEWOOD DR             4\n",
       "WICKERSHAM LN           4\n",
       "W WILLIAM CANNON DR     4\n",
       "E 12TH ST               4\n",
       "Name: street_name, dtype: int64"
      ]
     },
     "metadata": {},
     "output_type": "display_data"
    },
    {
     "name": "stdout",
     "output_type": "stream",
     "text": [
      "----------------------------------\n"
     ]
    },
    {
     "data": {
      "text/plain": [
       "E RIVERSIDE DR         0.033766\n",
       "N LAMAR BLVD           0.025974\n",
       "N IH 35 SVRD SB        0.023377\n",
       "SPRINGDALE RD          0.018182\n",
       "RUTLAND DR             0.015584\n",
       "S CONGRESS AVE         0.012987\n",
       "GALEWOOD DR            0.010390\n",
       "WICKERSHAM LN          0.010390\n",
       "W WILLIAM CANNON DR    0.010390\n",
       "E 12TH ST              0.010390\n",
       "Name: street_name, dtype: float64"
      ]
     },
     "metadata": {},
     "output_type": "display_data"
    },
    {
     "name": "stdout",
     "output_type": "stream",
     "text": [
      "----------------------------------\n",
      "Capital Murder\n",
      "----------------------------------\n"
     ]
    },
    {
     "data": {
      "text/plain": [
       "N LAMAR BLVD                4\n",
       "RUTLAND DR                  3\n",
       "SPRINGDALE RD               2\n",
       "W SLAUGHTER LN              2\n",
       "N IH 35 SVRD NB             2\n",
       "DECKER LN                   2\n",
       "NUECES ST                   2\n",
       "MONTANA ST                  1\n",
       "E 4TH ST                    1\n",
       "LN / BURLESON RD            1\n",
       "BETHUNE AVE                 1\n",
       "TEABERRY DR                 1\n",
       "DARVONE CIR                 1\n",
       "E OLTORF ST                 1\n",
       "SHADOW BND                  1\n",
       "MANOR RD                    1\n",
       "KRAMER LN                   1\n",
       "E WILLIAM CANNON DR         1\n",
       "W 21ST ST                   1\n",
       "KIRKOSWALD RD               1\n",
       "HOLLY ST                    1\n",
       "SUMMER DR                   1\n",
       "BLOCK ELMONT DR             1\n",
       "ED BLUESTEIN BLVD SB        1\n",
       "NORTHGATE BLVD              1\n",
       "E BEN WHITE BLVD SVRD EB    1\n",
       "BLOCK BLESSING AVE          1\n",
       "SCENIC DR                   1\n",
       "WILLOW CREEK DR             1\n",
       "N IH 35 SVRD SB             1\n",
       "                           ..\n",
       "REINLI ST                   1\n",
       "W WILLIAM CANNON DR         1\n",
       "BLOCK E 38TH HALF ST        1\n",
       "E RIVERSIDE DR              1\n",
       "WHISPERING VALLEY DR        1\n",
       "DIXIE DR                    1\n",
       "E RUNDBERG LN               1\n",
       "MASTERSON PASS              1\n",
       "BLOCK SONNET AVE            1\n",
       "BLOCK BANDERA RD            1\n",
       "LAS VENTANAS DR             1\n",
       "BLOCK BURTON DR             1\n",
       "WAGON TRL                   1\n",
       "COPPERFIELD DR              1\n",
       "TANNEY ST                   1\n",
       "E 6TH ST                    1\n",
       "CAMERON RD                  1\n",
       "J J SEABROOK DR             1\n",
       "HYSIDE DR                   1\n",
       "SAM RAYBURN DR              1\n",
       "BLOCK MANOR RD              1\n",
       "TAMARACK TRL                1\n",
       "TERI RD                     1\n",
       "NORWOOD PARK BLVD           1\n",
       "SOUTHPORT DR                1\n",
       "DELMAR AVE                  1\n",
       "SWANSON CV                  1\n",
       "METRIC BLVD                 1\n",
       "E 52ND ST                   1\n",
       "PECAN SPRINGS RD            1\n",
       "Name: street_name, Length: 69, dtype: int64"
      ]
     },
     "metadata": {},
     "output_type": "display_data"
    },
    {
     "name": "stdout",
     "output_type": "stream",
     "text": [
      "----------------------------------\n"
     ]
    },
    {
     "data": {
      "text/plain": [
       "N LAMAR BLVD                0.050633\n",
       "RUTLAND DR                  0.037975\n",
       "SPRINGDALE RD               0.025316\n",
       "W SLAUGHTER LN              0.025316\n",
       "N IH 35 SVRD NB             0.025316\n",
       "DECKER LN                   0.025316\n",
       "NUECES ST                   0.025316\n",
       "MONTANA ST                  0.012658\n",
       "E 4TH ST                    0.012658\n",
       "LN / BURLESON RD            0.012658\n",
       "BETHUNE AVE                 0.012658\n",
       "TEABERRY DR                 0.012658\n",
       "DARVONE CIR                 0.012658\n",
       "E OLTORF ST                 0.012658\n",
       "SHADOW BND                  0.012658\n",
       "MANOR RD                    0.012658\n",
       "KRAMER LN                   0.012658\n",
       "E WILLIAM CANNON DR         0.012658\n",
       "W 21ST ST                   0.012658\n",
       "KIRKOSWALD RD               0.012658\n",
       "HOLLY ST                    0.012658\n",
       "SUMMER DR                   0.012658\n",
       "BLOCK ELMONT DR             0.012658\n",
       "ED BLUESTEIN BLVD SB        0.012658\n",
       "NORTHGATE BLVD              0.012658\n",
       "E BEN WHITE BLVD SVRD EB    0.012658\n",
       "BLOCK BLESSING AVE          0.012658\n",
       "SCENIC DR                   0.012658\n",
       "WILLOW CREEK DR             0.012658\n",
       "N IH 35 SVRD SB             0.012658\n",
       "                              ...   \n",
       "REINLI ST                   0.012658\n",
       "W WILLIAM CANNON DR         0.012658\n",
       "BLOCK E 38TH HALF ST        0.012658\n",
       "E RIVERSIDE DR              0.012658\n",
       "WHISPERING VALLEY DR        0.012658\n",
       "DIXIE DR                    0.012658\n",
       "E RUNDBERG LN               0.012658\n",
       "MASTERSON PASS              0.012658\n",
       "BLOCK SONNET AVE            0.012658\n",
       "BLOCK BANDERA RD            0.012658\n",
       "LAS VENTANAS DR             0.012658\n",
       "BLOCK BURTON DR             0.012658\n",
       "WAGON TRL                   0.012658\n",
       "COPPERFIELD DR              0.012658\n",
       "TANNEY ST                   0.012658\n",
       "E 6TH ST                    0.012658\n",
       "CAMERON RD                  0.012658\n",
       "J J SEABROOK DR             0.012658\n",
       "HYSIDE DR                   0.012658\n",
       "SAM RAYBURN DR              0.012658\n",
       "BLOCK MANOR RD              0.012658\n",
       "TAMARACK TRL                0.012658\n",
       "TERI RD                     0.012658\n",
       "NORWOOD PARK BLVD           0.012658\n",
       "SOUTHPORT DR                0.012658\n",
       "DELMAR AVE                  0.012658\n",
       "SWANSON CV                  0.012658\n",
       "METRIC BLVD                 0.012658\n",
       "E 52ND ST                   0.012658\n",
       "PECAN SPRINGS RD            0.012658\n",
       "Name: street_name, Length: 69, dtype: float64"
      ]
     },
     "metadata": {},
     "output_type": "display_data"
    },
    {
     "name": "stdout",
     "output_type": "stream",
     "text": [
      "----------------------------------\n",
      "Rape\n",
      "----------------------------------\n"
     ]
    },
    {
     "data": {
      "text/plain": [
       "BLOCK N IH 35 SVRD SB                 95\n",
       "BLOCK N LAMAR BLVD                    80\n",
       "BLOCK S CONGRESS AVE                  58\n",
       "BLOCK E 32ND ST                       55\n",
       "BLOCK WICKERSHAM LN                   53\n",
       "BLOCK E RIVERSIDE DR                  51\n",
       "BLOCK N IH 35 SVRD NB                 49\n",
       "BLOCK S IH 35 SVRD NB                 42\n",
       "BLOCK E 8TH ST                        40\n",
       "BLOCK E 6TH ST                        37\n",
       "BLOCK BURTON DR                       36\n",
       "BLOCK GUADALUPE ST                    35\n",
       "BLOCK E OLTORF ST                     34\n",
       "BLOCK S 1ST ST                        33\n",
       "BLOCK W WILLIAM CANNON DR             32\n",
       "BLOCK N I 35 SB SVC RD                31\n",
       "BLOCK CROSSING PL                     31\n",
       "BLOCK E 4TH ST                        30\n",
       "BLOCK MANCHACA RD                     29\n",
       "BLOCK NORTHGATE BLVD                  27\n",
       "BLOCK RUTLAND DR                      26\n",
       "BLOCK N FM 620 RD                     26\n",
       "BLOCK E WILLIAM CANNON DR             26\n",
       "BLOCK RED RIVER ST                    25\n",
       "BLOCK CAMERON RD                      25\n",
       "BLOCK METRIC BLVD                     23\n",
       "BLOCK RIO GRANDE ST                   22\n",
       "BLOCK GROVE BLVD                      22\n",
       "BLOCK W SLAUGHTER LN                  21\n",
       "BLOCK S LAKESHORE BLVD                20\n",
       "                                      ..\n",
       "BLOCK PRIMROSE ST                      1\n",
       "BLOCK ALLEGRO LUGAR                    1\n",
       "BLOCK CORIANDER DR                     1\n",
       "BLOCK TASAJILLO TRL                    1\n",
       "BLOCK PRATHER LN                       1\n",
       "BLOCK TUDOR BLVD                       1\n",
       "BLOCK SOMMERLAND WAY                   1\n",
       "BLOCK SPRING MEADOW RD                 1\n",
       "BLOCK PARKFIELD DR                     1\n",
       "BLOCK RIVERSIDE DR / WICKERSHAM LN     1\n",
       "BLOCK ALDRICH ST                       1\n",
       "BLOCK RD / W SLAUGHTER LN              1\n",
       "BLOCK NORTH PLAZA                      1\n",
       "BLOCK HANBRIDGE LN                     1\n",
       "BLOCK BLOCK HEFLIN LN                  1\n",
       "BLOCK TRACY LYNN LN                    1\n",
       "BLOCK TWIGGY LN                        1\n",
       "BLOCK PANTHER TRL                      1\n",
       "BLOCK WAGON CROSSING PATH              1\n",
       "BLOCK BOUNDLESS VALLEY DR              1\n",
       "BLOCK AVE / E SH 71 WB                 1\n",
       "BLOCK BATTLE BRIDGE DR                 1\n",
       "BLOCK OAKLEAF CIR                      1\n",
       "BLOCK LITTLE JOHN LN                   1\n",
       "BLOCK RD / ARNOLD DR                   1\n",
       "BLOCK CANTERBURY ST                    1\n",
       "BLOCK GREENLAND LN                     1\n",
       "BLOCK BLOCK CROZIER LN                 1\n",
       "BLOCK PROVENCIAL CV                    1\n",
       "BLOCK JODIE LN                         1\n",
       "Name: street_name, Length: 1436, dtype: int64"
      ]
     },
     "metadata": {},
     "output_type": "display_data"
    },
    {
     "name": "stdout",
     "output_type": "stream",
     "text": [
      "----------------------------------\n"
     ]
    },
    {
     "data": {
      "text/plain": [
       "BLOCK N IH 35 SVRD SB                 0.023092\n",
       "BLOCK N LAMAR BLVD                    0.019446\n",
       "BLOCK S CONGRESS AVE                  0.014098\n",
       "BLOCK E 32ND ST                       0.013369\n",
       "BLOCK WICKERSHAM LN                   0.012883\n",
       "BLOCK E RIVERSIDE DR                  0.012397\n",
       "BLOCK N IH 35 SVRD NB                 0.011911\n",
       "BLOCK S IH 35 SVRD NB                 0.010209\n",
       "BLOCK E 8TH ST                        0.009723\n",
       "BLOCK E 6TH ST                        0.008994\n",
       "BLOCK BURTON DR                       0.008751\n",
       "BLOCK GUADALUPE ST                    0.008508\n",
       "BLOCK E OLTORF ST                     0.008264\n",
       "BLOCK S 1ST ST                        0.008021\n",
       "BLOCK W WILLIAM CANNON DR             0.007778\n",
       "BLOCK N I 35 SB SVC RD                0.007535\n",
       "BLOCK CROSSING PL                     0.007535\n",
       "BLOCK E 4TH ST                        0.007292\n",
       "BLOCK MANCHACA RD                     0.007049\n",
       "BLOCK NORTHGATE BLVD                  0.006563\n",
       "BLOCK RUTLAND DR                      0.006320\n",
       "BLOCK N FM 620 RD                     0.006320\n",
       "BLOCK E WILLIAM CANNON DR             0.006320\n",
       "BLOCK RED RIVER ST                    0.006077\n",
       "BLOCK CAMERON RD                      0.006077\n",
       "BLOCK METRIC BLVD                     0.005591\n",
       "BLOCK RIO GRANDE ST                   0.005348\n",
       "BLOCK GROVE BLVD                      0.005348\n",
       "BLOCK W SLAUGHTER LN                  0.005105\n",
       "BLOCK S LAKESHORE BLVD                0.004861\n",
       "                                        ...   \n",
       "BLOCK PRIMROSE ST                     0.000243\n",
       "BLOCK ALLEGRO LUGAR                   0.000243\n",
       "BLOCK CORIANDER DR                    0.000243\n",
       "BLOCK TASAJILLO TRL                   0.000243\n",
       "BLOCK PRATHER LN                      0.000243\n",
       "BLOCK TUDOR BLVD                      0.000243\n",
       "BLOCK SOMMERLAND WAY                  0.000243\n",
       "BLOCK SPRING MEADOW RD                0.000243\n",
       "BLOCK PARKFIELD DR                    0.000243\n",
       "BLOCK RIVERSIDE DR / WICKERSHAM LN    0.000243\n",
       "BLOCK ALDRICH ST                      0.000243\n",
       "BLOCK RD / W SLAUGHTER LN             0.000243\n",
       "BLOCK NORTH PLAZA                     0.000243\n",
       "BLOCK HANBRIDGE LN                    0.000243\n",
       "BLOCK BLOCK HEFLIN LN                 0.000243\n",
       "BLOCK TRACY LYNN LN                   0.000243\n",
       "BLOCK TWIGGY LN                       0.000243\n",
       "BLOCK PANTHER TRL                     0.000243\n",
       "BLOCK WAGON CROSSING PATH             0.000243\n",
       "BLOCK BOUNDLESS VALLEY DR             0.000243\n",
       "BLOCK AVE / E SH 71 WB                0.000243\n",
       "BLOCK BATTLE BRIDGE DR                0.000243\n",
       "BLOCK OAKLEAF CIR                     0.000243\n",
       "BLOCK LITTLE JOHN LN                  0.000243\n",
       "BLOCK RD / ARNOLD DR                  0.000243\n",
       "BLOCK CANTERBURY ST                   0.000243\n",
       "BLOCK GREENLAND LN                    0.000243\n",
       "BLOCK BLOCK CROZIER LN                0.000243\n",
       "BLOCK PROVENCIAL CV                   0.000243\n",
       "BLOCK JODIE LN                        0.000243\n",
       "Name: street_name, Length: 1436, dtype: float64"
      ]
     },
     "metadata": {},
     "output_type": "display_data"
    }
   ],
   "source": [
    "print('---------------------------------------------')\n",
    "print('Streets where violent crimes most offen occur')\n",
    "print('---------------------------------------------')\n",
    "\n",
    "print('----------------------------------')\n",
    "print('Murder')\n",
    "print('----------------------------------')\n",
    "display(df_mur.street_name.value_counts().head(10))\n",
    "print('----------------------------------')\n",
    "display(df_mur.street_name.value_counts(normalize=True).head(10))\n",
    "print('----------------------------------')\n",
    "print('Capital Murder')\n",
    "print('----------------------------------')\n",
    "display(df_mur_cap.street_name.value_counts())\n",
    "print('----------------------------------')\n",
    "display(df_mur_cap.street_name.value_counts(normalize=True))\n",
    "print('----------------------------------')\n",
    "print('Rape')\n",
    "print('----------------------------------')\n",
    "display(df_rape.street_name.value_counts())\n",
    "print('----------------------------------')\n",
    "display(df_rape.street_name.value_counts(normalize=True))"
   ]
  },
  {
   "cell_type": "markdown",
   "metadata": {},
   "source": [
    "### Question 3. In what location type is violent crime most likely to occur? \n",
    "Note: For non-capital murder, and rape, I am only including results that >= 1% of the total."
   ]
  },
  {
   "cell_type": "code",
   "execution_count": 6,
   "metadata": {
    "scrolled": false
   },
   "outputs": [
    {
     "name": "stdout",
     "output_type": "stream",
     "text": [
      "----------------------------------------------------\n",
      "Location types where violent crimes most often occur\n",
      "----------------------------------------------------\n",
      "Murder\n",
      "----------------------------------\n"
     ]
    },
    {
     "data": {
      "text/plain": [
       "RESIDENCE / HOME                163\n",
       "PARKING LOTS / GARAGE            71\n",
       "STREETS / HWY / ROAD / ALLEY     71\n",
       "FIELD / WOODS                    17\n",
       "OTHER / UNKNOWN                  13\n",
       "HOTEL / MOTEL / ETC.             10\n",
       "BAR / NIGHT CLUB                  6\n",
       "COMMERCIAL / OFFICE BUILDING      6\n",
       "GAS / SERVICE STATIONS            5\n",
       "Name: location_type, dtype: int64"
      ]
     },
     "metadata": {},
     "output_type": "display_data"
    },
    {
     "name": "stdout",
     "output_type": "stream",
     "text": [
      "----------------------------------\n"
     ]
    },
    {
     "data": {
      "text/plain": [
       "RESIDENCE / HOME                0.425587\n",
       "PARKING LOTS / GARAGE           0.185379\n",
       "STREETS / HWY / ROAD / ALLEY    0.185379\n",
       "FIELD / WOODS                   0.044386\n",
       "OTHER / UNKNOWN                 0.033943\n",
       "HOTEL / MOTEL / ETC.            0.026110\n",
       "BAR / NIGHT CLUB                0.015666\n",
       "COMMERCIAL / OFFICE BUILDING    0.015666\n",
       "GAS / SERVICE STATIONS          0.013055\n",
       "Name: location_type, dtype: float64"
      ]
     },
     "metadata": {},
     "output_type": "display_data"
    },
    {
     "name": "stdout",
     "output_type": "stream",
     "text": [
      "----------------------------------\n",
      "Capital Murder\n",
      "----------------------------------\n"
     ]
    },
    {
     "data": {
      "text/plain": [
       "RESIDENCE / HOME                        47\n",
       "PARKING LOTS / GARAGE                   14\n",
       "STREETS / HWY / ROAD / ALLEY             9\n",
       "COMMERCIAL / OFFICE BUILDING             3\n",
       "BAR / NIGHT CLUB                         2\n",
       "OTHER / UNKNOWN                          1\n",
       "FIELD / WOODS                            1\n",
       "CHURCH / SYNAGOGUE / TEMPLE / MOSQUE     1\n",
       "GROCERY / SUPERMARKET                    1\n",
       "Name: location_type, dtype: int64"
      ]
     },
     "metadata": {},
     "output_type": "display_data"
    },
    {
     "name": "stdout",
     "output_type": "stream",
     "text": [
      "----------------------------------\n"
     ]
    },
    {
     "data": {
      "text/plain": [
       "RESIDENCE / HOME                        0.594937\n",
       "PARKING LOTS / GARAGE                   0.177215\n",
       "STREETS / HWY / ROAD / ALLEY            0.113924\n",
       "COMMERCIAL / OFFICE BUILDING            0.037975\n",
       "BAR / NIGHT CLUB                        0.025316\n",
       "OTHER / UNKNOWN                         0.012658\n",
       "FIELD / WOODS                           0.012658\n",
       "CHURCH / SYNAGOGUE / TEMPLE / MOSQUE    0.012658\n",
       "GROCERY / SUPERMARKET                   0.012658\n",
       "Name: location_type, dtype: float64"
      ]
     },
     "metadata": {},
     "output_type": "display_data"
    },
    {
     "name": "stdout",
     "output_type": "stream",
     "text": [
      "----------------------------------\n",
      "Rape\n",
      "----------------------------------\n"
     ]
    },
    {
     "data": {
      "text/plain": [
       "RESIDENCE / HOME                      2507\n",
       "HOTEL / MOTEL / ETC.                   345\n",
       "STREETS / HWY / ROAD / ALLEY           329\n",
       "OTHER / UNKNOWN                        297\n",
       "PARKING LOTS / GARAGE                  202\n",
       "FIELD / WOODS                           87\n",
       "BAR / NIGHT CLUB                        73\n",
       "DRUG STORE / DR. OFFICE / HOSPITAL      67\n",
       "Name: location_type, dtype: int64"
      ]
     },
     "metadata": {},
     "output_type": "display_data"
    },
    {
     "name": "stdout",
     "output_type": "stream",
     "text": [
      "----------------------------------\n"
     ]
    },
    {
     "data": {
      "text/plain": [
       "RESIDENCE / HOME                      0.615366\n",
       "HOTEL / MOTEL / ETC.                  0.084683\n",
       "STREETS / HWY / ROAD / ALLEY          0.080756\n",
       "OTHER / UNKNOWN                       0.072901\n",
       "PARKING LOTS / GARAGE                 0.049583\n",
       "FIELD / WOODS                         0.021355\n",
       "BAR / NIGHT CLUB                      0.017919\n",
       "DRUG STORE / DR. OFFICE / HOSPITAL    0.016446\n",
       "Name: location_type, dtype: float64"
      ]
     },
     "metadata": {},
     "output_type": "display_data"
    }
   ],
   "source": [
    "print('----------------------------------------------------')\n",
    "print('Location types where violent crimes most often occur')\n",
    "print('----------------------------------------------------')\n",
    "print('Murder')\n",
    "print('----------------------------------')\n",
    "display(df_mur.location_type.value_counts().head(9))\n",
    "print('----------------------------------')\n",
    "display(df_mur.location_type.value_counts(normalize=True).head(9))\n",
    "print('----------------------------------')\n",
    "print('Capital Murder')\n",
    "print('----------------------------------')\n",
    "display(df_mur_cap.location_type.value_counts())\n",
    "print('----------------------------------')\n",
    "display(df_mur_cap.location_type.value_counts(normalize=True))\n",
    "print('----------------------------------')\n",
    "print('Rape')\n",
    "print('----------------------------------')\n",
    "display(df_rape.location_type.value_counts().head(8))\n",
    "print('----------------------------------')\n",
    "display(df_rape.location_type.value_counts(normalize=True).head(8))"
   ]
  },
  {
   "cell_type": "markdown",
   "metadata": {},
   "source": [
    "**Summary of Violent Crimes**\n",
    "\n",
    "For NON-CAPITAL MURDER, analysis indicates 3 separate addresses which played host to at least 3 counts each, since 2003: \n",
    "\n",
    "1.\t4700 E Riverside Dr\n",
    "2.\t8610 N Lamar Blvd \n",
    "3.\t8800 N IH 35, Svrd SB. \n",
    "\n",
    "A Google search of the addresses indicated the first address home to the Tempo Apartment Complex. The second is the location of what appears to be a strip mall. The third is home to the Starburst Apartment Complex. \n",
    "\n",
    "In addition, 2 separate addresses played host to at least 2 counts of CAPITAL MURDER each: \n",
    "\n",
    "1.\t815 W Slaughter Lane\n",
    "2.\t7000 Decker Lane \n",
    "\n",
    "***Note: Remember that CAPITAL murder means that the defendant(s), based on his/her/their motivations and actions during his/her/their crime commission, makes him/her/them automatically eligible for the death sentence, under Texas law.***\n",
    "\n",
    "Interestingly, rape occurred, or was reported as having occurred, an astonishing 51 separate times at the 900 Block of E 32nd Street, since 2003.\n",
    "\n",
    "***Note: Seton Hospital is located here. Why is this? Possibly, because rape often coincides with other forms of violence against the victim(s) and so the victim(s) were reporting from a hospital bed?***  \n",
    "\n",
    "At any rate, further research is necessary to determine what the reason(s) are with more assurance. \n",
    "\n",
    "Further, when we break down violent crimes by the street on which they occurred, we see that most non-capital murders occurred on E Riverside Dr, a total of 13 counts. However, 4 separate capital murders occurred on N Lamar Blvd, as well as 10 separate non-capital murders, which makes N Lamar Blvd the number 1 hotspot for murder in general.   \n",
    "\n",
    "In terms of individual streets, rape occurred 95 separate times somewhere along N IH 35 SVRD SB, specifically. N Lamar Blvd comes in at number 2, with 80 separate counts of rape at one point or another along that route. \n",
    "\n",
    "Another street of note is Wickersham Ln which has hosted 53 separate counts of rape and 4 separate counts of non-capital murder, since 2003. \n",
    "\n",
    "Finally, we see that home is not necessarily where one is the safest…\n",
    "\n",
    "42.56% of non-capital murder, nearly 60% of capital murder, and over 61% of rape all occur within a residence or home. \n",
    "\n",
    "As a member of the LGBT Community, I particularly remember an incident from 2013, in which a man, David Villareal, brought home another man he met at Rain Nightclub on 4th Street. The man he brought home, Matthew Bacon, proceeded to bludgeon and eviscerate him to death, before stealing his belongings and making his getaway in David’s vehicle. Matthew has since received 60 years for his crimes, for which he avoided the death sentence by confessing. \n",
    "\n",
    "The lesson, ladies and gentlemen: BE CAREFUL WHAT STRANGER(S) YOU INVITE INTO YOUR HOME!!\n",
    "\n",
    "\n",
    " \n"
   ]
  },
  {
   "cell_type": "code",
   "execution_count": 8,
   "metadata": {},
   "outputs": [],
   "source": [
    "frames = [df_mur, df_mur_cap, df_rape]\n",
    "\n",
    "df = pd.concat(frames)\n",
    "df.sort_index(inplace=True)"
   ]
  },
  {
   "cell_type": "code",
   "execution_count": 16,
   "metadata": {},
   "outputs": [
    {
     "data": {
      "text/plain": [
       "900 BLOCK E 32ND ST                     51\n",
       "700 BLOCK E 8TH ST                      29\n",
       "1300 BLOCK CROSSING PL                  28\n",
       "12200 BLOCK N MOPAC EXPY SVRD NB        18\n",
       "4100 BLOCK GUADALUPE ST                 17\n",
       "300 BLOCK E 6TH ST                      17\n",
       "1600 BLOCK WICKERSHAM LN                16\n",
       "500 BLOCK E 4TH ST                      15\n",
       "1500 BLOCK WICKERSHAM LN                15\n",
       "600 BLOCK E 15TH ST                     15\n",
       "900 BLOCK W BEN WHITE BLVD SVRD EB      14\n",
       "1500 BLOCK GROVE BLVD                   13\n",
       "2100 BLOCK BURTON DR                    12\n",
       "400 BLOCK E WILLIAM CANNON DR           11\n",
       "9400 BLOCK N IH 35 SVRD SB              10\n",
       "1100 BLOCK GUNTER ST                    10\n",
       "9300 BLOCK NORTHGATE BLVD               10\n",
       "1600 BLOCK ROYAL CREST DR               10\n",
       "11100 BLOCK RESEARCH BLVD SVRD NB       10\n",
       "5300 BLOCK N IH 35 SVRD SB              10\n",
       "4400 BLOCK E OLTORF ST                  10\n",
       "200 BLOCK LAVACA ST                     10\n",
       "2700 BLOCK S IH 35 SVRD NB              10\n",
       "9000 BLOCK NORTHGATE BLVD                9\n",
       "1500 BLOCK FARO DR                       9\n",
       "2400 BLOCK TOWN LAKE CIR                 9\n",
       "2300 BLOCK DOUGLAS ST                    9\n",
       "6100 BLOCK FAIRWAY ST                    9\n",
       "12000 BLOCK DESSAU RD                    9\n",
       "1600 BLOCK RUTLAND DR                    9\n",
       "                                        ..\n",
       "6500 BLOCK BLOCK SPRINGDALE RD           1\n",
       "1500 BLOCK E CESAR CHAVEZ ST             1\n",
       "200 BLOCK BLOCK LESSIN LN                1\n",
       "110 E RIVERSIDE DR                       1\n",
       "MAN00 BLOCK RD / ARNOLD DR               1\n",
       "13400 BLOCK BLOCK N US 183 HWY SB        1\n",
       "8500 BLOCK S CONGRESS AVE                1\n",
       "100 BLOCK BLOCK N I 35 SB SVC RD         1\n",
       "10700 BLOCK SEA HERO LN                  1\n",
       "2900 BLOCK PEARL ST                      1\n",
       "2500 BLOCK ROSEWOOD AVE                  1\n",
       "3400 BLOCK S IH 35 NB                    1\n",
       "901 WAGON TRL                            1\n",
       "2400 BLOCK BLOCK FAR GALLANT DR          1\n",
       "900 BLOCK N IH 35 SVRD SB                1\n",
       "9400 BLOCK E MEADOW VALE                 1\n",
       "11800 BLOCK N IH 35 NB                   1\n",
       "4900 BLOCK S IH 35 SVRD NB               1\n",
       "1200 BLOCK W BEN WHITE BLVD EB           1\n",
       "12900 BLOCK MEEHAN DR                    1\n",
       "00 BLOCK IH 35 SVRD SB / E 5TH ST        1\n",
       "11200 BLOCK FM 2222 RD                   1\n",
       "510 W 26TH ST                            1\n",
       "E00 BLOCK CREEK DR / BITTER CREEK DR     1\n",
       "700 SAN JACINTO BLVD                     1\n",
       "1800 BLOCK WICKERSHAM LN                 1\n",
       "2200 BLOCK POST RD                       1\n",
       "400 BLOCK W ANDERSON WB SVC RD           1\n",
       "900 BLOCK E 51ST ST                      1\n",
       "1173 HARVEY ST                           1\n",
       "Name: address, Length: 2848, dtype: int64"
      ]
     },
     "execution_count": 16,
     "metadata": {},
     "output_type": "execute_result"
    }
   ],
   "source": [
    "df.address.value_counts()"
   ]
  }
 ],
 "metadata": {
  "kernelspec": {
   "display_name": "Python 3",
   "language": "python",
   "name": "python3"
  },
  "language_info": {
   "codemirror_mode": {
    "name": "ipython",
    "version": 3
   },
   "file_extension": ".py",
   "mimetype": "text/x-python",
   "name": "python",
   "nbconvert_exporter": "python",
   "pygments_lexer": "ipython3",
   "version": "3.7.6"
  }
 },
 "nbformat": 4,
 "nbformat_minor": 4
}
