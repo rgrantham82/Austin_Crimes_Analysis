{
 "cells": [
  {
   "cell_type": "markdown",
   "metadata": {},
   "source": [
    "# Further Cleaning & Exploratory Analysis"
   ]
  },
  {
   "cell_type": "code",
   "execution_count": 1,
   "metadata": {},
   "outputs": [],
   "source": [
    "import pandas as pd\n",
    "import numpy as np\n",
    "import matplotlib.pyplot as plt\n",
    "plt.style.use('fivethirtyeight')"
   ]
  },
  {
   "cell_type": "code",
   "execution_count": 2,
   "metadata": {},
   "outputs": [
    {
     "name": "stdout",
     "output_type": "stream",
     "text": [
      "<class 'pandas.core.frame.DataFrame'>\n",
      "RangeIndex: 56 entries, 0 to 55\n",
      "Data columns (total 9 columns):\n",
      "date_of_incident                56 non-null object\n",
      "number_of_victims_under_18      56 non-null int64\n",
      "number_of_victims_over_18       56 non-null int64\n",
      "number_of_offenders_under_18    56 non-null int64\n",
      "number_of_offenders_over_18     56 non-null int64\n",
      "race_of_offender(s)             56 non-null object\n",
      "offense                         56 non-null object\n",
      "offense_location                56 non-null object\n",
      "motivation                      56 non-null object\n",
      "dtypes: int64(4), object(5)\n",
      "memory usage: 4.0+ KB\n"
     ]
    },
    {
     "data": {
      "text/plain": [
       "None"
      ]
     },
     "metadata": {},
     "output_type": "display_data"
    },
    {
     "name": "stdout",
     "output_type": "stream",
     "text": [
      "----------------------------------\n"
     ]
    },
    {
     "data": {
      "text/html": [
       "<div>\n",
       "<style scoped>\n",
       "    .dataframe tbody tr th:only-of-type {\n",
       "        vertical-align: middle;\n",
       "    }\n",
       "\n",
       "    .dataframe tbody tr th {\n",
       "        vertical-align: top;\n",
       "    }\n",
       "\n",
       "    .dataframe thead th {\n",
       "        text-align: right;\n",
       "    }\n",
       "</style>\n",
       "<table border=\"1\" class=\"dataframe\">\n",
       "  <thead>\n",
       "    <tr style=\"text-align: right;\">\n",
       "      <th></th>\n",
       "      <th>number_of_victims_under_18</th>\n",
       "      <th>number_of_victims_over_18</th>\n",
       "      <th>number_of_offenders_under_18</th>\n",
       "      <th>number_of_offenders_over_18</th>\n",
       "    </tr>\n",
       "  </thead>\n",
       "  <tbody>\n",
       "    <tr>\n",
       "      <th>count</th>\n",
       "      <td>56.000000</td>\n",
       "      <td>56.000000</td>\n",
       "      <td>56.000000</td>\n",
       "      <td>56.000000</td>\n",
       "    </tr>\n",
       "    <tr>\n",
       "      <th>mean</th>\n",
       "      <td>0.053571</td>\n",
       "      <td>0.910714</td>\n",
       "      <td>0.125000</td>\n",
       "      <td>1.017857</td>\n",
       "    </tr>\n",
       "    <tr>\n",
       "      <th>std</th>\n",
       "      <td>0.227208</td>\n",
       "      <td>0.394360</td>\n",
       "      <td>0.506772</td>\n",
       "      <td>0.820002</td>\n",
       "    </tr>\n",
       "    <tr>\n",
       "      <th>min</th>\n",
       "      <td>0.000000</td>\n",
       "      <td>0.000000</td>\n",
       "      <td>0.000000</td>\n",
       "      <td>0.000000</td>\n",
       "    </tr>\n",
       "    <tr>\n",
       "      <th>25%</th>\n",
       "      <td>0.000000</td>\n",
       "      <td>1.000000</td>\n",
       "      <td>0.000000</td>\n",
       "      <td>1.000000</td>\n",
       "    </tr>\n",
       "    <tr>\n",
       "      <th>50%</th>\n",
       "      <td>0.000000</td>\n",
       "      <td>1.000000</td>\n",
       "      <td>0.000000</td>\n",
       "      <td>1.000000</td>\n",
       "    </tr>\n",
       "    <tr>\n",
       "      <th>75%</th>\n",
       "      <td>0.000000</td>\n",
       "      <td>1.000000</td>\n",
       "      <td>0.000000</td>\n",
       "      <td>1.000000</td>\n",
       "    </tr>\n",
       "    <tr>\n",
       "      <th>max</th>\n",
       "      <td>1.000000</td>\n",
       "      <td>2.000000</td>\n",
       "      <td>3.000000</td>\n",
       "      <td>4.000000</td>\n",
       "    </tr>\n",
       "  </tbody>\n",
       "</table>\n",
       "</div>"
      ],
      "text/plain": [
       "       number_of_victims_under_18  number_of_victims_over_18  \\\n",
       "count                   56.000000                  56.000000   \n",
       "mean                     0.053571                   0.910714   \n",
       "std                      0.227208                   0.394360   \n",
       "min                      0.000000                   0.000000   \n",
       "25%                      0.000000                   1.000000   \n",
       "50%                      0.000000                   1.000000   \n",
       "75%                      0.000000                   1.000000   \n",
       "max                      1.000000                   2.000000   \n",
       "\n",
       "       number_of_offenders_under_18  number_of_offenders_over_18  \n",
       "count                     56.000000                    56.000000  \n",
       "mean                       0.125000                     1.017857  \n",
       "std                        0.506772                     0.820002  \n",
       "min                        0.000000                     0.000000  \n",
       "25%                        0.000000                     1.000000  \n",
       "50%                        0.000000                     1.000000  \n",
       "75%                        0.000000                     1.000000  \n",
       "max                        3.000000                     4.000000  "
      ]
     },
     "metadata": {},
     "output_type": "display_data"
    }
   ],
   "source": [
    "# Importing the cleaned dataset\n",
    "df = pd.read_csv(r\"C:\\Users\\Robert\\OneDrive\\Desktop\\aus_final.csv\")\n",
    "display(df.info())\n",
    "print('----------------------------------')\n",
    "display(df.describe())"
   ]
  },
  {
   "cell_type": "markdown",
   "metadata": {},
   "source": [
    "## Convert 'date_of_inciedent' to datetime64 and make it the index"
   ]
  },
  {
   "cell_type": "code",
   "execution_count": 3,
   "metadata": {
    "scrolled": false
   },
   "outputs": [],
   "source": [
    "df.date_of_incident = df.date_of_incident.astype('datetime64')\n",
    "df = df.set_index('date_of_incident')"
   ]
  },
  {
   "cell_type": "code",
   "execution_count": 4,
   "metadata": {
    "scrolled": false
   },
   "outputs": [
    {
     "data": {
      "text/html": [
       "<div>\n",
       "<style scoped>\n",
       "    .dataframe tbody tr th:only-of-type {\n",
       "        vertical-align: middle;\n",
       "    }\n",
       "\n",
       "    .dataframe tbody tr th {\n",
       "        vertical-align: top;\n",
       "    }\n",
       "\n",
       "    .dataframe thead th {\n",
       "        text-align: right;\n",
       "    }\n",
       "</style>\n",
       "<table border=\"1\" class=\"dataframe\">\n",
       "  <thead>\n",
       "    <tr style=\"text-align: right;\">\n",
       "      <th></th>\n",
       "      <th>number_of_victims_under_18</th>\n",
       "      <th>number_of_victims_over_18</th>\n",
       "      <th>number_of_offenders_under_18</th>\n",
       "      <th>number_of_offenders_over_18</th>\n",
       "      <th>race_of_offender(s)</th>\n",
       "      <th>offense</th>\n",
       "      <th>offense_location</th>\n",
       "      <th>motivation</th>\n",
       "    </tr>\n",
       "    <tr>\n",
       "      <th>date_of_incident</th>\n",
       "      <th></th>\n",
       "      <th></th>\n",
       "      <th></th>\n",
       "      <th></th>\n",
       "      <th></th>\n",
       "      <th></th>\n",
       "      <th></th>\n",
       "      <th></th>\n",
       "    </tr>\n",
       "  </thead>\n",
       "  <tbody>\n",
       "    <tr>\n",
       "      <th>2017-01-01</th>\n",
       "      <td>0</td>\n",
       "      <td>1</td>\n",
       "      <td>0</td>\n",
       "      <td>1</td>\n",
       "      <td>White</td>\n",
       "      <td>Aggravated Assault</td>\n",
       "      <td>Park/Playground</td>\n",
       "      <td>Anti-African American</td>\n",
       "    </tr>\n",
       "    <tr>\n",
       "      <th>2017-02-01</th>\n",
       "      <td>0</td>\n",
       "      <td>1</td>\n",
       "      <td>0</td>\n",
       "      <td>1</td>\n",
       "      <td>African American</td>\n",
       "      <td>Aggravated Assault</td>\n",
       "      <td>Highway/Road/Alley/Street/Sidewalk</td>\n",
       "      <td>Anti-Caucasian</td>\n",
       "    </tr>\n",
       "    <tr>\n",
       "      <th>2017-03-21</th>\n",
       "      <td>0</td>\n",
       "      <td>0</td>\n",
       "      <td>0</td>\n",
       "      <td>0</td>\n",
       "      <td>Unknown</td>\n",
       "      <td>Destruction</td>\n",
       "      <td>Highway/Road/Alley/Street/Sidewalk</td>\n",
       "      <td>Anti-Jewish</td>\n",
       "    </tr>\n",
       "    <tr>\n",
       "      <th>2017-04-12</th>\n",
       "      <td>0</td>\n",
       "      <td>0</td>\n",
       "      <td>0</td>\n",
       "      <td>0</td>\n",
       "      <td>White</td>\n",
       "      <td>Simple Assault</td>\n",
       "      <td>Air/Bus/Train Terminal</td>\n",
       "      <td>Anti-Jewish</td>\n",
       "    </tr>\n",
       "    <tr>\n",
       "      <th>2017-05-15</th>\n",
       "      <td>1</td>\n",
       "      <td>0</td>\n",
       "      <td>1</td>\n",
       "      <td>2</td>\n",
       "      <td>White</td>\n",
       "      <td>Simple Assault</td>\n",
       "      <td>Residence/Home</td>\n",
       "      <td>Anti-LGBT</td>\n",
       "    </tr>\n",
       "  </tbody>\n",
       "</table>\n",
       "</div>"
      ],
      "text/plain": [
       "                  number_of_victims_under_18  number_of_victims_over_18  \\\n",
       "date_of_incident                                                          \n",
       "2017-01-01                                 0                          1   \n",
       "2017-02-01                                 0                          1   \n",
       "2017-03-21                                 0                          0   \n",
       "2017-04-12                                 0                          0   \n",
       "2017-05-15                                 1                          0   \n",
       "\n",
       "                  number_of_offenders_under_18  number_of_offenders_over_18  \\\n",
       "date_of_incident                                                              \n",
       "2017-01-01                                   0                            1   \n",
       "2017-02-01                                   0                            1   \n",
       "2017-03-21                                   0                            0   \n",
       "2017-04-12                                   0                            0   \n",
       "2017-05-15                                   1                            2   \n",
       "\n",
       "                 race_of_offender(s)             offense  \\\n",
       "date_of_incident                                           \n",
       "2017-01-01                     White  Aggravated Assault   \n",
       "2017-02-01          African American  Aggravated Assault   \n",
       "2017-03-21                   Unknown         Destruction   \n",
       "2017-04-12                     White      Simple Assault   \n",
       "2017-05-15                     White      Simple Assault   \n",
       "\n",
       "                                    offense_location              motivation  \n",
       "date_of_incident                                                              \n",
       "2017-01-01                           Park/Playground  Anti-African American   \n",
       "2017-02-01        Highway/Road/Alley/Street/Sidewalk          Anti-Caucasian  \n",
       "2017-03-21        Highway/Road/Alley/Street/Sidewalk             Anti-Jewish  \n",
       "2017-04-12                    Air/Bus/Train Terminal             Anti-Jewish  \n",
       "2017-05-15                            Residence/Home               Anti-LGBT  "
      ]
     },
     "metadata": {},
     "output_type": "display_data"
    },
    {
     "name": "stdout",
     "output_type": "stream",
     "text": [
      "----------------------------------\n"
     ]
    },
    {
     "data": {
      "text/plain": [
       "(56, 8)"
      ]
     },
     "metadata": {},
     "output_type": "display_data"
    },
    {
     "name": "stdout",
     "output_type": "stream",
     "text": [
      "----------------------------------\n"
     ]
    },
    {
     "data": {
      "text/plain": [
       "DatetimeIndex(['2017-01-01', '2017-02-01', '2017-03-21', '2017-04-12',\n",
       "               '2017-05-15', '2017-06-04', '2017-06-15', '2017-06-17',\n",
       "               '2017-07-01', '2017-07-05', '2017-07-20', '2017-07-21',\n",
       "               '2017-10-15', '2017-10-24', '2017-11-10', '2017-11-16',\n",
       "               '2017-11-26', '2018-01-19', '2018-01-25', '2018-02-08',\n",
       "               '2018-02-22', '2018-03-02', '2018-03-06', '2018-03-08',\n",
       "               '2018-04-01', '2018-04-30', '2018-05-21', '2018-06-16',\n",
       "               '2018-06-28', '2018-08-13', '2018-08-25', '2018-09-09',\n",
       "               '2018-09-11', '2018-10-11', '2018-10-29', '2018-12-15',\n",
       "               '2018-12-29', '2019-01-19', '2019-02-22', '2019-03-31',\n",
       "               '2019-04-04', '2019-06-11', '2019-08-06', '2019-08-12',\n",
       "               '2019-08-24', '2019-11-23', '2019-12-19', '2019-12-30',\n",
       "               '2020-03-01', '2020-03-08', '2020-03-22', '2020-03-22',\n",
       "               '2020-04-20', '2020-04-29', '2020-05-17', '2020-05-20'],\n",
       "              dtype='datetime64[ns]', name='date_of_incident', freq=None)"
      ]
     },
     "metadata": {},
     "output_type": "display_data"
    }
   ],
   "source": [
    "display(df.head())\n",
    "print('----------------------------------')\n",
    "display(df.shape)\n",
    "print('----------------------------------')\n",
    "display(df.index)"
   ]
  },
  {
   "cell_type": "markdown",
   "metadata": {},
   "source": [
    "## Not much we can do with the 'victims' and 'offenders' columns just yet...\n",
    "We have much more categorical data we can work with first. \n",
    "\n",
    "### Question 1. How are reported incidences in Austin distributed according to motivation? "
   ]
  },
  {
   "cell_type": "code",
   "execution_count": 5,
   "metadata": {},
   "outputs": [
    {
     "name": "stdout",
     "output_type": "stream",
     "text": [
      "total number of reported hate crimes since 2017:\n"
     ]
    },
    {
     "data": {
      "text/plain": [
       "56"
      ]
     },
     "metadata": {},
     "output_type": "display_data"
    },
    {
     "name": "stdout",
     "output_type": "stream",
     "text": [
      "----------------------------------\n"
     ]
    },
    {
     "data": {
      "text/plain": [
       "Anti-LGBT                 18\n",
       "Anti-African American     10\n",
       "Anti-African American      8\n",
       "Anti-Hispanic              7\n",
       "Anti-Jewish                4\n",
       "Anti-Muslim                4\n",
       "Anti-Caucasian             3\n",
       "Anti-Disability            1\n",
       "Anti-Buddhist              1\n",
       "Name: motivation, dtype: int64"
      ]
     },
     "metadata": {},
     "output_type": "display_data"
    },
    {
     "data": {
      "image/png": "[encoded data removed]",
      "text/plain": [
       "<Figure size 432x288 with 1 Axes>"
      ]
     },
     "metadata": {
      "needs_background": "light"
     },
     "output_type": "display_data"
    }
   ],
   "source": [
    "bias = df.motivation.value_counts()\n",
    "print('total number of reported hate crimes since 2017:')\n",
    "display(bias.sum())\n",
    "print('----------------------------------')\n",
    "display(bias)\n",
    "bias.plot.bar()\n",
    "plt.show()"
   ]
  },
  {
   "cell_type": "markdown",
   "metadata": {},
   "source": [
    "I am unsure why the Anti-African American category is splitting into two. Regardless, it still maintains its accuracy."
   ]
  },
  {
   "cell_type": "markdown",
   "metadata": {},
   "source": [
    "### Question 2. How are the offense-types distributed? "
   ]
  },
  {
   "cell_type": "code",
   "execution_count": 6,
   "metadata": {},
   "outputs": [
    {
     "data": {
      "text/plain": [
       "Assault                21\n",
       "Simple Assault          8\n",
       "Intimidation            7\n",
       "Criminal Mischief       5\n",
       "Vandalism               4\n",
       "Aggravated Assault      3\n",
       "Destruction             2\n",
       "Assault by Threat       1\n",
       "Theft                   1\n",
       "Assault with Injury     1\n",
       "Burglary/Assault        1\n",
       "Robbery                 1\n",
       "Assault by Contact      1\n",
       "Name: offense, dtype: int64"
      ]
     },
     "metadata": {},
     "output_type": "display_data"
    },
    {
     "data": {
      "image/png": "[encoded data removed]",
      "text/plain": [
       "<Figure size 432x288 with 1 Axes>"
      ]
     },
     "metadata": {
      "needs_background": "light"
     },
     "output_type": "display_data"
    }
   ],
   "source": [
    "offense = df.offense.value_counts()\n",
    "display(offense)\n",
    "offense.plot.bar()\n",
    "plt.show()"
   ]
  },
  {
   "cell_type": "markdown",
   "metadata": {},
   "source": [
    "### Question 3. How are the alleged offenders distributed according to race? "
   ]
  },
  {
   "cell_type": "code",
   "execution_count": 7,
   "metadata": {},
   "outputs": [
    {
     "data": {
      "text/plain": [
       "White                      25\n",
       "Hispanic                   11\n",
       "Unknown                     8\n",
       "African Amerian             3\n",
       "Group of Multiple Races     3\n",
       "African American            2\n",
       "White                       1\n",
       "Hispanic (2) White (2)      1\n",
       "Hispanic (3)                1\n",
       "Asianc                      1\n",
       "Name: race_of_offender(s), dtype: int64"
      ]
     },
     "metadata": {},
     "output_type": "display_data"
    },
    {
     "data": {
      "image/png": "[encoded data removed]",
      "text/plain": [
       "<Figure size 432x288 with 1 Axes>"
      ]
     },
     "metadata": {
      "needs_background": "light"
     },
     "output_type": "display_data"
    }
   ],
   "source": [
    "offender = df['race_of_offender(s)'].value_counts()\n",
    "display(offender)\n",
    "offender.plot.bar()\n",
    "plt.show()"
   ]
  },
  {
   "cell_type": "code",
   "execution_count": 8,
   "metadata": {},
   "outputs": [
    {
     "data": {
      "text/html": [
       "<div>\n",
       "<style scoped>\n",
       "    .dataframe tbody tr th:only-of-type {\n",
       "        vertical-align: middle;\n",
       "    }\n",
       "\n",
       "    .dataframe tbody tr th {\n",
       "        vertical-align: top;\n",
       "    }\n",
       "\n",
       "    .dataframe thead th {\n",
       "        text-align: right;\n",
       "    }\n",
       "</style>\n",
       "<table border=\"1\" class=\"dataframe\">\n",
       "  <thead>\n",
       "    <tr style=\"text-align: right;\">\n",
       "      <th></th>\n",
       "      <th>number_of_victims_under_18</th>\n",
       "      <th>number_of_victims_over_18</th>\n",
       "      <th>number_of_offenders_under_18</th>\n",
       "      <th>number_of_offenders_over_18</th>\n",
       "    </tr>\n",
       "  </thead>\n",
       "  <tbody>\n",
       "    <tr>\n",
       "      <th>number_of_victims_under_18</th>\n",
       "      <td>1.000000</td>\n",
       "      <td>-0.554402</td>\n",
       "      <td>0.572413</td>\n",
       "      <td>-0.005228</td>\n",
       "    </tr>\n",
       "    <tr>\n",
       "      <th>number_of_victims_over_18</th>\n",
       "      <td>-0.554402</td>\n",
       "      <td>1.000000</td>\n",
       "      <td>-0.398025</td>\n",
       "      <td>0.342371</td>\n",
       "    </tr>\n",
       "    <tr>\n",
       "      <th>number_of_offenders_under_18</th>\n",
       "      <td>0.572413</td>\n",
       "      <td>-0.398025</td>\n",
       "      <td>1.000000</td>\n",
       "      <td>-0.180482</td>\n",
       "    </tr>\n",
       "    <tr>\n",
       "      <th>number_of_offenders_over_18</th>\n",
       "      <td>-0.005228</td>\n",
       "      <td>0.342371</td>\n",
       "      <td>-0.180482</td>\n",
       "      <td>1.000000</td>\n",
       "    </tr>\n",
       "  </tbody>\n",
       "</table>\n",
       "</div>"
      ],
      "text/plain": [
       "                              number_of_victims_under_18  \\\n",
       "number_of_victims_under_18                      1.000000   \n",
       "number_of_victims_over_18                      -0.554402   \n",
       "number_of_offenders_under_18                    0.572413   \n",
       "number_of_offenders_over_18                    -0.005228   \n",
       "\n",
       "                              number_of_victims_over_18  \\\n",
       "number_of_victims_under_18                    -0.554402   \n",
       "number_of_victims_over_18                      1.000000   \n",
       "number_of_offenders_under_18                  -0.398025   \n",
       "number_of_offenders_over_18                    0.342371   \n",
       "\n",
       "                              number_of_offenders_under_18  \\\n",
       "number_of_victims_under_18                        0.572413   \n",
       "number_of_victims_over_18                        -0.398025   \n",
       "number_of_offenders_under_18                      1.000000   \n",
       "number_of_offenders_over_18                      -0.180482   \n",
       "\n",
       "                              number_of_offenders_over_18  \n",
       "number_of_victims_under_18                      -0.005228  \n",
       "number_of_victims_over_18                        0.342371  \n",
       "number_of_offenders_under_18                    -0.180482  \n",
       "number_of_offenders_over_18                      1.000000  "
      ]
     },
     "metadata": {},
     "output_type": "display_data"
    },
    {
     "name": "stdout",
     "output_type": "stream",
     "text": [
      "----------------------------------\n"
     ]
    },
    {
     "data": {
      "text/html": [
       "<div>\n",
       "<style scoped>\n",
       "    .dataframe tbody tr th:only-of-type {\n",
       "        vertical-align: middle;\n",
       "    }\n",
       "\n",
       "    .dataframe tbody tr th {\n",
       "        vertical-align: top;\n",
       "    }\n",
       "\n",
       "    .dataframe thead th {\n",
       "        text-align: right;\n",
       "    }\n",
       "</style>\n",
       "<table border=\"1\" class=\"dataframe\">\n",
       "  <thead>\n",
       "    <tr style=\"text-align: right;\">\n",
       "      <th></th>\n",
       "      <th>number_of_victims_under_18</th>\n",
       "      <th>number_of_victims_over_18</th>\n",
       "      <th>number_of_offenders_under_18</th>\n",
       "      <th>number_of_offenders_over_18</th>\n",
       "    </tr>\n",
       "  </thead>\n",
       "  <tbody>\n",
       "    <tr>\n",
       "      <th>number_of_victims_under_18</th>\n",
       "      <td>1.000000</td>\n",
       "      <td>-0.557671</td>\n",
       "      <td>0.548824</td>\n",
       "      <td>0.014244</td>\n",
       "    </tr>\n",
       "    <tr>\n",
       "      <th>number_of_victims_over_18</th>\n",
       "      <td>-0.557671</td>\n",
       "      <td>1.000000</td>\n",
       "      <td>-0.462156</td>\n",
       "      <td>0.298991</td>\n",
       "    </tr>\n",
       "    <tr>\n",
       "      <th>number_of_offenders_under_18</th>\n",
       "      <td>0.548824</td>\n",
       "      <td>-0.462156</td>\n",
       "      <td>1.000000</td>\n",
       "      <td>-0.108296</td>\n",
       "    </tr>\n",
       "    <tr>\n",
       "      <th>number_of_offenders_over_18</th>\n",
       "      <td>0.014244</td>\n",
       "      <td>0.298991</td>\n",
       "      <td>-0.108296</td>\n",
       "      <td>1.000000</td>\n",
       "    </tr>\n",
       "  </tbody>\n",
       "</table>\n",
       "</div>"
      ],
      "text/plain": [
       "                              number_of_victims_under_18  \\\n",
       "number_of_victims_under_18                      1.000000   \n",
       "number_of_victims_over_18                      -0.557671   \n",
       "number_of_offenders_under_18                    0.548824   \n",
       "number_of_offenders_over_18                     0.014244   \n",
       "\n",
       "                              number_of_victims_over_18  \\\n",
       "number_of_victims_under_18                    -0.557671   \n",
       "number_of_victims_over_18                      1.000000   \n",
       "number_of_offenders_under_18                  -0.462156   \n",
       "number_of_offenders_over_18                    0.298991   \n",
       "\n",
       "                              number_of_offenders_under_18  \\\n",
       "number_of_victims_under_18                        0.548824   \n",
       "number_of_victims_over_18                        -0.462156   \n",
       "number_of_offenders_under_18                      1.000000   \n",
       "number_of_offenders_over_18                      -0.108296   \n",
       "\n",
       "                              number_of_offenders_over_18  \n",
       "number_of_victims_under_18                       0.014244  \n",
       "number_of_victims_over_18                        0.298991  \n",
       "number_of_offenders_under_18                    -0.108296  \n",
       "number_of_offenders_over_18                      1.000000  "
      ]
     },
     "metadata": {},
     "output_type": "display_data"
    }
   ],
   "source": [
    "# Checking correlations between victims and offenders\n",
    "display(df.corr(method='pearson'))\n",
    "print('----------------------------------')\n",
    "display(df.corr(method='kendall'))"
   ]
  },
  {
   "cell_type": "markdown",
   "metadata": {},
   "source": [
    "### Conclusion 1. Out of the 56 reported hate crimes in Austin...\n",
    "    1. 32.14% were committed against the LGBT Community"
   ]
  },
  {
   "cell_type": "code",
   "execution_count": 9,
   "metadata": {},
   "outputs": [],
   "source": [
    "# Saving copy of dataset \n",
    "df.to_csv(r\"C:\\Users\\Robert\\OneDrive\\Desktop\\aus_final.csv\")"
   ]
  }
 ],
 "metadata": {
  "kernelspec": {
   "display_name": "Python 3",
   "language": "python",
   "name": "python3"
  },
  "language_info": {
   "codemirror_mode": {
    "name": "ipython",
    "version": 3
   },
   "file_extension": ".py",
   "mimetype": "text/x-python",
   "name": "python",
   "nbconvert_exporter": "python",
   "pygments_lexer": "ipython3",
   "version": "3.7.6"
  }
 },
 "nbformat": 4,
 "nbformat_minor": 4
}
