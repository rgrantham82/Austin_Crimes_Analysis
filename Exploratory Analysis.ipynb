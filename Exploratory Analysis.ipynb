{
 "cells": [
  {
   "cell_type": "markdown",
   "metadata": {},
   "source": [
    "# Further Cleaning & Exploratory Analysis\n",
    "In between this notebook, and the first, I cleaned the data further in Excel since the dataset was small enough to begin with. The resulting dataset lists 56 separate alleged hate crimes, in Austin, TX, since 2017. Out of the total number of reported, alleged incidents, 32.14% were directed at the LGBT Community. "
   ]
  },
  {
   "cell_type": "code",
   "execution_count": 1,
   "metadata": {},
   "outputs": [],
   "source": [
    "import pandas as pd\n",
    "import numpy as np\n",
    "import matplotlib.pyplot as plt\n",
    "plt.style.use('fivethirtyeight')"
   ]
  },
  {
   "cell_type": "code",
   "execution_count": 27,
   "metadata": {},
   "outputs": [
    {
     "name": "stdout",
     "output_type": "stream",
     "text": [
      "<class 'pandas.core.frame.DataFrame'>\n",
      "RangeIndex: 56 entries, 0 to 55\n",
      "Data columns (total 9 columns):\n",
      "date                            56 non-null object\n",
      "bias                            56 non-null object\n",
      "number_of_offenders_over_18     56 non-null int64\n",
      "number_of_offenders_under_18    56 non-null int64\n",
      "number_of_victims_over_18       56 non-null int64\n",
      "number_of_victims_under_18      56 non-null int64\n",
      "offense                         56 non-null object\n",
      "offense_location                56 non-null object\n",
      "offender_ethnicity              56 non-null object\n",
      "dtypes: int64(4), object(5)\n",
      "memory usage: 4.0+ KB\n",
      "None\n"
     ]
    }
   ],
   "source": [
    "# Importing the cleaned dataset\n",
    "df = pd.read_csv(r\"C:\\Users\\Robert\\OneDrive\\Desktop\\aus_final_clean.csv\")\n",
    "print(df.info())"
   ]
  },
  {
   "cell_type": "markdown",
   "metadata": {},
   "source": [
    "## Make the 'date' column into the index & convert non-numerical data columns into categorical data."
   ]
  },
  {
   "cell_type": "code",
   "execution_count": 28,
   "metadata": {
    "scrolled": false
   },
   "outputs": [
    {
     "name": "stdout",
     "output_type": "stream",
     "text": [
      "<class 'pandas.core.frame.DataFrame'>\n",
      "DatetimeIndex: 56 entries, 2017-01-01 to 2020-05-20\n",
      "Data columns (total 8 columns):\n",
      "bias                            56 non-null category\n",
      "number_of_offenders_over_18     56 non-null int64\n",
      "number_of_offenders_under_18    56 non-null int64\n",
      "number_of_victims_over_18       56 non-null int64\n",
      "number_of_victims_under_18      56 non-null int64\n",
      "offense                         56 non-null category\n",
      "offense_location                56 non-null category\n",
      "offender_ethnicity              56 non-null category\n",
      "dtypes: category(4), int64(4)\n",
      "memory usage: 4.5 KB\n",
      "None\n",
      "----------------------------------\n",
      "DatetimeIndex(['2017-01-01', '2017-02-01', '2017-03-21', '2017-04-12',\n",
      "               '2017-05-15', '2017-06-04', '2017-06-15', '2017-06-17',\n",
      "               '2017-07-01', '2017-07-05', '2017-07-20', '2017-07-21',\n",
      "               '2017-10-15', '2017-10-24', '2017-11-10', '2017-11-16',\n",
      "               '2017-11-26', '2018-01-19', '2018-01-25', '2018-02-08',\n",
      "               '2018-02-22', '2018-03-02', '2018-03-06', '2018-03-08',\n",
      "               '2018-04-01', '2018-04-30', '2018-05-21', '2018-06-16',\n",
      "               '2018-06-28', '2018-08-13', '2018-08-25', '2018-09-09',\n",
      "               '2018-09-11', '2018-10-11', '2018-10-19', '2018-12-15',\n",
      "               '2018-12-29', '2019-01-19', '2019-02-22', '2019-03-31',\n",
      "               '2019-04-04', '2019-06-11', '2019-08-06', '2019-08-12',\n",
      "               '2019-08-24', '2019-11-23', '2019-12-19', '2019-12-30',\n",
      "               '2020-03-01', '2020-03-08', '2020-03-22', '2020-03-22',\n",
      "               '2020-04-20', '2020-04-29', '2020-05-17', '2020-05-20'],\n",
      "              dtype='datetime64[ns]', name='date', freq=None)\n"
     ]
    }
   ],
   "source": [
    "# Performing the necessary conversions then displaying the new dataframe\n",
    "df['date'] = df['date'].astype('datetime64')\n",
    "df = df.set_index('date')\n",
    "df['bias'] = df['bias'].astype('category')\n",
    "df['offense'] = df['offense'].astype('category')\n",
    "df['offense_location'] = df['offense_location'].astype('category')\n",
    "df['offender_ethnicity'] = df['offender_ethnicity'].astype('category')\n",
    "print(df.info())\n",
    "print('----------------------------------')\n",
    "print(df.index)"
   ]
  },
  {
   "cell_type": "code",
   "execution_count": 26,
   "metadata": {
    "scrolled": true
   },
   "outputs": [
    {
     "name": "stdout",
     "output_type": "stream",
     "text": [
      "[['Anti-African American' 1 0 1 0 'Aggravated Assault' 'Park/Playground'\n",
      "  'Caucasian']\n",
      " ['Anti-Caucasian' 1 0 1 0 'Aggravated Assault'\n",
      "  'Highway/Road/Alley/Street/Sidewalk' 'African American']\n",
      " ['Anti-Jewish' 0 0 0 0 'Destruction'\n",
      "  'Highway/Road/Alley/Street/Sidewalk' 'Unknown']\n",
      " ['Anti-Jewish' 0 0 0 0 'Simple Assault' 'Air/Bus/Train Terminal'\n",
      "  'Caucasian']\n",
      " ['Anti-LGBT' 2 1 0 1 'Simple Assault' 'Residence/Home' 'Caucasian']\n",
      " ['Anti-LGBT' 2 0 1 0 'Simple Assault'\n",
      "  'Highway/Road/Alley/Street/Sidewalk' 'Caucasian']\n",
      " ['Anti-Hispanic' 1 0 1 0 'Intimidation' 'Bank/Savings and Loan'\n",
      "  'Caucasian']\n",
      " ['Anti-African American' 1 0 1 0 'Simple Assault'\n",
      "  'Highway/Road/Alley/Street/Sidewalk' 'Caucasian']\n",
      " ['Anti-African American' 1 0 1 0 'Simple Assault'\n",
      "  'Highway/Road/Alley/Street/Sidewalk' 'Unknown']\n",
      " ['Anti-African American' 1 0 1 0 'Intimidation' 'Residence/Home'\n",
      "  'Unknown']\n",
      " ['Anti-LGBT' 1 0 1 0 'Robbery' 'Residence/Home' 'Unknown']\n",
      " ['Anti-LGBT' 1 0 1 0 'Destruction' 'Residence/Home' 'Caucasian']\n",
      " ['Anti-African American' 1 0 1 0 'Simple Assault'\n",
      "  'Highway/Road/Alley/Street/Sidewalk' 'Hispanic']\n",
      " ['Anti-LGBT' 0 2 1 0 'Intimidation' 'Residence/Home' 'Hispanic']\n",
      " ['Anti-Muslim' 1 0 1 0 'Simple Assault' 'Restaurant' 'Caucasian']\n",
      " ['Anti-Muslim' 1 0 1 0 'Simple Assault' 'Other/Unknown' 'Caucasian']\n",
      " ['Anti-Hispanic' 0 0 1 0 'Intimidation' 'Parking/Drop Lot' 'Unknown']\n",
      " ['Anti-African American' 0 0 0 0 'Vandalism' 'Parking Lot/Garage'\n",
      "  'Unknown']\n",
      " ['Anti-LGBT' 1 0 2 0 'Burglary/Assault' 'Residence/Home' 'Caucasian']\n",
      " ['Anti-LGBT' 1 0 1 0 'Assault' 'Parking Lot/Garage' 'Caucasian']\n",
      " ['Anti-African American' 1 0 1 0 'Vandalism' 'Highway/Road/Street'\n",
      "  'Caucasian']\n",
      " ['Anti-Hispanic' 4 0 1 0 'Assault' 'Highway/Road/Street'\n",
      "  'African American']\n",
      " ['Anti-Muslim' 1 1 0 0 'Vandalism' 'Convenience Store' 'Caucasian']\n",
      " ['Anti-African American' 1 0 1 0 'Assault' 'Highway/Road/Street'\n",
      "  'Caucasian']\n",
      " ['Anti-African American' 1 0 1 0 'Intimidation' 'Parking Lot/Garage'\n",
      "  'Caucasian']\n",
      " ['Anti-Caucasian' 1 0 1 0 'Assault' 'Streets/Highway/Road/Alley'\n",
      "  'Hispanic']\n",
      " ['Anti-LGBT' 1 0 1 0 'Assault' 'Bar/Nightclub' 'Hispanic']\n",
      " ['Anti-LGBT' 1 0 1 0 'Assault' 'Parking Lot/Garage' 'Hispanic']\n",
      " ['Anti-African American' 1 0 1 0 'Assault' 'Convenience Store'\n",
      "  'Caucasian']\n",
      " ['Anti-African American' 1 0 1 0 'Assault' 'Residence/Home' 'Caucasian']\n",
      " ['Anti-African American' 1 0 1 0 'Assault' 'Convenience Store' 'Asian']\n",
      " ['Anti-Disability' 1 0 1 0 'Theft' 'Bar/Nightclub' 'Hispanic']\n",
      " ['Anti-African American' 1 0 1 0 'Aggravated Assault' 'Church/Synagogue'\n",
      "  'Caucasian']\n",
      " ['Anti-Hispanic' 1 0 0 1 'Assault' 'Park/Playground' 'Caucasian']\n",
      " ['Anti-LGBT' 1 0 1 0 'Assault' 'Highway/Road/Street' 'African American']\n",
      " ['Anti-Hispanic' 1 0 1 0 'Assault' 'Streets/Highway/Road/Alley'\n",
      "  'Hispanic']\n",
      " ['Anti-LGBT' 0 0 1 0 'Assault' 'Bar/Nightclub' 'Unknown']\n",
      " ['Anti-LGBT' 4 0 2 0 'Assault' 'Streets/Highway/Road/Alley'\n",
      "  'Hispanic (2) Caucasian(2)']\n",
      " ['Anti-Jewish' 0 0 1 0 'Vandalism' 'Residence/Home' 'Unknown']\n",
      " ['Anti-LGBT' 1 0 1 0 'Assault' 'Bar/Nightclub' 'Hispanic']\n",
      " ['Anti-Hispanic' 3 0 1 0 'Assault' 'School-Elementary/Secondary'\n",
      "  'Hispanic']\n",
      " ['Anti-Caucasian' 2 0 1 0 'Criminal Mischief' 'Hotel/Motel'\n",
      "  'African American']\n",
      " ['Anti-Muslim' 0 3 0 1 'Assault' 'Parking Lot/Garage' 'Hispanic']\n",
      " ['Anti-African American' 1 0 1 0 'Intimidation'\n",
      "  \"Drug Store/Dr.'s office/Hospital\" 'Caucasian']\n",
      " ['Anti-LGBT' 1 0 1 0 'Assault' 'Bar/Nightclub' 'Hispanic']\n",
      " ['Anti-LGBT' 1 0 1 0 'Assault' 'Streets/Highway/Road/Alley' 'Caucasian']\n",
      " ['Anti-African American' 1 0 1 0 'Intimidation'\n",
      "  'Shelter-Mission/Homeless' 'Caucasian']\n",
      " ['Anti-African American' 1 0 1 0 'Assault' 'Streets/Highway/Road/Alley'\n",
      "  'Caucasian']\n",
      " ['Anti-African American' 1 0 1 0 'Criminal Mischief' 'Residence/Home'\n",
      "  'Caucasian']\n",
      " ['Anti-LGBT' 2 0 1 0 'Assault' 'Parking Lot' 'Hispanic']\n",
      " ['Anti-LGBT' 0 0 1 0 'Criminal Mischief' 'Residence/Home' 'Unknown']\n",
      " ['Anti-Jewish' 0 0 1 0 'Criminal Mischief' 'Residence/Home' 'Unknown']\n",
      " ['Anti-Buddhist' 0 0 1 0 'Criminal Mischief'\n",
      "  'Church/Synagogue/Temple/Mosque' 'Unknown']\n",
      " ['Anti-LGBT' 1 0 1 0 'Assault by Threat' 'Department/Discount Store'\n",
      "  'African American']\n",
      " ['Anti-African American' 1 0 1 0 'Assault by Contact'\n",
      "  'Convenience Store' 'Caucasian']\n",
      " ['Anti-Hispanic' 1 0 1 0 'Assault with Injury'\n",
      "  'Streets/Highway/Road/Alley' 'Caucasian']]\n"
     ]
    }
   ],
   "source": [
    "vals = df.values\n",
    "print(vals)"
   ]
  },
  {
   "cell_type": "markdown",
   "metadata": {},
   "source": [
    "We'll look at the numerical data in the victims & offenders columns later. First, I want to explore the categorical data.\n",
    "\n",
    "## Question 1. How are reported incidences in Austin distributed according to motivation? "
   ]
  },
  {
   "cell_type": "code",
   "execution_count": 29,
   "metadata": {},
   "outputs": [
    {
     "name": "stdout",
     "output_type": "stream",
     "text": [
      "3\n",
      "51\n",
      "----------------------------------\n",
      "Total # of victims = 54\n"
     ]
    }
   ],
   "source": [
    "print(df.number_of_victims_under_18.sum())\n",
    "print(df.number_of_victims_over_18.sum())\n",
    "print('----------------------------------')\n",
    "print('Total # of victims = 54')"
   ]
  },
  {
   "cell_type": "code",
   "execution_count": 32,
   "metadata": {},
   "outputs": [
    {
     "name": "stdout",
     "output_type": "stream",
     "text": [
      "Anti-LGBT                18\n",
      "Anti-African American    18\n",
      "Anti-Hispanic             7\n",
      "Anti-Muslim               4\n",
      "Anti-Jewish               4\n",
      "Anti-Caucasian            3\n",
      "Anti-Disability           1\n",
      "Anti-Buddhist             1\n",
      "Name: bias, dtype: int64\n",
      "----------------------------------\n",
      "Total number of reported hate crimes since 2017 = 56\n"
     ]
    },
    {
     "data": {
      "image/png": "[encoded data removed]",
      "text/plain": [
       "<Figure size 432x288 with 1 Axes>"
      ]
     },
     "metadata": {
      "needs_background": "light"
     },
     "output_type": "display_data"
    }
   ],
   "source": [
    "bias = df.bias.value_counts()\n",
    "print(bias)\n",
    "print('----------------------------------')\n",
    "print('Total number of reported hate crimes since 2017 = 56')\n",
    "\n",
    "bias.plot.bar()\n",
    "plt.xlabel('Motivation')\n",
    "plt.ylabel('Total')\n",
    "plt.title('Distribution of Incidents according to Motivation')\n",
    "plt.show()"
   ]
  },
  {
   "cell_type": "markdown",
   "metadata": {},
   "source": [
    "## Question 2. How are the offense-types distributed? "
   ]
  },
  {
   "cell_type": "code",
   "execution_count": 6,
   "metadata": {},
   "outputs": [
    {
     "data": {
      "text/plain": [
       "Assault                21\n",
       "Simple Assault          8\n",
       "Intimidation            7\n",
       "Criminal Mischief       5\n",
       "Vandalism               4\n",
       "Aggravated Assault      3\n",
       "Destruction             2\n",
       "Theft                   1\n",
       "Robbery                 1\n",
       "Burglary/Assault        1\n",
       "Assault with Injury     1\n",
       "Assault by Threat       1\n",
       "Assault by Contact      1\n",
       "Name: offense, dtype: int64"
      ]
     },
     "metadata": {},
     "output_type": "display_data"
    },
    {
     "data": {
      "image/png": "[encoded data removed]",
      "text/plain": [
       "<Figure size 432x288 with 1 Axes>"
      ]
     },
     "metadata": {
      "needs_background": "light"
     },
     "output_type": "display_data"
    }
   ],
   "source": [
    "offense_count = df.offense.value_counts()\n",
    "display(offense_count)\n",
    "offense_count.plot.bar()\n",
    "plt.xlabel('Offense')\n",
    "plt.ylabel('Total')\n",
    "plt.title('Distribution of Offenses')\n",
    "plt.show()"
   ]
  },
  {
   "cell_type": "markdown",
   "metadata": {},
   "source": [
    "## Question 3. How are the alleged offenders distributed according to race? \n",
    "    1. 43.75% were White\n",
    "    2. 21.88% were Hispanic\n",
    "    3. 7.81% were African American\n",
    "    4. 1.56% were Asian (only 1 offender was recorded as Asian)\n",
    "\n",
    "The remaining offenders in the dataset are unknown in terms of race/ethnicity.     "
   ]
  },
  {
   "cell_type": "code",
   "execution_count": 34,
   "metadata": {},
   "outputs": [
    {
     "name": "stdout",
     "output_type": "stream",
     "text": [
      "7\n",
      "57\n",
      "----------------------------------\n",
      "Total # of offenders = 64\n"
     ]
    }
   ],
   "source": [
    "print(df.number_of_offenders_under_18.sum())\n",
    "print(df.number_of_offenders_over_18.sum())\n",
    "print('----------------------------------')\n",
    "print('Total # of offenders = 64')"
   ]
  },
  {
   "cell_type": "code",
   "execution_count": 35,
   "metadata": {},
   "outputs": [
    {
     "name": "stdout",
     "output_type": "stream",
     "text": [
      "Caucasian                    26\n",
      "Hispanic                     12\n",
      "Unknown                      11\n",
      "African American              5\n",
      "Hispanic (2) Caucasian(2)     1\n",
      "Asian                         1\n",
      "Name: offender_ethnicity, dtype: int64\n"
     ]
    },
    {
     "data": {
      "image/png": "[encoded data removed]",
      "text/plain": [
       "<Figure size 432x288 with 1 Axes>"
      ]
     },
     "metadata": {
      "needs_background": "light"
     },
     "output_type": "display_data"
    }
   ],
   "source": [
    "offenders_count = df['offender_ethnicity'].value_counts()\n",
    "print(offenders_count)\n",
    "offenders_count.plot.bar()\n",
    "plt.xlabel('Ethnicity')\n",
    "plt.ylabel('Total')\n",
    "plt.title('Distribution of Offender(s) Ethnicity')\n",
    "plt.show()"
   ]
  },
  {
   "cell_type": "markdown",
   "metadata": {},
   "source": [
    "Note...the above 'Offender' graph has an instance of 'Hispanic (2), Caucasian (2)' as a single column because of an incident that occurred on 1/19/19 https://www.statesman.com/news/20200124/confrontation-that-ignited-attack-on-austin-gay-couple-questioned-by-detective -- 2 of the offenders were white, and the other 2 were hispanic. "
   ]
  }
 ],
 "metadata": {
  "kernelspec": {
   "display_name": "Python 3",
   "language": "python",
   "name": "python3"
  },
  "language_info": {
   "codemirror_mode": {
    "name": "ipython",
    "version": 3
   },
   "file_extension": ".py",
   "mimetype": "text/x-python",
   "name": "python",
   "nbconvert_exporter": "python",
   "pygments_lexer": "ipython3",
   "version": "3.7.6"
  }
 },
 "nbformat": 4,
 "nbformat_minor": 4
}
