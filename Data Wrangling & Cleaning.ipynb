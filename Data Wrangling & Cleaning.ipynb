{
 "cells": [
  {
   "cell_type": "markdown",
   "metadata": {},
   "source": [
    "# Analyzing hate crimes trends for Austin against the USA as a whole, 2017 - Present"
   ]
  },
  {
   "cell_type": "markdown",
   "metadata": {},
   "source": [
    "## Data Wrangling & Cleaning"
   ]
  },
  {
   "cell_type": "markdown",
   "metadata": {},
   "source": [
    "I've been working, off and on, on this project for since about January 2020. One-half practice, one-half because I want to try and contribute to making sense of the chaos that is our world right now. What I intend is to analyze hate crimes trends for Austin, TX against the USA as a whole from 2017 to the present, with particular focus on the LGBT Community. \n",
    "\n",
    "I am using data provided by Austin PD in this notebook, and in the next 2, or 3 notebooks as well. For now, I am focusing solely on data for Austin. I will get into broader data for the USA later down the road."
   ]
  },
  {
   "cell_type": "code",
   "execution_count": 1,
   "metadata": {},
   "outputs": [],
   "source": [
    "import pandas as pd\n",
    "import numpy as np"
   ]
  },
  {
   "cell_type": "code",
   "execution_count": 2,
   "metadata": {},
   "outputs": [
    {
     "data": {
      "text/html": [
       "<div>\n",
       "<style scoped>\n",
       "    .dataframe tbody tr th:only-of-type {\n",
       "        vertical-align: middle;\n",
       "    }\n",
       "\n",
       "    .dataframe tbody tr th {\n",
       "        vertical-align: top;\n",
       "    }\n",
       "\n",
       "    .dataframe thead th {\n",
       "        text-align: right;\n",
       "    }\n",
       "</style>\n",
       "<table border=\"1\" class=\"dataframe\">\n",
       "  <thead>\n",
       "    <tr style=\"text-align: right;\">\n",
       "      <th></th>\n",
       "      <th>month</th>\n",
       "      <th>incident_number</th>\n",
       "      <th>date_of_incident_day_of_week</th>\n",
       "      <th>number_of_vitims_under_18</th>\n",
       "      <th>number_of_victims_over_18</th>\n",
       "      <th>number_of_offenders_under_18</th>\n",
       "      <th>number_of_offenders_over_18</th>\n",
       "      <th>race_or_ethnic_of_offender</th>\n",
       "      <th>offense</th>\n",
       "      <th>offense_location</th>\n",
       "      <th>bias</th>\n",
       "      <th>victim_type</th>\n",
       "    </tr>\n",
       "  </thead>\n",
       "  <tbody>\n",
       "    <tr>\n",
       "      <th>0</th>\n",
       "      <td>January</td>\n",
       "      <td>2017-241137</td>\n",
       "      <td>01/01/2017/Sun</td>\n",
       "      <td>0</td>\n",
       "      <td>1</td>\n",
       "      <td>0</td>\n",
       "      <td>1</td>\n",
       "      <td>White/Not Hispanic</td>\n",
       "      <td>Aggravated Assault</td>\n",
       "      <td>Park/Playground</td>\n",
       "      <td>Anti-Black or African American</td>\n",
       "      <td>Individual</td>\n",
       "    </tr>\n",
       "    <tr>\n",
       "      <th>1</th>\n",
       "      <td>February</td>\n",
       "      <td>2017-580344</td>\n",
       "      <td>02/01/2017/Wed</td>\n",
       "      <td>0</td>\n",
       "      <td>1</td>\n",
       "      <td>0</td>\n",
       "      <td>1</td>\n",
       "      <td>Black or African American/Not Hispanic</td>\n",
       "      <td>Aggravated Assault</td>\n",
       "      <td>Highway/Road/Alley/Street/Sidewalk</td>\n",
       "      <td>Anti-White</td>\n",
       "      <td>Individual</td>\n",
       "    </tr>\n",
       "    <tr>\n",
       "      <th>2</th>\n",
       "      <td>March</td>\n",
       "      <td>2017-800291</td>\n",
       "      <td>03/21/2017/Tues</td>\n",
       "      <td>0</td>\n",
       "      <td>0</td>\n",
       "      <td>0</td>\n",
       "      <td>0</td>\n",
       "      <td>Unknown</td>\n",
       "      <td>Destruction</td>\n",
       "      <td>Highway/Road/Alley/Street/Sidewalk</td>\n",
       "      <td>Anti-Jewish</td>\n",
       "      <td>Other</td>\n",
       "    </tr>\n",
       "    <tr>\n",
       "      <th>3</th>\n",
       "      <td>April</td>\n",
       "      <td>2017-1021534</td>\n",
       "      <td>04/12/2017/Wed</td>\n",
       "      <td>0</td>\n",
       "      <td>0</td>\n",
       "      <td>0</td>\n",
       "      <td>0</td>\n",
       "      <td>White/Unknown</td>\n",
       "      <td>Simple Assault</td>\n",
       "      <td>Air/Bus/Train Terminal</td>\n",
       "      <td>Anti-Jewish</td>\n",
       "      <td>Individual</td>\n",
       "    </tr>\n",
       "    <tr>\n",
       "      <th>4</th>\n",
       "      <td>May</td>\n",
       "      <td>2017-1351550</td>\n",
       "      <td>05/15/2017/Mon</td>\n",
       "      <td>1</td>\n",
       "      <td>0</td>\n",
       "      <td>1</td>\n",
       "      <td>2</td>\n",
       "      <td>White/Not Hispanic</td>\n",
       "      <td>Simple Assault</td>\n",
       "      <td>Residence/Home</td>\n",
       "      <td>Anti-Gay (Male)</td>\n",
       "      <td>Individual</td>\n",
       "    </tr>\n",
       "  </tbody>\n",
       "</table>\n",
       "</div>"
      ],
      "text/plain": [
       "      month incident_number date_of_incident_day_of_week  \\\n",
       "0   January     2017-241137               01/01/2017/Sun   \n",
       "1  February     2017-580344               02/01/2017/Wed   \n",
       "2     March     2017-800291              03/21/2017/Tues   \n",
       "3     April    2017-1021534               04/12/2017/Wed   \n",
       "4       May    2017-1351550               05/15/2017/Mon   \n",
       "\n",
       "   number_of_vitims_under_18  number_of_victims_over_18  \\\n",
       "0                          0                          1   \n",
       "1                          0                          1   \n",
       "2                          0                          0   \n",
       "3                          0                          0   \n",
       "4                          1                          0   \n",
       "\n",
       "   number_of_offenders_under_18  number_of_offenders_over_18  \\\n",
       "0                             0                            1   \n",
       "1                             0                            1   \n",
       "2                             0                            0   \n",
       "3                             0                            0   \n",
       "4                             1                            2   \n",
       "\n",
       "               race_or_ethnic_of_offender             offense  \\\n",
       "0                      White/Not Hispanic  Aggravated Assault   \n",
       "1  Black or African American/Not Hispanic  Aggravated Assault   \n",
       "2                                 Unknown         Destruction   \n",
       "3                           White/Unknown      Simple Assault   \n",
       "4                      White/Not Hispanic      Simple Assault   \n",
       "\n",
       "                     offense_location                            bias  \\\n",
       "0                     Park/Playground  Anti-Black or African American   \n",
       "1  Highway/Road/Alley/Street/Sidewalk                      Anti-White   \n",
       "2  Highway/Road/Alley/Street/Sidewalk                     Anti-Jewish   \n",
       "3              Air/Bus/Train Terminal                     Anti-Jewish   \n",
       "4                      Residence/Home                 Anti-Gay (Male)   \n",
       "\n",
       "  victim_type  \n",
       "0  Individual  \n",
       "1  Individual  \n",
       "2       Other  \n",
       "3  Individual  \n",
       "4  Individual  "
      ]
     },
     "metadata": {},
     "output_type": "display_data"
    }
   ],
   "source": [
    "# Let's load some data & get to work! I am utilizing data from data.austintexas.gov located in the Austin PD's database on\n",
    "# reported hatecrimes. \n",
    "\n",
    "aus_17 = pd.read_csv('https://data.austintexas.gov/resource/79qh-wdpx.csv')\n",
    "\n",
    "display(aus_17.head())"
   ]
  },
  {
   "cell_type": "markdown",
   "metadata": {},
   "source": [
    "### First glance...\n",
    "As I stated previously, my goal is to analyze trends over time. In particular, I want to focus on how hate crime affects the LGBT community. Initially speaking, most of these columns will be unnecessary for my purposes so I suspect we'll be removing most of them. "
   ]
  },
  {
   "cell_type": "code",
   "execution_count": 3,
   "metadata": {},
   "outputs": [],
   "source": [
    "# Loading the datasets for '18, '19, and this year\n",
    "aus_18 = pd.read_csv('https://data.austintexas.gov/resource/idj2-d9th.csv')\n",
    "aus_19 = pd.read_csv('https://data.austintexas.gov/resource/e3qf-htd9.csv')\n",
    "aus_20 = pd.read_csv('https://data.austintexas.gov/resource/y6x2-kpr9.csv')"
   ]
  },
  {
   "cell_type": "code",
   "execution_count": 4,
   "metadata": {},
   "outputs": [
    {
     "name": "stderr",
     "output_type": "stream",
     "text": [
      "C:\\Users\\Robert\\anaconda3\\lib\\site-packages\\ipykernel_launcher.py:2: FutureWarning: Sorting because non-concatenation axis is not aligned. A future version\n",
      "of pandas will change to not sort by default.\n",
      "\n",
      "To accept the future behavior, pass 'sort=False'.\n",
      "\n",
      "To retain the current behavior and silence the warning, pass 'sort=True'.\n",
      "\n",
      "  \n"
     ]
    }
   ],
   "source": [
    "# Concatenating the datasets\n",
    "aus_final = pd.concat([aus_17, aus_18, aus_19, aus_20])"
   ]
  },
  {
   "cell_type": "code",
   "execution_count": 5,
   "metadata": {},
   "outputs": [
    {
     "data": {
      "text/plain": [
       "bias                             0\n",
       "date_of_incident                36\n",
       "date_of_incident_day_of_week    17\n",
       "day_of_week                     36\n",
       "incident_number                  0\n",
       "month                            0\n",
       "notes                           51\n",
       "number_of_offenders_over        36\n",
       "number_of_offenders_over_18     17\n",
       "number_of_offenders_under       36\n",
       "number_of_offenders_under_18    17\n",
       "number_of_victims_over_18        0\n",
       "number_of_victims_under_18      36\n",
       "number_of_vitims_under_18       17\n",
       "offense                         36\n",
       "offense_location                 0\n",
       "offense_s                       17\n",
       "race_ethnic_of_offender_s       34\n",
       "race_ethnicity_of_offenders     36\n",
       "race_or_ethnic_of_offender      36\n",
       "victim_type                     17\n",
       "dtype: int64"
      ]
     },
     "metadata": {},
     "output_type": "display_data"
    },
    {
     "data": {
      "text/plain": [
       "'-------------------------------'"
      ]
     },
     "metadata": {},
     "output_type": "display_data"
    },
    {
     "data": {
      "text/plain": [
       "Index(['bias', 'date_of_incident', 'date_of_incident_day_of_week',\n",
       "       'day_of_week', 'incident_number', 'month', 'notes',\n",
       "       'number_of_offenders_over', 'number_of_offenders_over_18',\n",
       "       'number_of_offenders_under', 'number_of_offenders_under_18',\n",
       "       'number_of_victims_over_18', 'number_of_victims_under_18',\n",
       "       'number_of_vitims_under_18', 'offense', 'offense_location', 'offense_s',\n",
       "       'race_ethnic_of_offender_s', 'race_ethnicity_of_offenders',\n",
       "       'race_or_ethnic_of_offender', 'victim_type'],\n",
       "      dtype='object')"
      ]
     },
     "metadata": {},
     "output_type": "display_data"
    }
   ],
   "source": [
    "# Checking null values\n",
    "display(aus_final.isnull().sum())\n",
    "display(\"-------------------------------\")\n",
    "# Displaying column index\n",
    "display(aus_final.columns)"
   ]
  },
  {
   "cell_type": "code",
   "execution_count": 6,
   "metadata": {},
   "outputs": [
    {
     "data": {
      "text/html": [
       "<div>\n",
       "<style scoped>\n",
       "    .dataframe tbody tr th:only-of-type {\n",
       "        vertical-align: middle;\n",
       "    }\n",
       "\n",
       "    .dataframe tbody tr th {\n",
       "        vertical-align: top;\n",
       "    }\n",
       "\n",
       "    .dataframe thead th {\n",
       "        text-align: right;\n",
       "    }\n",
       "</style>\n",
       "<table border=\"1\" class=\"dataframe\">\n",
       "  <thead>\n",
       "    <tr style=\"text-align: right;\">\n",
       "      <th></th>\n",
       "      <th>bias</th>\n",
       "      <th>incident_number</th>\n",
       "      <th>month</th>\n",
       "      <th>number_of_victims_over_18</th>\n",
       "      <th>offense_location</th>\n",
       "    </tr>\n",
       "  </thead>\n",
       "  <tbody>\n",
       "    <tr>\n",
       "      <th>0</th>\n",
       "      <td>Anti-Black or African American</td>\n",
       "      <td>2017-241137</td>\n",
       "      <td>January</td>\n",
       "      <td>1</td>\n",
       "      <td>Park/Playground</td>\n",
       "    </tr>\n",
       "    <tr>\n",
       "      <th>1</th>\n",
       "      <td>Anti-White</td>\n",
       "      <td>2017-580344</td>\n",
       "      <td>February</td>\n",
       "      <td>1</td>\n",
       "      <td>Highway/Road/Alley/Street/Sidewalk</td>\n",
       "    </tr>\n",
       "    <tr>\n",
       "      <th>2</th>\n",
       "      <td>Anti-Jewish</td>\n",
       "      <td>2017-800291</td>\n",
       "      <td>March</td>\n",
       "      <td>0</td>\n",
       "      <td>Highway/Road/Alley/Street/Sidewalk</td>\n",
       "    </tr>\n",
       "    <tr>\n",
       "      <th>3</th>\n",
       "      <td>Anti-Jewish</td>\n",
       "      <td>2017-1021534</td>\n",
       "      <td>April</td>\n",
       "      <td>0</td>\n",
       "      <td>Air/Bus/Train Terminal</td>\n",
       "    </tr>\n",
       "    <tr>\n",
       "      <th>4</th>\n",
       "      <td>Anti-Gay (Male)</td>\n",
       "      <td>2017-1351550</td>\n",
       "      <td>May</td>\n",
       "      <td>0</td>\n",
       "      <td>Residence/Home</td>\n",
       "    </tr>\n",
       "  </tbody>\n",
       "</table>\n",
       "</div>"
      ],
      "text/plain": [
       "                             bias incident_number     month  \\\n",
       "0  Anti-Black or African American     2017-241137   January   \n",
       "1                      Anti-White     2017-580344  February   \n",
       "2                     Anti-Jewish     2017-800291     March   \n",
       "3                     Anti-Jewish    2017-1021534     April   \n",
       "4                 Anti-Gay (Male)    2017-1351550       May   \n",
       "\n",
       "   number_of_victims_over_18                    offense_location  \n",
       "0                          1                     Park/Playground  \n",
       "1                          1  Highway/Road/Alley/Street/Sidewalk  \n",
       "2                          0  Highway/Road/Alley/Street/Sidewalk  \n",
       "3                          0              Air/Bus/Train Terminal  \n",
       "4                          0                      Residence/Home  "
      ]
     },
     "metadata": {},
     "output_type": "display_data"
    },
    {
     "data": {
      "text/plain": [
       "'----------------------------------'"
      ]
     },
     "metadata": {},
     "output_type": "display_data"
    },
    {
     "data": {
      "text/html": [
       "<div>\n",
       "<style scoped>\n",
       "    .dataframe tbody tr th:only-of-type {\n",
       "        vertical-align: middle;\n",
       "    }\n",
       "\n",
       "    .dataframe tbody tr th {\n",
       "        vertical-align: top;\n",
       "    }\n",
       "\n",
       "    .dataframe thead th {\n",
       "        text-align: right;\n",
       "    }\n",
       "</style>\n",
       "<table border=\"1\" class=\"dataframe\">\n",
       "  <thead>\n",
       "    <tr style=\"text-align: right;\">\n",
       "      <th></th>\n",
       "      <th>bias</th>\n",
       "      <th>incident_number</th>\n",
       "      <th>month</th>\n",
       "      <th>number_of_victims_over_18</th>\n",
       "      <th>offense_location</th>\n",
       "    </tr>\n",
       "  </thead>\n",
       "  <tbody>\n",
       "    <tr>\n",
       "      <th>0</th>\n",
       "      <td>Anti-Black</td>\n",
       "      <td>2020-602085</td>\n",
       "      <td>March</td>\n",
       "      <td>1</td>\n",
       "      <td>Residence/Home</td>\n",
       "    </tr>\n",
       "    <tr>\n",
       "      <th>1</th>\n",
       "      <td>Anti-Gay (Male); Anti-Transgender</td>\n",
       "      <td>2020-680226</td>\n",
       "      <td>March</td>\n",
       "      <td>1</td>\n",
       "      <td>Parking Lot</td>\n",
       "    </tr>\n",
       "    <tr>\n",
       "      <th>2</th>\n",
       "      <td>Anti-Gay (Male); Anti-Jewish</td>\n",
       "      <td>2020-5011788</td>\n",
       "      <td>March</td>\n",
       "      <td>1</td>\n",
       "      <td>Residence/Home</td>\n",
       "    </tr>\n",
       "    <tr>\n",
       "      <th>3</th>\n",
       "      <td>Anti-Buddhist</td>\n",
       "      <td>2020-5015689</td>\n",
       "      <td>April</td>\n",
       "      <td>1</td>\n",
       "      <td>Church/Synagogue/Temple/Mosque</td>\n",
       "    </tr>\n",
       "    <tr>\n",
       "      <th>4</th>\n",
       "      <td>Anti-Gay (Male); Anti-Transgender</td>\n",
       "      <td>2020-5016804</td>\n",
       "      <td>April</td>\n",
       "      <td>1</td>\n",
       "      <td>Department/Discount Store</td>\n",
       "    </tr>\n",
       "  </tbody>\n",
       "</table>\n",
       "</div>"
      ],
      "text/plain": [
       "                                bias incident_number  month  \\\n",
       "0                         Anti-Black     2020-602085  March   \n",
       "1  Anti-Gay (Male); Anti-Transgender     2020-680226  March   \n",
       "2       Anti-Gay (Male); Anti-Jewish    2020-5011788  March   \n",
       "3                      Anti-Buddhist    2020-5015689  April   \n",
       "4  Anti-Gay (Male); Anti-Transgender    2020-5016804  April   \n",
       "\n",
       "   number_of_victims_over_18                offense_location  \n",
       "0                          1                  Residence/Home  \n",
       "1                          1                     Parking Lot  \n",
       "2                          1                  Residence/Home  \n",
       "3                          1  Church/Synagogue/Temple/Mosque  \n",
       "4                          1       Department/Discount Store  "
      ]
     },
     "metadata": {},
     "output_type": "display_data"
    },
    {
     "data": {
      "text/plain": [
       "'----------------------------------'"
      ]
     },
     "metadata": {},
     "output_type": "display_data"
    },
    {
     "data": {
      "text/plain": [
       "bias                         0\n",
       "incident_number              0\n",
       "month                        0\n",
       "number_of_victims_over_18    0\n",
       "offense_location             0\n",
       "dtype: int64"
      ]
     },
     "metadata": {},
     "output_type": "display_data"
    }
   ],
   "source": [
    "# Removing messy columns \n",
    "aus_final.drop(['date_of_incident', 'date_of_incident_day_of_week', 'day_of_week', 'notes', 'number_of_offenders_over',\n",
    "                'number_of_offenders_over_18', 'number_of_offenders_under', 'number_of_offenders_under_18', \n",
    "                'number_of_victims_under_18', 'number_of_vitims_under_18', 'offense', 'offense_s', 'race_ethnic_of_offender_s', \n",
    "                'race_ethnicity_of_offenders', 'race_or_ethnic_of_offender', 'victim_type'], axis=1, inplace=True)\n",
    "\n",
    "# Displaying clean dataset head & tail\n",
    "display(aus_final.head())\n",
    "display('----------------------------------')\n",
    "display(aus_final.tail())\n",
    "display('----------------------------------')\n",
    "# Rechecking for null values\n",
    "display(aus_final.isnull().sum())"
   ]
  },
  {
   "cell_type": "markdown",
   "metadata": {},
   "source": [
    "We can still go a bit farther in the cleaning process:\n",
    "\n",
    "1. The 'incident_number' column can be split along the '-' -- we can name a new 'year' column and convert it into datetime, and we can create a new 'incident_number' column. \n",
    "2. There are various descriptions in the 'bias' column that can be categorized into one variable as 'anti-lgbt.' Let's see what we can do with these. \n",
    "3. Also, we can convert the 'bias' column into a category type."
   ]
  },
  {
   "cell_type": "code",
   "execution_count": 7,
   "metadata": {},
   "outputs": [],
   "source": [
    "# Converting 'bias' to category type; splitting, converting, & renaming new columns from the 'incident_number' column \n",
    "aus_final['numerical_bias'] = pd.Categorical(aus_final.bias)"
   ]
  },
  {
   "cell_type": "code",
   "execution_count": 8,
   "metadata": {},
   "outputs": [
    {
     "ename": "ValueError",
     "evalue": "time data '2017-241137' does not match format '%d%m%Y' (match)",
     "output_type": "error",
     "traceback": [
      "\u001b[1;31m---------------------------------------------------------------------------\u001b[0m",
      "\u001b[1;31mTypeError\u001b[0m                                 Traceback (most recent call last)",
      "\u001b[1;32mC:\\Users\\Robert\\anaconda3\\lib\\site-packages\\pandas\\core\\tools\\datetimes.py\u001b[0m in \u001b[0;36m_convert_listlike_datetimes\u001b[1;34m(arg, box, format, name, tz, unit, errors, infer_datetime_format, dayfirst, yearfirst, exact)\u001b[0m\n\u001b[0;32m    290\u001b[0m             \u001b[1;32mtry\u001b[0m\u001b[1;33m:\u001b[0m\u001b[1;33m\u001b[0m\u001b[1;33m\u001b[0m\u001b[0m\n\u001b[1;32m--> 291\u001b[1;33m                 \u001b[0mvalues\u001b[0m\u001b[1;33m,\u001b[0m \u001b[0mtz\u001b[0m \u001b[1;33m=\u001b[0m \u001b[0mconversion\u001b[0m\u001b[1;33m.\u001b[0m\u001b[0mdatetime_to_datetime64\u001b[0m\u001b[1;33m(\u001b[0m\u001b[0marg\u001b[0m\u001b[1;33m)\u001b[0m\u001b[1;33m\u001b[0m\u001b[1;33m\u001b[0m\u001b[0m\n\u001b[0m\u001b[0;32m    292\u001b[0m                 \u001b[1;32mreturn\u001b[0m \u001b[0mDatetimeIndex\u001b[0m\u001b[1;33m.\u001b[0m\u001b[0m_simple_new\u001b[0m\u001b[1;33m(\u001b[0m\u001b[0mvalues\u001b[0m\u001b[1;33m,\u001b[0m \u001b[0mname\u001b[0m\u001b[1;33m=\u001b[0m\u001b[0mname\u001b[0m\u001b[1;33m,\u001b[0m \u001b[0mtz\u001b[0m\u001b[1;33m=\u001b[0m\u001b[0mtz\u001b[0m\u001b[1;33m)\u001b[0m\u001b[1;33m\u001b[0m\u001b[1;33m\u001b[0m\u001b[0m\n",
      "\u001b[1;32mpandas\\_libs\\tslibs\\conversion.pyx\u001b[0m in \u001b[0;36mpandas._libs.tslibs.conversion.datetime_to_datetime64\u001b[1;34m()\u001b[0m\n",
      "\u001b[1;31mTypeError\u001b[0m: Unrecognized value type: <class 'str'>",
      "\nDuring handling of the above exception, another exception occurred:\n",
      "\u001b[1;31mValueError\u001b[0m                                Traceback (most recent call last)",
      "\u001b[1;32m<ipython-input-8-702a2dc1a614>\u001b[0m in \u001b[0;36m<module>\u001b[1;34m()\u001b[0m\n\u001b[0;32m      1\u001b[0m \u001b[1;31m# Let's see if this works...\u001b[0m\u001b[1;33m\u001b[0m\u001b[1;33m\u001b[0m\u001b[1;33m\u001b[0m\u001b[0m\n\u001b[1;32m----> 2\u001b[1;33m \u001b[0maus_final\u001b[0m\u001b[1;33m[\u001b[0m\u001b[1;34m'incident_number'\u001b[0m\u001b[1;33m]\u001b[0m \u001b[1;33m=\u001b[0m \u001b[0mpd\u001b[0m\u001b[1;33m.\u001b[0m\u001b[0mto_datetime\u001b[0m\u001b[1;33m(\u001b[0m\u001b[0maus_final\u001b[0m\u001b[1;33m[\u001b[0m\u001b[1;34m'incident_number'\u001b[0m\u001b[1;33m]\u001b[0m\u001b[1;33m,\u001b[0m \u001b[0mformat\u001b[0m\u001b[1;33m=\u001b[0m\u001b[1;34m'%d%m%Y'\u001b[0m\u001b[1;33m)\u001b[0m\u001b[1;33m\u001b[0m\u001b[1;33m\u001b[0m\u001b[0m\n\u001b[0m",
      "\u001b[1;32mC:\\Users\\Robert\\anaconda3\\lib\\site-packages\\pandas\\core\\tools\\datetimes.py\u001b[0m in \u001b[0;36mto_datetime\u001b[1;34m(arg, errors, dayfirst, yearfirst, utc, box, format, exact, unit, infer_datetime_format, origin, cache)\u001b[0m\n\u001b[0;32m    590\u001b[0m         \u001b[1;32melse\u001b[0m\u001b[1;33m:\u001b[0m\u001b[1;33m\u001b[0m\u001b[1;33m\u001b[0m\u001b[0m\n\u001b[0;32m    591\u001b[0m             \u001b[1;32mfrom\u001b[0m \u001b[0mpandas\u001b[0m \u001b[1;32mimport\u001b[0m \u001b[0mSeries\u001b[0m\u001b[1;33m\u001b[0m\u001b[1;33m\u001b[0m\u001b[0m\n\u001b[1;32m--> 592\u001b[1;33m             \u001b[0mvalues\u001b[0m \u001b[1;33m=\u001b[0m \u001b[0mconvert_listlike\u001b[0m\u001b[1;33m(\u001b[0m\u001b[0marg\u001b[0m\u001b[1;33m.\u001b[0m\u001b[0m_values\u001b[0m\u001b[1;33m,\u001b[0m \u001b[1;32mTrue\u001b[0m\u001b[1;33m,\u001b[0m \u001b[0mformat\u001b[0m\u001b[1;33m)\u001b[0m\u001b[1;33m\u001b[0m\u001b[1;33m\u001b[0m\u001b[0m\n\u001b[0m\u001b[0;32m    593\u001b[0m             \u001b[0mresult\u001b[0m \u001b[1;33m=\u001b[0m \u001b[0mSeries\u001b[0m\u001b[1;33m(\u001b[0m\u001b[0mvalues\u001b[0m\u001b[1;33m,\u001b[0m \u001b[0mindex\u001b[0m\u001b[1;33m=\u001b[0m\u001b[0marg\u001b[0m\u001b[1;33m.\u001b[0m\u001b[0mindex\u001b[0m\u001b[1;33m,\u001b[0m \u001b[0mname\u001b[0m\u001b[1;33m=\u001b[0m\u001b[0marg\u001b[0m\u001b[1;33m.\u001b[0m\u001b[0mname\u001b[0m\u001b[1;33m)\u001b[0m\u001b[1;33m\u001b[0m\u001b[1;33m\u001b[0m\u001b[0m\n\u001b[0;32m    594\u001b[0m     \u001b[1;32melif\u001b[0m \u001b[0misinstance\u001b[0m\u001b[1;33m(\u001b[0m\u001b[0marg\u001b[0m\u001b[1;33m,\u001b[0m \u001b[1;33m(\u001b[0m\u001b[0mABCDataFrame\u001b[0m\u001b[1;33m,\u001b[0m \u001b[0mcompat\u001b[0m\u001b[1;33m.\u001b[0m\u001b[0mMutableMapping\u001b[0m\u001b[1;33m)\u001b[0m\u001b[1;33m)\u001b[0m\u001b[1;33m:\u001b[0m\u001b[1;33m\u001b[0m\u001b[1;33m\u001b[0m\u001b[0m\n",
      "\u001b[1;32mC:\\Users\\Robert\\anaconda3\\lib\\site-packages\\pandas\\core\\tools\\datetimes.py\u001b[0m in \u001b[0;36m_convert_listlike_datetimes\u001b[1;34m(arg, box, format, name, tz, unit, errors, infer_datetime_format, dayfirst, yearfirst, exact)\u001b[0m\n\u001b[0;32m    292\u001b[0m                 \u001b[1;32mreturn\u001b[0m \u001b[0mDatetimeIndex\u001b[0m\u001b[1;33m.\u001b[0m\u001b[0m_simple_new\u001b[0m\u001b[1;33m(\u001b[0m\u001b[0mvalues\u001b[0m\u001b[1;33m,\u001b[0m \u001b[0mname\u001b[0m\u001b[1;33m=\u001b[0m\u001b[0mname\u001b[0m\u001b[1;33m,\u001b[0m \u001b[0mtz\u001b[0m\u001b[1;33m=\u001b[0m\u001b[0mtz\u001b[0m\u001b[1;33m)\u001b[0m\u001b[1;33m\u001b[0m\u001b[1;33m\u001b[0m\u001b[0m\n\u001b[0;32m    293\u001b[0m             \u001b[1;32mexcept\u001b[0m \u001b[1;33m(\u001b[0m\u001b[0mValueError\u001b[0m\u001b[1;33m,\u001b[0m \u001b[0mTypeError\u001b[0m\u001b[1;33m)\u001b[0m\u001b[1;33m:\u001b[0m\u001b[1;33m\u001b[0m\u001b[1;33m\u001b[0m\u001b[0m\n\u001b[1;32m--> 294\u001b[1;33m                 \u001b[1;32mraise\u001b[0m \u001b[0me\u001b[0m\u001b[1;33m\u001b[0m\u001b[1;33m\u001b[0m\u001b[0m\n\u001b[0m\u001b[0;32m    295\u001b[0m \u001b[1;33m\u001b[0m\u001b[0m\n\u001b[0;32m    296\u001b[0m     \u001b[1;32mif\u001b[0m \u001b[0mresult\u001b[0m \u001b[1;32mis\u001b[0m \u001b[1;32mNone\u001b[0m\u001b[1;33m:\u001b[0m\u001b[1;33m\u001b[0m\u001b[1;33m\u001b[0m\u001b[0m\n",
      "\u001b[1;32mC:\\Users\\Robert\\anaconda3\\lib\\site-packages\\pandas\\core\\tools\\datetimes.py\u001b[0m in \u001b[0;36m_convert_listlike_datetimes\u001b[1;34m(arg, box, format, name, tz, unit, errors, infer_datetime_format, dayfirst, yearfirst, exact)\u001b[0m\n\u001b[0;32m    259\u001b[0m                 \u001b[1;32mtry\u001b[0m\u001b[1;33m:\u001b[0m\u001b[1;33m\u001b[0m\u001b[1;33m\u001b[0m\u001b[0m\n\u001b[0;32m    260\u001b[0m                     result, timezones = array_strptime(\n\u001b[1;32m--> 261\u001b[1;33m                         arg, format, exact=exact, errors=errors)\n\u001b[0m\u001b[0;32m    262\u001b[0m                     \u001b[1;32mif\u001b[0m \u001b[1;34m'%Z'\u001b[0m \u001b[1;32min\u001b[0m \u001b[0mformat\u001b[0m \u001b[1;32mor\u001b[0m \u001b[1;34m'%z'\u001b[0m \u001b[1;32min\u001b[0m \u001b[0mformat\u001b[0m\u001b[1;33m:\u001b[0m\u001b[1;33m\u001b[0m\u001b[1;33m\u001b[0m\u001b[0m\n\u001b[0;32m    263\u001b[0m                         return _return_parsed_timezone_results(\n",
      "\u001b[1;32mpandas\\_libs\\tslibs\\strptime.pyx\u001b[0m in \u001b[0;36mpandas._libs.tslibs.strptime.array_strptime\u001b[1;34m()\u001b[0m\n",
      "\u001b[1;31mValueError\u001b[0m: time data '2017-241137' does not match format '%d%m%Y' (match)"
     ]
    }
   ],
   "source": [
    "# Let's see if this works...\n",
    "aus_final['incident_number'] = pd.to_datetime(aus_final['incident_number'], format='%d%m%Y')"
   ]
  }
 ],
 "metadata": {
  "kernelspec": {
   "display_name": "Python 3",
   "language": "python",
   "name": "python3"
  },
  "language_info": {
   "codemirror_mode": {
    "name": "ipython",
    "version": 3
   },
   "file_extension": ".py",
   "mimetype": "text/x-python",
   "name": "python",
   "nbconvert_exporter": "python",
   "pygments_lexer": "ipython3",
   "version": "3.7.6"
  }
 },
 "nbformat": 4,
 "nbformat_minor": 4
}
