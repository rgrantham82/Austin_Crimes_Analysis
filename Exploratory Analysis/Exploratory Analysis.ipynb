{
 "cells": [
  {
   "cell_type": "markdown",
   "metadata": {},
   "source": [
    "# Exploratory Analysis\n",
    "In between this notebook, and the first, I cleaned the data further in Excel since the dataset was small enough to begin with. First, I combined the various LGBT related biases into one as 'Anti-LGBT'. I also, cleaned up some other biases to make the entire column uniform as possible. Second, I cleaned the offender ethnicity column for the same reason. The resulting dataset lists 56 separate alleged hate crimes, in Austin, TX, since 2017. \n",
    "\n",
    "Out of the total number of reported, alleged incidents, 32.14% were directed at the LGBT Community. "
   ]
  },
  {
   "cell_type": "code",
   "execution_count": 1,
   "metadata": {},
   "outputs": [],
   "source": [
    "import pandas as pd\n",
    "import numpy as np\n",
    "import matplotlib.pyplot as plt\n",
    "plt.style.use('seaborn')"
   ]
  },
  {
   "cell_type": "code",
   "execution_count": 2,
   "metadata": {
    "scrolled": false
   },
   "outputs": [
    {
     "data": {
      "text/plain": [
       "(60, 9)"
      ]
     },
     "metadata": {},
     "output_type": "display_data"
    },
    {
     "name": "stdout",
     "output_type": "stream",
     "text": [
      "----------------------------------\n"
     ]
    },
    {
     "data": {
      "text/html": [
       "<div>\n",
       "<style scoped>\n",
       "    .dataframe tbody tr th:only-of-type {\n",
       "        vertical-align: middle;\n",
       "    }\n",
       "\n",
       "    .dataframe tbody tr th {\n",
       "        vertical-align: top;\n",
       "    }\n",
       "\n",
       "    .dataframe thead th {\n",
       "        text-align: right;\n",
       "    }\n",
       "</style>\n",
       "<table border=\"1\" class=\"dataframe\">\n",
       "  <thead>\n",
       "    <tr style=\"text-align: right;\">\n",
       "      <th></th>\n",
       "      <th>bias</th>\n",
       "      <th>date_of_incident</th>\n",
       "      <th>number_of_offenders_over_18</th>\n",
       "      <th>number_of_offenders_under_18</th>\n",
       "      <th>number_of_victims_over_18</th>\n",
       "      <th>number_of_victims_under_18</th>\n",
       "      <th>offense</th>\n",
       "      <th>offense_location</th>\n",
       "      <th>offender_ethnicity</th>\n",
       "    </tr>\n",
       "  </thead>\n",
       "  <tbody>\n",
       "    <tr>\n",
       "      <th>0</th>\n",
       "      <td>anti-african american</td>\n",
       "      <td>1/1/2017</td>\n",
       "      <td>1</td>\n",
       "      <td>0</td>\n",
       "      <td>1</td>\n",
       "      <td>0</td>\n",
       "      <td>Aggravated Assault</td>\n",
       "      <td>Park/Playground</td>\n",
       "      <td>caucasian</td>\n",
       "    </tr>\n",
       "    <tr>\n",
       "      <th>1</th>\n",
       "      <td>anti-caucasian</td>\n",
       "      <td>2/1/2017</td>\n",
       "      <td>1</td>\n",
       "      <td>0</td>\n",
       "      <td>1</td>\n",
       "      <td>0</td>\n",
       "      <td>Aggravated Assault</td>\n",
       "      <td>Highway/Road/Alley/Street/Sidewalk</td>\n",
       "      <td>african american</td>\n",
       "    </tr>\n",
       "    <tr>\n",
       "      <th>2</th>\n",
       "      <td>anti-jewish</td>\n",
       "      <td>3/21/2017</td>\n",
       "      <td>0</td>\n",
       "      <td>0</td>\n",
       "      <td>0</td>\n",
       "      <td>0</td>\n",
       "      <td>Destruction</td>\n",
       "      <td>Highway/Road/Alley/Street/Sidewalk</td>\n",
       "      <td>unknown</td>\n",
       "    </tr>\n",
       "    <tr>\n",
       "      <th>3</th>\n",
       "      <td>anti-jewish</td>\n",
       "      <td>4/12/2017</td>\n",
       "      <td>0</td>\n",
       "      <td>0</td>\n",
       "      <td>0</td>\n",
       "      <td>0</td>\n",
       "      <td>Simple Assault</td>\n",
       "      <td>Air/Bus/Train Terminal</td>\n",
       "      <td>caucasian</td>\n",
       "    </tr>\n",
       "    <tr>\n",
       "      <th>4</th>\n",
       "      <td>anti-lgbt</td>\n",
       "      <td>5/15/2017</td>\n",
       "      <td>2</td>\n",
       "      <td>1</td>\n",
       "      <td>0</td>\n",
       "      <td>1</td>\n",
       "      <td>Simple Assault</td>\n",
       "      <td>Residence/Home</td>\n",
       "      <td>caucasian</td>\n",
       "    </tr>\n",
       "  </tbody>\n",
       "</table>\n",
       "</div>"
      ],
      "text/plain": [
       "                    bias date_of_incident  number_of_offenders_over_18  \\\n",
       "0  anti-african american         1/1/2017                            1   \n",
       "1         anti-caucasian         2/1/2017                            1   \n",
       "2            anti-jewish        3/21/2017                            0   \n",
       "3            anti-jewish        4/12/2017                            0   \n",
       "4              anti-lgbt        5/15/2017                            2   \n",
       "\n",
       "   number_of_offenders_under_18  number_of_victims_over_18  \\\n",
       "0                             0                          1   \n",
       "1                             0                          1   \n",
       "2                             0                          0   \n",
       "3                             0                          0   \n",
       "4                             1                          0   \n",
       "\n",
       "   number_of_victims_under_18             offense  \\\n",
       "0                           0  Aggravated Assault   \n",
       "1                           0  Aggravated Assault   \n",
       "2                           0         Destruction   \n",
       "3                           0      Simple Assault   \n",
       "4                           1      Simple Assault   \n",
       "\n",
       "                     offense_location offender_ethnicity  \n",
       "0                     Park/Playground          caucasian  \n",
       "1  Highway/Road/Alley/Street/Sidewalk   african american  \n",
       "2  Highway/Road/Alley/Street/Sidewalk            unknown  \n",
       "3              Air/Bus/Train Terminal          caucasian  \n",
       "4                      Residence/Home          caucasian  "
      ]
     },
     "metadata": {},
     "output_type": "display_data"
    },
    {
     "name": "stdout",
     "output_type": "stream",
     "text": [
      "----------------------------------\n"
     ]
    },
    {
     "data": {
      "text/html": [
       "<div>\n",
       "<style scoped>\n",
       "    .dataframe tbody tr th:only-of-type {\n",
       "        vertical-align: middle;\n",
       "    }\n",
       "\n",
       "    .dataframe tbody tr th {\n",
       "        vertical-align: top;\n",
       "    }\n",
       "\n",
       "    .dataframe thead th {\n",
       "        text-align: right;\n",
       "    }\n",
       "</style>\n",
       "<table border=\"1\" class=\"dataframe\">\n",
       "  <thead>\n",
       "    <tr style=\"text-align: right;\">\n",
       "      <th></th>\n",
       "      <th>bias</th>\n",
       "      <th>date_of_incident</th>\n",
       "      <th>number_of_offenders_over_18</th>\n",
       "      <th>number_of_offenders_under_18</th>\n",
       "      <th>number_of_victims_over_18</th>\n",
       "      <th>number_of_victims_under_18</th>\n",
       "      <th>offense</th>\n",
       "      <th>offense_location</th>\n",
       "      <th>offender_ethnicity</th>\n",
       "    </tr>\n",
       "  </thead>\n",
       "  <tbody>\n",
       "    <tr>\n",
       "      <th>55</th>\n",
       "      <td>anti-hispanic</td>\n",
       "      <td>5/20/2020</td>\n",
       "      <td>1</td>\n",
       "      <td>0</td>\n",
       "      <td>1</td>\n",
       "      <td>0</td>\n",
       "      <td>Assault with Injury</td>\n",
       "      <td>Streets/Highway/Road/Alley</td>\n",
       "      <td>caucasian</td>\n",
       "    </tr>\n",
       "    <tr>\n",
       "      <th>56</th>\n",
       "      <td>anti-african american</td>\n",
       "      <td>6/4/2020</td>\n",
       "      <td>1</td>\n",
       "      <td>0</td>\n",
       "      <td>1</td>\n",
       "      <td>0</td>\n",
       "      <td>Criminal Mischief</td>\n",
       "      <td>Residence/Home</td>\n",
       "      <td>unknown</td>\n",
       "    </tr>\n",
       "    <tr>\n",
       "      <th>57</th>\n",
       "      <td>anti-african american</td>\n",
       "      <td>6/9/2020</td>\n",
       "      <td>1</td>\n",
       "      <td>0</td>\n",
       "      <td>1</td>\n",
       "      <td>0</td>\n",
       "      <td>Criminal Mischief</td>\n",
       "      <td>Streets/Highway/Road/Alley</td>\n",
       "      <td>unknown</td>\n",
       "    </tr>\n",
       "    <tr>\n",
       "      <th>58</th>\n",
       "      <td>anti-african american</td>\n",
       "      <td>6/17/2020</td>\n",
       "      <td>1</td>\n",
       "      <td>0</td>\n",
       "      <td>1</td>\n",
       "      <td>0</td>\n",
       "      <td>Criminal Mischief</td>\n",
       "      <td>Parking Lot</td>\n",
       "      <td>unknown</td>\n",
       "    </tr>\n",
       "    <tr>\n",
       "      <th>59</th>\n",
       "      <td>anti-african american</td>\n",
       "      <td>6/23/2020</td>\n",
       "      <td>1</td>\n",
       "      <td>0</td>\n",
       "      <td>1</td>\n",
       "      <td>0</td>\n",
       "      <td>Criminal Mischief</td>\n",
       "      <td>Streets/Highway/Road/Alley</td>\n",
       "      <td>unknown</td>\n",
       "    </tr>\n",
       "  </tbody>\n",
       "</table>\n",
       "</div>"
      ],
      "text/plain": [
       "                     bias date_of_incident  number_of_offenders_over_18  \\\n",
       "55          anti-hispanic        5/20/2020                            1   \n",
       "56  anti-african american         6/4/2020                            1   \n",
       "57  anti-african american         6/9/2020                            1   \n",
       "58  anti-african american        6/17/2020                            1   \n",
       "59  anti-african american        6/23/2020                            1   \n",
       "\n",
       "    number_of_offenders_under_18  number_of_victims_over_18  \\\n",
       "55                             0                          1   \n",
       "56                             0                          1   \n",
       "57                             0                          1   \n",
       "58                             0                          1   \n",
       "59                             0                          1   \n",
       "\n",
       "    number_of_victims_under_18              offense  \\\n",
       "55                           0  Assault with Injury   \n",
       "56                           0    Criminal Mischief   \n",
       "57                           0    Criminal Mischief   \n",
       "58                           0    Criminal Mischief   \n",
       "59                           0    Criminal Mischief   \n",
       "\n",
       "              offense_location offender_ethnicity  \n",
       "55  Streets/Highway/Road/Alley          caucasian  \n",
       "56              Residence/Home            unknown  \n",
       "57  Streets/Highway/Road/Alley            unknown  \n",
       "58                 Parking Lot            unknown  \n",
       "59  Streets/Highway/Road/Alley            unknown  "
      ]
     },
     "metadata": {},
     "output_type": "display_data"
    },
    {
     "name": "stdout",
     "output_type": "stream",
     "text": [
      "----------------------------------\n"
     ]
    },
    {
     "data": {
      "text/plain": [
       "Index(['bias', 'date_of_incident', 'number_of_offenders_over_18',\n",
       "       'number_of_offenders_under_18', 'number_of_victims_over_18',\n",
       "       'number_of_victims_under_18', 'offense', 'offense_location',\n",
       "       'offender_ethnicity'],\n",
       "      dtype='object')"
      ]
     },
     "metadata": {},
     "output_type": "display_data"
    },
    {
     "name": "stdout",
     "output_type": "stream",
     "text": [
      "----------------------------------\n"
     ]
    },
    {
     "data": {
      "text/plain": [
       "RangeIndex(start=0, stop=60, step=1)"
      ]
     },
     "metadata": {},
     "output_type": "display_data"
    },
    {
     "name": "stdout",
     "output_type": "stream",
     "text": [
      "----------------------------------\n"
     ]
    },
    {
     "data": {
      "text/html": [
       "<div>\n",
       "<style scoped>\n",
       "    .dataframe tbody tr th:only-of-type {\n",
       "        vertical-align: middle;\n",
       "    }\n",
       "\n",
       "    .dataframe tbody tr th {\n",
       "        vertical-align: top;\n",
       "    }\n",
       "\n",
       "    .dataframe thead th {\n",
       "        text-align: right;\n",
       "    }\n",
       "</style>\n",
       "<table border=\"1\" class=\"dataframe\">\n",
       "  <thead>\n",
       "    <tr style=\"text-align: right;\">\n",
       "      <th></th>\n",
       "      <th>number_of_offenders_over_18</th>\n",
       "      <th>number_of_offenders_under_18</th>\n",
       "      <th>number_of_victims_over_18</th>\n",
       "      <th>number_of_victims_under_18</th>\n",
       "    </tr>\n",
       "  </thead>\n",
       "  <tbody>\n",
       "    <tr>\n",
       "      <th>count</th>\n",
       "      <td>60.000000</td>\n",
       "      <td>60.000000</td>\n",
       "      <td>60.000000</td>\n",
       "      <td>60.000000</td>\n",
       "    </tr>\n",
       "    <tr>\n",
       "      <th>mean</th>\n",
       "      <td>1.016667</td>\n",
       "      <td>0.116667</td>\n",
       "      <td>0.916667</td>\n",
       "      <td>0.050000</td>\n",
       "    </tr>\n",
       "    <tr>\n",
       "      <th>std</th>\n",
       "      <td>0.791730</td>\n",
       "      <td>0.490301</td>\n",
       "      <td>0.381419</td>\n",
       "      <td>0.219784</td>\n",
       "    </tr>\n",
       "    <tr>\n",
       "      <th>min</th>\n",
       "      <td>0.000000</td>\n",
       "      <td>0.000000</td>\n",
       "      <td>0.000000</td>\n",
       "      <td>0.000000</td>\n",
       "    </tr>\n",
       "    <tr>\n",
       "      <th>25%</th>\n",
       "      <td>1.000000</td>\n",
       "      <td>0.000000</td>\n",
       "      <td>1.000000</td>\n",
       "      <td>0.000000</td>\n",
       "    </tr>\n",
       "    <tr>\n",
       "      <th>50%</th>\n",
       "      <td>1.000000</td>\n",
       "      <td>0.000000</td>\n",
       "      <td>1.000000</td>\n",
       "      <td>0.000000</td>\n",
       "    </tr>\n",
       "    <tr>\n",
       "      <th>75%</th>\n",
       "      <td>1.000000</td>\n",
       "      <td>0.000000</td>\n",
       "      <td>1.000000</td>\n",
       "      <td>0.000000</td>\n",
       "    </tr>\n",
       "    <tr>\n",
       "      <th>max</th>\n",
       "      <td>4.000000</td>\n",
       "      <td>3.000000</td>\n",
       "      <td>2.000000</td>\n",
       "      <td>1.000000</td>\n",
       "    </tr>\n",
       "  </tbody>\n",
       "</table>\n",
       "</div>"
      ],
      "text/plain": [
       "       number_of_offenders_over_18  number_of_offenders_under_18  \\\n",
       "count                    60.000000                     60.000000   \n",
       "mean                      1.016667                      0.116667   \n",
       "std                       0.791730                      0.490301   \n",
       "min                       0.000000                      0.000000   \n",
       "25%                       1.000000                      0.000000   \n",
       "50%                       1.000000                      0.000000   \n",
       "75%                       1.000000                      0.000000   \n",
       "max                       4.000000                      3.000000   \n",
       "\n",
       "       number_of_victims_over_18  number_of_victims_under_18  \n",
       "count                  60.000000                   60.000000  \n",
       "mean                    0.916667                    0.050000  \n",
       "std                     0.381419                    0.219784  \n",
       "min                     0.000000                    0.000000  \n",
       "25%                     1.000000                    0.000000  \n",
       "50%                     1.000000                    0.000000  \n",
       "75%                     1.000000                    0.000000  \n",
       "max                     2.000000                    1.000000  "
      ]
     },
     "metadata": {},
     "output_type": "display_data"
    },
    {
     "name": "stdout",
     "output_type": "stream",
     "text": [
      "----------------------------------\n"
     ]
    },
    {
     "data": {
      "text/plain": [
       "bias                            object\n",
       "date_of_incident                object\n",
       "number_of_offenders_over_18      int64\n",
       "number_of_offenders_under_18     int64\n",
       "number_of_victims_over_18        int64\n",
       "number_of_victims_under_18       int64\n",
       "offense                         object\n",
       "offense_location                object\n",
       "offender_ethnicity              object\n",
       "dtype: object"
      ]
     },
     "metadata": {},
     "output_type": "display_data"
    }
   ],
   "source": [
    "# Importing & examining the cleaned dataset\n",
    "df = pd.read_csv(r\"C:\\Users\\Robert\\OneDrive\\Desktop\\aus_final.csv\")\n",
    "display(df.shape)\n",
    "print('----------------------------------')\n",
    "display(df.head())\n",
    "print('----------------------------------')\n",
    "display(df.tail())\n",
    "print('----------------------------------')\n",
    "display(df.columns)\n",
    "print('----------------------------------')\n",
    "display(df.index)\n",
    "print('----------------------------------')\n",
    "display(df.describe())\n",
    "print('----------------------------------')\n",
    "display(df.dtypes)"
   ]
  },
  {
   "cell_type": "code",
   "execution_count": 3,
   "metadata": {
    "scrolled": false
   },
   "outputs": [
    {
     "data": {
      "text/plain": [
       "DatetimeIndex(['2017-01-01', '2017-02-01', '2017-03-21', '2017-04-12',\n",
       "               '2017-05-15', '2017-06-04', '2017-06-15', '2017-06-17',\n",
       "               '2017-07-01', '2017-07-05', '2017-07-20', '2017-07-21',\n",
       "               '2017-10-15', '2017-10-24', '2017-11-10', '2017-11-16',\n",
       "               '2017-11-26', '2018-01-19', '2018-01-25', '2018-02-08',\n",
       "               '2018-02-22', '2018-03-02', '2018-03-06', '2018-03-08',\n",
       "               '2018-04-01', '2018-04-30', '2018-05-21', '2018-06-16',\n",
       "               '2018-06-28', '2018-08-13', '2018-08-25', '2018-09-09',\n",
       "               '2018-09-11', '2018-10-11', '2018-10-19', '2018-12-15',\n",
       "               '2018-12-29', '2019-01-19', '2019-02-22', '2019-03-31',\n",
       "               '2019-04-04', '2019-06-11', '2019-08-06', '2019-08-12',\n",
       "               '2019-08-24', '2019-11-23', '2019-12-19', '2019-12-30',\n",
       "               '2020-03-01', '2020-03-08', '2020-03-22', '2020-03-22',\n",
       "               '2020-04-20', '2020-04-29', '2020-05-17', '2020-05-20',\n",
       "               '2020-06-04', '2020-06-09', '2020-06-17', '2020-06-23'],\n",
       "              dtype='datetime64[ns]', name='date_of_incident', freq=None)"
      ]
     },
     "metadata": {},
     "output_type": "display_data"
    },
    {
     "name": "stdout",
     "output_type": "stream",
     "text": [
      "----------------------------------\n"
     ]
    },
    {
     "data": {
      "text/plain": [
       "bias                            category\n",
       "number_of_offenders_over_18        int64\n",
       "number_of_offenders_under_18       int64\n",
       "number_of_victims_over_18          int64\n",
       "number_of_victims_under_18         int64\n",
       "offense                         category\n",
       "offense_location                category\n",
       "offender_ethnicity              category\n",
       "dtype: object"
      ]
     },
     "metadata": {},
     "output_type": "display_data"
    }
   ],
   "source": [
    "# Creating an index out of the 'date' column annd converting the non-numeric columns into categories\n",
    "df['date_of_incident'] = df['date_of_incident'].astype('datetime64')\n",
    "df.set_index(['date_of_incident'], inplace=True)\n",
    "df['bias'] = df['bias'].astype('category')\n",
    "df['offense'] = df['offense'].astype('category')\n",
    "df['offense_location'] = df['offense_location'].astype('category')\n",
    "df['offender_ethnicity'] = df['offender_ethnicity'].astype('category')\n",
    "\n",
    "# Reexamining the dataset\n",
    "display(df.index)\n",
    "print('----------------------------------')\n",
    "display(df.dtypes)"
   ]
  },
  {
   "cell_type": "markdown",
   "metadata": {},
   "source": [
    "### Question 1. How are reported incidences in Austin distributed according to motivation? "
   ]
  },
  {
   "cell_type": "code",
   "execution_count": 4,
   "metadata": {
    "scrolled": false
   },
   "outputs": [
    {
     "data": {
      "text/plain": [
       "anti-african american    22\n",
       "anti-lgbt                18\n",
       "anti-hispanic             7\n",
       "anti-muslim               4\n",
       "anti-jewish               4\n",
       "anti-caucasian            3\n",
       "anti-disability           1\n",
       "anti-buddhist             1\n",
       "Name: bias, dtype: int64"
      ]
     },
     "metadata": {},
     "output_type": "display_data"
    },
    {
     "name": "stdout",
     "output_type": "stream",
     "text": [
      "----------------------------------\n"
     ]
    },
    {
     "data": {
      "text/plain": [
       "anti-african american    0.366667\n",
       "anti-lgbt                0.300000\n",
       "anti-hispanic            0.116667\n",
       "anti-muslim              0.066667\n",
       "anti-jewish              0.066667\n",
       "anti-caucasian           0.050000\n",
       "anti-disability          0.016667\n",
       "anti-buddhist            0.016667\n",
       "Name: bias, dtype: float64"
      ]
     },
     "metadata": {},
     "output_type": "display_data"
    },
    {
     "name": "stderr",
     "output_type": "stream",
     "text": [
      "C:\\Users\\Robert\\anaconda3\\lib\\site-packages\\pandas\\plotting\\_core.py:185: UserWarning: 'colors' is being deprecated. Please use 'color'instead of 'colors'\n",
      "  warnings.warn((\"'colors' is being deprecated. Please use 'color'\"\n"
     ]
    },
    {
     "data": {
      "image/png": "[encoded data removed]",
      "text/plain": [
       "<Figure size 432x288 with 1 Axes>"
      ]
     },
     "metadata": {
      "needs_background": "light"
     },
     "output_type": "display_data"
    },
    {
     "data": {
      "image/png": "[encoded data removed]",
      "text/plain": [
       "<Figure size 432x288 with 1 Axes>"
      ]
     },
     "metadata": {},
     "output_type": "display_data"
    }
   ],
   "source": [
    "# Creating a dataframe of the biases\n",
    "bias = df['bias'].value_counts()\n",
    "display(bias)\n",
    "\n",
    "bias_pct = df['bias'].value_counts(normalize=True)\n",
    "\n",
    "# Displaying the bias values as proportions\n",
    "print('----------------------------------')\n",
    "display(df['bias'].value_counts(normalize=True))\n",
    "\n",
    "colors = ['orange', 'green', 'orange', 'cyan', 'blue', 'silver', 'orange', 'red', 'green']\n",
    "\n",
    "# Visualizing the bias dataframe\n",
    "bias.plot.bar(colors=colors)\n",
    "plt.ylabel('Total Crimes since 2017')\n",
    "plt.title('Distribution of Bias')\n",
    "plt.show()\n",
    "\n",
    "# Visualizing bias values as proportions\n",
    "bias_pct.plot.pie(colors=colors)\n",
    "plt.title('Distribution of Bias')\n",
    "plt.show()"
   ]
  },
  {
   "cell_type": "markdown",
   "metadata": {},
   "source": [
    "### Question 2. How are hate crimes perpetuated? "
   ]
  },
  {
   "cell_type": "code",
   "execution_count": 5,
   "metadata": {},
   "outputs": [
    {
     "data": {
      "text/plain": [
       "Assault                21\n",
       "Criminal Mischief       9\n",
       "Simple Assault          8\n",
       "Intimidation            7\n",
       "Vandalism               4\n",
       "Aggravated Assault      3\n",
       "Destruction             2\n",
       "Theft                   1\n",
       "Robbery                 1\n",
       "Burglary/Assault        1\n",
       "Assault with Injury     1\n",
       "Assault by Threat       1\n",
       "Assault by Contact      1\n",
       "Name: offense, dtype: int64"
      ]
     },
     "metadata": {},
     "output_type": "display_data"
    },
    {
     "name": "stdout",
     "output_type": "stream",
     "text": [
      "----------------------------------\n"
     ]
    },
    {
     "data": {
      "text/plain": [
       "Assault                0.350000\n",
       "Criminal Mischief      0.150000\n",
       "Simple Assault         0.133333\n",
       "Intimidation           0.116667\n",
       "Vandalism              0.066667\n",
       "Aggravated Assault     0.050000\n",
       "Destruction            0.033333\n",
       "Theft                  0.016667\n",
       "Robbery                0.016667\n",
       "Burglary/Assault       0.016667\n",
       "Assault with Injury    0.016667\n",
       "Assault by Threat      0.016667\n",
       "Assault by Contact     0.016667\n",
       "Name: offense, dtype: float64"
      ]
     },
     "metadata": {},
     "output_type": "display_data"
    },
    {
     "name": "stderr",
     "output_type": "stream",
     "text": [
      "C:\\Users\\Robert\\anaconda3\\lib\\site-packages\\pandas\\plotting\\_core.py:185: UserWarning: 'colors' is being deprecated. Please use 'color'instead of 'colors'\n",
      "  warnings.warn((\"'colors' is being deprecated. Please use 'color'\"\n"
     ]
    },
    {
     "data": {
      "image/png": "[encoded data removed]",
      "text/plain": [
       "<Figure size 432x288 with 1 Axes>"
      ]
     },
     "metadata": {
      "needs_background": "light"
     },
     "output_type": "display_data"
    }
   ],
   "source": [
    "# Create a dataframe for the offense values\n",
    "offense_count = df.offense.value_counts()\n",
    "display(offense_count)\n",
    "\n",
    "# Displaying the offense values as proportions\n",
    "print('----------------------------------')\n",
    "offense_count_pct = df.offense.value_counts(normalize=True)\n",
    "display(offense_count_pct)\n",
    "\n",
    "\n",
    "# Visualizing the offense values\n",
    "offense_count.plot.bar(colors=colors)\n",
    "plt.ylabel('Total Crimes since 2017')\n",
    "plt.title('Distribution of Offenses')\n",
    "plt.show()"
   ]
  },
  {
   "cell_type": "markdown",
   "metadata": {},
   "source": [
    "### Question 3. What is the race/ethnicity of the offenders?      "
   ]
  },
  {
   "cell_type": "code",
   "execution_count": 6,
   "metadata": {},
   "outputs": [
    {
     "data": {
      "text/plain": [
       "caucasian                    25\n",
       "unknown                      15\n",
       "hispanic                     12\n",
       "african american              5\n",
       "hispanic (2) hispanic (2)     1\n",
       "caucasian                     1\n",
       "asian                         1\n",
       "Name: offender_ethnicity, dtype: int64"
      ]
     },
     "metadata": {},
     "output_type": "display_data"
    },
    {
     "name": "stdout",
     "output_type": "stream",
     "text": [
      "----------------------------------\n"
     ]
    },
    {
     "data": {
      "text/plain": [
       "caucasian                    0.416667\n",
       "unknown                      0.250000\n",
       "hispanic                     0.200000\n",
       "african american             0.083333\n",
       "hispanic (2) hispanic (2)    0.016667\n",
       "caucasian                    0.016667\n",
       "asian                        0.016667\n",
       "Name: offender_ethnicity, dtype: float64"
      ]
     },
     "metadata": {},
     "output_type": "display_data"
    },
    {
     "name": "stderr",
     "output_type": "stream",
     "text": [
      "C:\\Users\\Robert\\anaconda3\\lib\\site-packages\\pandas\\plotting\\_core.py:185: UserWarning: 'colors' is being deprecated. Please use 'color'instead of 'colors'\n",
      "  warnings.warn((\"'colors' is being deprecated. Please use 'color'\"\n"
     ]
    },
    {
     "data": {
      "image/png": "[encoded data removed]",
      "text/plain": [
       "<Figure size 432x288 with 1 Axes>"
      ]
     },
     "metadata": {
      "needs_background": "light"
     },
     "output_type": "display_data"
    }
   ],
   "source": [
    "# Create a dataframe for the offender ethnicity values\n",
    "offenders_count = df['offender_ethnicity'].value_counts()\n",
    "display(offenders_count)\n",
    "print('----------------------------------')\n",
    "\n",
    "# Displaying the offender ethnicity values as proportions\n",
    "offenders_count_pct = df.offender_ethnicity.value_counts(normalize=True)\n",
    "display(offenders_count_pct)\n",
    "\n",
    "# Visualizing the offender ethnicity values\n",
    "offenders_count.plot.bar(colors=colors)\n",
    "plt.ylabel('Total Crimes since 2017')\n",
    "plt.title('Offender Race/Ethnicity')\n",
    "plt.show()"
   ]
  },
  {
   "cell_type": "markdown",
   "metadata": {},
   "source": [
    "Note...the above 'Offender' graph has an instance of 'Hispanic (2), Caucasian (2)' as a single column because of an incident that occurred on 1/19/19 https://www.statesman.com/news/20200124/confrontation-that-ignited-attack-on-austin-gay-couple-questioned-by-detective -- 2 of the offenders were white, and the other 2 were hispanic. "
   ]
  },
  {
   "cell_type": "markdown",
   "metadata": {},
   "source": [
    "### Question 4. Where in Austin do hate crimes often take place? "
   ]
  },
  {
   "cell_type": "code",
   "execution_count": 7,
   "metadata": {
    "scrolled": false
   },
   "outputs": [
    {
     "data": {
      "text/plain": [
       "Residence/Home                        12\n",
       "Streets/Highway/Road/Alley             8\n",
       "Highway/Road/Alley/Street/Sidewalk     6\n",
       "Bar/Nightclub                          5\n",
       "Parking Lot/Garage                     5\n",
       "Convenience Store                      4\n",
       "Highway/Road/Street                    4\n",
       "Parking Lot                            2\n",
       "Park/Playground                        2\n",
       "Department/Discount Store              1\n",
       "Bank/Savings and Loan                  1\n",
       "Church/Synagogue                       1\n",
       "Church/Synagogue/Temple/Mosque         1\n",
       "Hotel/Motel                            1\n",
       "Drug Store/Dr.'s office/Hospital       1\n",
       "Shelter-Mission/Homeless               1\n",
       "Other/unknown                          1\n",
       "Parking/Drop Lot                       1\n",
       "Restaurant                             1\n",
       "School-Elementary/Secondary            1\n",
       "Air/Bus/Train Terminal                 1\n",
       "Name: offense_location, dtype: int64"
      ]
     },
     "metadata": {},
     "output_type": "display_data"
    },
    {
     "name": "stdout",
     "output_type": "stream",
     "text": [
      "----------------------------------\n"
     ]
    },
    {
     "data": {
      "text/plain": [
       "Residence/Home                        0.200000\n",
       "Streets/Highway/Road/Alley            0.133333\n",
       "Highway/Road/Alley/Street/Sidewalk    0.100000\n",
       "Bar/Nightclub                         0.083333\n",
       "Parking Lot/Garage                    0.083333\n",
       "Convenience Store                     0.066667\n",
       "Highway/Road/Street                   0.066667\n",
       "Parking Lot                           0.033333\n",
       "Park/Playground                       0.033333\n",
       "Department/Discount Store             0.016667\n",
       "Bank/Savings and Loan                 0.016667\n",
       "Church/Synagogue                      0.016667\n",
       "Church/Synagogue/Temple/Mosque        0.016667\n",
       "Hotel/Motel                           0.016667\n",
       "Drug Store/Dr.'s office/Hospital      0.016667\n",
       "Shelter-Mission/Homeless              0.016667\n",
       "Other/unknown                         0.016667\n",
       "Parking/Drop Lot                      0.016667\n",
       "Restaurant                            0.016667\n",
       "School-Elementary/Secondary           0.016667\n",
       "Air/Bus/Train Terminal                0.016667\n",
       "Name: offense_location, dtype: float64"
      ]
     },
     "metadata": {},
     "output_type": "display_data"
    },
    {
     "name": "stderr",
     "output_type": "stream",
     "text": [
      "C:\\Users\\Robert\\anaconda3\\lib\\site-packages\\pandas\\plotting\\_core.py:185: UserWarning: 'colors' is being deprecated. Please use 'color'instead of 'colors'\n",
      "  warnings.warn((\"'colors' is being deprecated. Please use 'color'\"\n"
     ]
    },
    {
     "data": {
      "image/png": "[encoded data removed]",
      "text/plain": [
       "<Figure size 432x288 with 1 Axes>"
      ]
     },
     "metadata": {
      "needs_background": "light"
     },
     "output_type": "display_data"
    }
   ],
   "source": [
    "# Displaying 'offense location'\n",
    "location = df.offense_location.value_counts()\n",
    "display(location)\n",
    "print('----------------------------------')\n",
    "\n",
    "# Displaying 'offense location' as proportions\n",
    "location_pct = df.offense_location.value_counts(normalize=True)\n",
    "display(location_pct)\n",
    "\n",
    "location.plot.bar(colors=colors)\n",
    "plt.ylabel('Total Crimes since 2017')\n",
    "plt.title('Crime Locations')\n",
    "plt.show()"
   ]
  },
  {
   "cell_type": "markdown",
   "metadata": {},
   "source": [
    "As a final look, let's examine the correlations between victims and offenders. "
   ]
  },
  {
   "cell_type": "code",
   "execution_count": 8,
   "metadata": {},
   "outputs": [
    {
     "data": {
      "text/html": [
       "<div>\n",
       "<style scoped>\n",
       "    .dataframe tbody tr th:only-of-type {\n",
       "        vertical-align: middle;\n",
       "    }\n",
       "\n",
       "    .dataframe tbody tr th {\n",
       "        vertical-align: top;\n",
       "    }\n",
       "\n",
       "    .dataframe thead th {\n",
       "        text-align: right;\n",
       "    }\n",
       "</style>\n",
       "<table border=\"1\" class=\"dataframe\">\n",
       "  <thead>\n",
       "    <tr style=\"text-align: right;\">\n",
       "      <th></th>\n",
       "      <th>number_of_offenders_over_18</th>\n",
       "      <th>number_of_offenders_under_18</th>\n",
       "      <th>number_of_victims_over_18</th>\n",
       "      <th>number_of_victims_under_18</th>\n",
       "    </tr>\n",
       "  </thead>\n",
       "  <tbody>\n",
       "    <tr>\n",
       "      <th>number_of_offenders_over_18</th>\n",
       "      <td>1.000000</td>\n",
       "      <td>-0.179744</td>\n",
       "      <td>0.341437</td>\n",
       "      <td>-0.004870</td>\n",
       "    </tr>\n",
       "    <tr>\n",
       "      <th>number_of_offenders_under_18</th>\n",
       "      <td>-0.179744</td>\n",
       "      <td>1.000000</td>\n",
       "      <td>-0.400293</td>\n",
       "      <td>0.574092</td>\n",
       "    </tr>\n",
       "    <tr>\n",
       "      <th>number_of_victims_over_18</th>\n",
       "      <td>0.341437</td>\n",
       "      <td>-0.400293</td>\n",
       "      <td>1.000000</td>\n",
       "      <td>-0.556010</td>\n",
       "    </tr>\n",
       "    <tr>\n",
       "      <th>number_of_victims_under_18</th>\n",
       "      <td>-0.004870</td>\n",
       "      <td>0.574092</td>\n",
       "      <td>-0.556010</td>\n",
       "      <td>1.000000</td>\n",
       "    </tr>\n",
       "  </tbody>\n",
       "</table>\n",
       "</div>"
      ],
      "text/plain": [
       "                              number_of_offenders_over_18  \\\n",
       "number_of_offenders_over_18                      1.000000   \n",
       "number_of_offenders_under_18                    -0.179744   \n",
       "number_of_victims_over_18                        0.341437   \n",
       "number_of_victims_under_18                      -0.004870   \n",
       "\n",
       "                              number_of_offenders_under_18  \\\n",
       "number_of_offenders_over_18                      -0.179744   \n",
       "number_of_offenders_under_18                      1.000000   \n",
       "number_of_victims_over_18                        -0.400293   \n",
       "number_of_victims_under_18                        0.574092   \n",
       "\n",
       "                              number_of_victims_over_18  \\\n",
       "number_of_offenders_over_18                    0.341437   \n",
       "number_of_offenders_under_18                  -0.400293   \n",
       "number_of_victims_over_18                      1.000000   \n",
       "number_of_victims_under_18                    -0.556010   \n",
       "\n",
       "                              number_of_victims_under_18  \n",
       "number_of_offenders_over_18                    -0.004870  \n",
       "number_of_offenders_under_18                    0.574092  \n",
       "number_of_victims_over_18                      -0.556010  \n",
       "number_of_victims_under_18                      1.000000  "
      ]
     },
     "metadata": {},
     "output_type": "display_data"
    },
    {
     "name": "stderr",
     "output_type": "stream",
     "text": [
      "C:\\Users\\Robert\\anaconda3\\lib\\site-packages\\pandas\\plotting\\_core.py:185: UserWarning: 'colors' is being deprecated. Please use 'color'instead of 'colors'\n",
      "  warnings.warn((\"'colors' is being deprecated. Please use 'color'\"\n"
     ]
    },
    {
     "data": {
      "image/png": "[encoded data removed]",
      "text/plain": [
       "<Figure size 432x288 with 1 Axes>"
      ]
     },
     "metadata": {
      "needs_background": "light"
     },
     "output_type": "display_data"
    }
   ],
   "source": [
    "# Examining correlations between victims & offenders\n",
    "df_corr = df.corr()\n",
    "\n",
    "display(df_corr)\n",
    "df_corr.plot.bar(colors=colors)\n",
    "plt.show()"
   ]
  }
 ],
 "metadata": {
  "kernelspec": {
   "display_name": "Python 3",
   "language": "python",
   "name": "python3"
  },
  "language_info": {
   "codemirror_mode": {
    "name": "ipython",
    "version": 3
   },
   "file_extension": ".py",
   "mimetype": "text/x-python",
   "name": "python",
   "nbconvert_exporter": "python",
   "pygments_lexer": "ipython3",
   "version": "3.7.6"
  }
 },
 "nbformat": 4,
 "nbformat_minor": 4
}
