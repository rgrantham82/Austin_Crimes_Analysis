{
 "cells": [
  {
   "cell_type": "markdown",
   "metadata": {},
   "source": [
    "# Exploratory Analysis\n",
    "In between this notebook, and the first, I cleaned the data further in Excel since the dataset was small enough to begin with. First, I combined the various LGBT related biases into one as 'Anti-LGBT'. I also, cleaned up some other biases to make the entire column uniform as possible. Second, I cleaned the offender ethnicity column for the same reason. The resulting dataset lists 56 separate alleged hate crimes, in Austin, TX, since 2017. \n",
    "\n",
    "Out of the total number of reported, alleged incidents, 32.14% were directed at the LGBT Community. "
   ]
  },
  {
   "cell_type": "code",
   "execution_count": 1,
   "metadata": {},
   "outputs": [],
   "source": [
    "import pandas as pd\n",
    "import numpy as np\n",
    "import matplotlib.pyplot as plt\n",
    "plt.style.use('fivethirtyeight')"
   ]
  },
  {
   "cell_type": "code",
   "execution_count": 2,
   "metadata": {
    "scrolled": false
   },
   "outputs": [
    {
     "data": {
      "text/html": [
       "<div>\n",
       "<style scoped>\n",
       "    .dataframe tbody tr th:only-of-type {\n",
       "        vertical-align: middle;\n",
       "    }\n",
       "\n",
       "    .dataframe tbody tr th {\n",
       "        vertical-align: top;\n",
       "    }\n",
       "\n",
       "    .dataframe thead th {\n",
       "        text-align: right;\n",
       "    }\n",
       "</style>\n",
       "<table border=\"1\" class=\"dataframe\">\n",
       "  <thead>\n",
       "    <tr style=\"text-align: right;\">\n",
       "      <th></th>\n",
       "      <th>date_of_incident</th>\n",
       "      <th>number_of_victims_under_18</th>\n",
       "      <th>number_of_victims_over_18</th>\n",
       "      <th>number_of_offenders_under_18</th>\n",
       "      <th>number_of_offenders_over_18</th>\n",
       "      <th>offender_race_ethnicity</th>\n",
       "      <th>offense</th>\n",
       "      <th>offense_location</th>\n",
       "      <th>bias</th>\n",
       "    </tr>\n",
       "  </thead>\n",
       "  <tbody>\n",
       "    <tr>\n",
       "      <th>0</th>\n",
       "      <td>1/1/2017</td>\n",
       "      <td>0</td>\n",
       "      <td>1</td>\n",
       "      <td>0</td>\n",
       "      <td>1</td>\n",
       "      <td>caucasian</td>\n",
       "      <td>Aggravated Assault</td>\n",
       "      <td>Park/Playground</td>\n",
       "      <td>anti-african american</td>\n",
       "    </tr>\n",
       "    <tr>\n",
       "      <th>1</th>\n",
       "      <td>2/1/2017</td>\n",
       "      <td>0</td>\n",
       "      <td>1</td>\n",
       "      <td>0</td>\n",
       "      <td>1</td>\n",
       "      <td>african american</td>\n",
       "      <td>Aggravated Assault</td>\n",
       "      <td>Highway/Road/Alley/Street/Sidewalk</td>\n",
       "      <td>anti-caucasian</td>\n",
       "    </tr>\n",
       "    <tr>\n",
       "      <th>2</th>\n",
       "      <td>3/21/2017</td>\n",
       "      <td>0</td>\n",
       "      <td>0</td>\n",
       "      <td>0</td>\n",
       "      <td>0</td>\n",
       "      <td>unknown</td>\n",
       "      <td>Destruction</td>\n",
       "      <td>Highway/Road/Alley/Street/Sidewalk</td>\n",
       "      <td>anti-jewish</td>\n",
       "    </tr>\n",
       "    <tr>\n",
       "      <th>3</th>\n",
       "      <td>4/12/2017</td>\n",
       "      <td>0</td>\n",
       "      <td>0</td>\n",
       "      <td>0</td>\n",
       "      <td>0</td>\n",
       "      <td>caucasian</td>\n",
       "      <td>Simple Assault</td>\n",
       "      <td>Air/Bus/Train Terminal</td>\n",
       "      <td>anti-jewish</td>\n",
       "    </tr>\n",
       "    <tr>\n",
       "      <th>4</th>\n",
       "      <td>5/15/2017</td>\n",
       "      <td>1</td>\n",
       "      <td>0</td>\n",
       "      <td>1</td>\n",
       "      <td>2</td>\n",
       "      <td>caucasian</td>\n",
       "      <td>Simple Assault</td>\n",
       "      <td>Residence/Home</td>\n",
       "      <td>anti-lgbt</td>\n",
       "    </tr>\n",
       "  </tbody>\n",
       "</table>\n",
       "</div>"
      ],
      "text/plain": [
       "  date_of_incident  number_of_victims_under_18  number_of_victims_over_18  \\\n",
       "0         1/1/2017                           0                          1   \n",
       "1         2/1/2017                           0                          1   \n",
       "2        3/21/2017                           0                          0   \n",
       "3        4/12/2017                           0                          0   \n",
       "4        5/15/2017                           1                          0   \n",
       "\n",
       "   number_of_offenders_under_18  number_of_offenders_over_18  \\\n",
       "0                             0                            1   \n",
       "1                             0                            1   \n",
       "2                             0                            0   \n",
       "3                             0                            0   \n",
       "4                             1                            2   \n",
       "\n",
       "  offender_race_ethnicity             offense  \\\n",
       "0               caucasian  Aggravated Assault   \n",
       "1        african american  Aggravated Assault   \n",
       "2                 unknown         Destruction   \n",
       "3               caucasian      Simple Assault   \n",
       "4               caucasian      Simple Assault   \n",
       "\n",
       "                     offense_location                   bias  \n",
       "0                     Park/Playground  anti-african american  \n",
       "1  Highway/Road/Alley/Street/Sidewalk         anti-caucasian  \n",
       "2  Highway/Road/Alley/Street/Sidewalk            anti-jewish  \n",
       "3              Air/Bus/Train Terminal            anti-jewish  \n",
       "4                      Residence/Home              anti-lgbt  "
      ]
     },
     "metadata": {},
     "output_type": "display_data"
    },
    {
     "name": "stdout",
     "output_type": "stream",
     "text": [
      "----------------------------------\n"
     ]
    },
    {
     "data": {
      "text/html": [
       "<div>\n",
       "<style scoped>\n",
       "    .dataframe tbody tr th:only-of-type {\n",
       "        vertical-align: middle;\n",
       "    }\n",
       "\n",
       "    .dataframe tbody tr th {\n",
       "        vertical-align: top;\n",
       "    }\n",
       "\n",
       "    .dataframe thead th {\n",
       "        text-align: right;\n",
       "    }\n",
       "</style>\n",
       "<table border=\"1\" class=\"dataframe\">\n",
       "  <thead>\n",
       "    <tr style=\"text-align: right;\">\n",
       "      <th></th>\n",
       "      <th>date_of_incident</th>\n",
       "      <th>number_of_victims_under_18</th>\n",
       "      <th>number_of_victims_over_18</th>\n",
       "      <th>number_of_offenders_under_18</th>\n",
       "      <th>number_of_offenders_over_18</th>\n",
       "      <th>offender_race_ethnicity</th>\n",
       "      <th>offense</th>\n",
       "      <th>offense_location</th>\n",
       "      <th>bias</th>\n",
       "    </tr>\n",
       "  </thead>\n",
       "  <tbody>\n",
       "    <tr>\n",
       "      <th>51</th>\n",
       "      <td>3/22/2020</td>\n",
       "      <td>0</td>\n",
       "      <td>1</td>\n",
       "      <td>0</td>\n",
       "      <td>0</td>\n",
       "      <td>unknown</td>\n",
       "      <td>Criminal Mischief</td>\n",
       "      <td>Residence/Home</td>\n",
       "      <td>anti-lgbt</td>\n",
       "    </tr>\n",
       "    <tr>\n",
       "      <th>52</th>\n",
       "      <td>4/20/2020</td>\n",
       "      <td>0</td>\n",
       "      <td>1</td>\n",
       "      <td>0</td>\n",
       "      <td>0</td>\n",
       "      <td>unknown</td>\n",
       "      <td>Criminal Mischief</td>\n",
       "      <td>Church/Synagogue/Temple/Mosque</td>\n",
       "      <td>anti-buddhist</td>\n",
       "    </tr>\n",
       "    <tr>\n",
       "      <th>53</th>\n",
       "      <td>4/29/2020</td>\n",
       "      <td>0</td>\n",
       "      <td>1</td>\n",
       "      <td>0</td>\n",
       "      <td>1</td>\n",
       "      <td>african american</td>\n",
       "      <td>Assault by Threat</td>\n",
       "      <td>Department/Discount Store</td>\n",
       "      <td>anti-lgbt</td>\n",
       "    </tr>\n",
       "    <tr>\n",
       "      <th>54</th>\n",
       "      <td>5/17/2020</td>\n",
       "      <td>0</td>\n",
       "      <td>1</td>\n",
       "      <td>0</td>\n",
       "      <td>1</td>\n",
       "      <td>caucasian</td>\n",
       "      <td>Assault by Contact</td>\n",
       "      <td>Convenience Store</td>\n",
       "      <td>anti-african american</td>\n",
       "    </tr>\n",
       "    <tr>\n",
       "      <th>55</th>\n",
       "      <td>5/20/2020</td>\n",
       "      <td>0</td>\n",
       "      <td>1</td>\n",
       "      <td>0</td>\n",
       "      <td>1</td>\n",
       "      <td>caucasian</td>\n",
       "      <td>Assault with Injury</td>\n",
       "      <td>Streets/Highway/Road/Alley</td>\n",
       "      <td>anti-hispanic</td>\n",
       "    </tr>\n",
       "  </tbody>\n",
       "</table>\n",
       "</div>"
      ],
      "text/plain": [
       "   date_of_incident  number_of_victims_under_18  number_of_victims_over_18  \\\n",
       "51        3/22/2020                           0                          1   \n",
       "52        4/20/2020                           0                          1   \n",
       "53        4/29/2020                           0                          1   \n",
       "54        5/17/2020                           0                          1   \n",
       "55        5/20/2020                           0                          1   \n",
       "\n",
       "    number_of_offenders_under_18  number_of_offenders_over_18  \\\n",
       "51                             0                            0   \n",
       "52                             0                            0   \n",
       "53                             0                            1   \n",
       "54                             0                            1   \n",
       "55                             0                            1   \n",
       "\n",
       "   offender_race_ethnicity              offense  \\\n",
       "51                 unknown    Criminal Mischief   \n",
       "52                 unknown    Criminal Mischief   \n",
       "53        african american    Assault by Threat   \n",
       "54               caucasian   Assault by Contact   \n",
       "55               caucasian  Assault with Injury   \n",
       "\n",
       "                  offense_location                   bias  \n",
       "51                  Residence/Home              anti-lgbt  \n",
       "52  Church/Synagogue/Temple/Mosque          anti-buddhist  \n",
       "53       Department/Discount Store              anti-lgbt  \n",
       "54               Convenience Store  anti-african american  \n",
       "55      Streets/Highway/Road/Alley          anti-hispanic  "
      ]
     },
     "metadata": {},
     "output_type": "display_data"
    },
    {
     "name": "stdout",
     "output_type": "stream",
     "text": [
      "----------------------------------\n"
     ]
    },
    {
     "data": {
      "text/html": [
       "<div>\n",
       "<style scoped>\n",
       "    .dataframe tbody tr th:only-of-type {\n",
       "        vertical-align: middle;\n",
       "    }\n",
       "\n",
       "    .dataframe tbody tr th {\n",
       "        vertical-align: top;\n",
       "    }\n",
       "\n",
       "    .dataframe thead th {\n",
       "        text-align: right;\n",
       "    }\n",
       "</style>\n",
       "<table border=\"1\" class=\"dataframe\">\n",
       "  <thead>\n",
       "    <tr style=\"text-align: right;\">\n",
       "      <th></th>\n",
       "      <th>number_of_victims_under_18</th>\n",
       "      <th>number_of_victims_over_18</th>\n",
       "      <th>number_of_offenders_under_18</th>\n",
       "      <th>number_of_offenders_over_18</th>\n",
       "    </tr>\n",
       "  </thead>\n",
       "  <tbody>\n",
       "    <tr>\n",
       "      <th>count</th>\n",
       "      <td>56.000000</td>\n",
       "      <td>56.000000</td>\n",
       "      <td>56.000000</td>\n",
       "      <td>56.000000</td>\n",
       "    </tr>\n",
       "    <tr>\n",
       "      <th>mean</th>\n",
       "      <td>0.053571</td>\n",
       "      <td>0.910714</td>\n",
       "      <td>0.125000</td>\n",
       "      <td>1.017857</td>\n",
       "    </tr>\n",
       "    <tr>\n",
       "      <th>std</th>\n",
       "      <td>0.227208</td>\n",
       "      <td>0.394360</td>\n",
       "      <td>0.506772</td>\n",
       "      <td>0.820002</td>\n",
       "    </tr>\n",
       "    <tr>\n",
       "      <th>min</th>\n",
       "      <td>0.000000</td>\n",
       "      <td>0.000000</td>\n",
       "      <td>0.000000</td>\n",
       "      <td>0.000000</td>\n",
       "    </tr>\n",
       "    <tr>\n",
       "      <th>25%</th>\n",
       "      <td>0.000000</td>\n",
       "      <td>1.000000</td>\n",
       "      <td>0.000000</td>\n",
       "      <td>1.000000</td>\n",
       "    </tr>\n",
       "    <tr>\n",
       "      <th>50%</th>\n",
       "      <td>0.000000</td>\n",
       "      <td>1.000000</td>\n",
       "      <td>0.000000</td>\n",
       "      <td>1.000000</td>\n",
       "    </tr>\n",
       "    <tr>\n",
       "      <th>75%</th>\n",
       "      <td>0.000000</td>\n",
       "      <td>1.000000</td>\n",
       "      <td>0.000000</td>\n",
       "      <td>1.000000</td>\n",
       "    </tr>\n",
       "    <tr>\n",
       "      <th>max</th>\n",
       "      <td>1.000000</td>\n",
       "      <td>2.000000</td>\n",
       "      <td>3.000000</td>\n",
       "      <td>4.000000</td>\n",
       "    </tr>\n",
       "  </tbody>\n",
       "</table>\n",
       "</div>"
      ],
      "text/plain": [
       "       number_of_victims_under_18  number_of_victims_over_18  \\\n",
       "count                   56.000000                  56.000000   \n",
       "mean                     0.053571                   0.910714   \n",
       "std                      0.227208                   0.394360   \n",
       "min                      0.000000                   0.000000   \n",
       "25%                      0.000000                   1.000000   \n",
       "50%                      0.000000                   1.000000   \n",
       "75%                      0.000000                   1.000000   \n",
       "max                      1.000000                   2.000000   \n",
       "\n",
       "       number_of_offenders_under_18  number_of_offenders_over_18  \n",
       "count                     56.000000                    56.000000  \n",
       "mean                       0.125000                     1.017857  \n",
       "std                        0.506772                     0.820002  \n",
       "min                        0.000000                     0.000000  \n",
       "25%                        0.000000                     1.000000  \n",
       "50%                        0.000000                     1.000000  \n",
       "75%                        0.000000                     1.000000  \n",
       "max                        3.000000                     4.000000  "
      ]
     },
     "metadata": {},
     "output_type": "display_data"
    },
    {
     "name": "stdout",
     "output_type": "stream",
     "text": [
      "----------------------------------\n"
     ]
    },
    {
     "data": {
      "text/plain": [
       "(56, 9)"
      ]
     },
     "metadata": {},
     "output_type": "display_data"
    }
   ],
   "source": [
    "# Importing & examining the cleaned dataset\n",
    "df = pd.read_csv(r\"C:\\Users\\Robert\\OneDrive\\Desktop\\aus_final.csv\")\n",
    "display(df.head())\n",
    "print('----------------------------------')\n",
    "display(df.tail())\n",
    "print('----------------------------------')\n",
    "display(df.describe())\n",
    "print('----------------------------------')\n",
    "display(df.shape)"
   ]
  },
  {
   "cell_type": "code",
   "execution_count": 3,
   "metadata": {
    "scrolled": false
   },
   "outputs": [
    {
     "data": {
      "text/plain": [
       "DatetimeIndex(['2017-01-01', '2017-02-01', '2017-03-21', '2017-04-12',\n",
       "               '2017-05-15', '2017-06-04', '2017-06-15', '2017-06-17',\n",
       "               '2017-07-01', '2017-07-05', '2017-07-20', '2017-07-21',\n",
       "               '2017-10-15', '2017-10-24', '2017-11-10', '2017-11-16',\n",
       "               '2017-11-26', '2018-01-19', '2018-01-25', '2018-02-08',\n",
       "               '2018-02-22', '2018-03-02', '2018-03-06', '2018-03-08',\n",
       "               '2018-04-01', '2018-04-30', '2018-05-21', '2018-06-16',\n",
       "               '2018-06-28', '2018-08-13', '2018-08-25', '2018-09-09',\n",
       "               '2018-09-11', '2018-10-11', '2018-10-19', '2018-12-15',\n",
       "               '2018-12-29', '2019-01-19', '2019-02-22', '2019-03-31',\n",
       "               '2019-04-04', '2019-06-11', '2019-08-06', '2019-08-12',\n",
       "               '2019-08-24', '2019-11-23', '2019-12-19', '2019-12-30',\n",
       "               '2020-03-01', '2020-03-08', '2020-03-22', '2020-03-22',\n",
       "               '2020-04-20', '2020-04-29', '2020-05-17', '2020-05-20'],\n",
       "              dtype='datetime64[ns]', name='date_of_incident', freq=None)"
      ]
     },
     "metadata": {},
     "output_type": "display_data"
    },
    {
     "name": "stdout",
     "output_type": "stream",
     "text": [
      "----------------------------------\n"
     ]
    },
    {
     "data": {
      "text/html": [
       "<div>\n",
       "<style scoped>\n",
       "    .dataframe tbody tr th:only-of-type {\n",
       "        vertical-align: middle;\n",
       "    }\n",
       "\n",
       "    .dataframe tbody tr th {\n",
       "        vertical-align: top;\n",
       "    }\n",
       "\n",
       "    .dataframe thead th {\n",
       "        text-align: right;\n",
       "    }\n",
       "</style>\n",
       "<table border=\"1\" class=\"dataframe\">\n",
       "  <thead>\n",
       "    <tr style=\"text-align: right;\">\n",
       "      <th></th>\n",
       "      <th>number_of_victims_under_18</th>\n",
       "      <th>number_of_victims_over_18</th>\n",
       "      <th>number_of_offenders_under_18</th>\n",
       "      <th>number_of_offenders_over_18</th>\n",
       "      <th>offender_race_ethnicity</th>\n",
       "      <th>offense</th>\n",
       "      <th>offense_location</th>\n",
       "      <th>bias</th>\n",
       "    </tr>\n",
       "    <tr>\n",
       "      <th>date_of_incident</th>\n",
       "      <th></th>\n",
       "      <th></th>\n",
       "      <th></th>\n",
       "      <th></th>\n",
       "      <th></th>\n",
       "      <th></th>\n",
       "      <th></th>\n",
       "      <th></th>\n",
       "    </tr>\n",
       "  </thead>\n",
       "  <tbody>\n",
       "    <tr>\n",
       "      <th>2017-01-01</th>\n",
       "      <td>0</td>\n",
       "      <td>1</td>\n",
       "      <td>0</td>\n",
       "      <td>1</td>\n",
       "      <td>caucasian</td>\n",
       "      <td>Aggravated Assault</td>\n",
       "      <td>Park/Playground</td>\n",
       "      <td>anti-african american</td>\n",
       "    </tr>\n",
       "    <tr>\n",
       "      <th>2017-02-01</th>\n",
       "      <td>0</td>\n",
       "      <td>1</td>\n",
       "      <td>0</td>\n",
       "      <td>1</td>\n",
       "      <td>african american</td>\n",
       "      <td>Aggravated Assault</td>\n",
       "      <td>Highway/Road/Alley/Street/Sidewalk</td>\n",
       "      <td>anti-caucasian</td>\n",
       "    </tr>\n",
       "    <tr>\n",
       "      <th>2017-03-21</th>\n",
       "      <td>0</td>\n",
       "      <td>0</td>\n",
       "      <td>0</td>\n",
       "      <td>0</td>\n",
       "      <td>unknown</td>\n",
       "      <td>Destruction</td>\n",
       "      <td>Highway/Road/Alley/Street/Sidewalk</td>\n",
       "      <td>anti-jewish</td>\n",
       "    </tr>\n",
       "    <tr>\n",
       "      <th>2017-04-12</th>\n",
       "      <td>0</td>\n",
       "      <td>0</td>\n",
       "      <td>0</td>\n",
       "      <td>0</td>\n",
       "      <td>caucasian</td>\n",
       "      <td>Simple Assault</td>\n",
       "      <td>Air/Bus/Train Terminal</td>\n",
       "      <td>anti-jewish</td>\n",
       "    </tr>\n",
       "    <tr>\n",
       "      <th>2017-05-15</th>\n",
       "      <td>1</td>\n",
       "      <td>0</td>\n",
       "      <td>1</td>\n",
       "      <td>2</td>\n",
       "      <td>caucasian</td>\n",
       "      <td>Simple Assault</td>\n",
       "      <td>Residence/Home</td>\n",
       "      <td>anti-lgbt</td>\n",
       "    </tr>\n",
       "  </tbody>\n",
       "</table>\n",
       "</div>"
      ],
      "text/plain": [
       "                  number_of_victims_under_18  number_of_victims_over_18  \\\n",
       "date_of_incident                                                          \n",
       "2017-01-01                                 0                          1   \n",
       "2017-02-01                                 0                          1   \n",
       "2017-03-21                                 0                          0   \n",
       "2017-04-12                                 0                          0   \n",
       "2017-05-15                                 1                          0   \n",
       "\n",
       "                  number_of_offenders_under_18  number_of_offenders_over_18  \\\n",
       "date_of_incident                                                              \n",
       "2017-01-01                                   0                            1   \n",
       "2017-02-01                                   0                            1   \n",
       "2017-03-21                                   0                            0   \n",
       "2017-04-12                                   0                            0   \n",
       "2017-05-15                                   1                            2   \n",
       "\n",
       "                 offender_race_ethnicity             offense  \\\n",
       "date_of_incident                                               \n",
       "2017-01-01                     caucasian  Aggravated Assault   \n",
       "2017-02-01              african american  Aggravated Assault   \n",
       "2017-03-21                       unknown         Destruction   \n",
       "2017-04-12                     caucasian      Simple Assault   \n",
       "2017-05-15                     caucasian      Simple Assault   \n",
       "\n",
       "                                    offense_location                   bias  \n",
       "date_of_incident                                                             \n",
       "2017-01-01                           Park/Playground  anti-african american  \n",
       "2017-02-01        Highway/Road/Alley/Street/Sidewalk         anti-caucasian  \n",
       "2017-03-21        Highway/Road/Alley/Street/Sidewalk            anti-jewish  \n",
       "2017-04-12                    Air/Bus/Train Terminal            anti-jewish  \n",
       "2017-05-15                            Residence/Home              anti-lgbt  "
      ]
     },
     "metadata": {},
     "output_type": "display_data"
    },
    {
     "name": "stdout",
     "output_type": "stream",
     "text": [
      "----------------------------------\n"
     ]
    },
    {
     "data": {
      "text/html": [
       "<div>\n",
       "<style scoped>\n",
       "    .dataframe tbody tr th:only-of-type {\n",
       "        vertical-align: middle;\n",
       "    }\n",
       "\n",
       "    .dataframe tbody tr th {\n",
       "        vertical-align: top;\n",
       "    }\n",
       "\n",
       "    .dataframe thead th {\n",
       "        text-align: right;\n",
       "    }\n",
       "</style>\n",
       "<table border=\"1\" class=\"dataframe\">\n",
       "  <thead>\n",
       "    <tr style=\"text-align: right;\">\n",
       "      <th></th>\n",
       "      <th>number_of_victims_under_18</th>\n",
       "      <th>number_of_victims_over_18</th>\n",
       "      <th>number_of_offenders_under_18</th>\n",
       "      <th>number_of_offenders_over_18</th>\n",
       "      <th>offender_race_ethnicity</th>\n",
       "      <th>offense</th>\n",
       "      <th>offense_location</th>\n",
       "      <th>bias</th>\n",
       "    </tr>\n",
       "    <tr>\n",
       "      <th>date_of_incident</th>\n",
       "      <th></th>\n",
       "      <th></th>\n",
       "      <th></th>\n",
       "      <th></th>\n",
       "      <th></th>\n",
       "      <th></th>\n",
       "      <th></th>\n",
       "      <th></th>\n",
       "    </tr>\n",
       "  </thead>\n",
       "  <tbody>\n",
       "    <tr>\n",
       "      <th>2020-03-22</th>\n",
       "      <td>0</td>\n",
       "      <td>1</td>\n",
       "      <td>0</td>\n",
       "      <td>0</td>\n",
       "      <td>unknown</td>\n",
       "      <td>Criminal Mischief</td>\n",
       "      <td>Residence/Home</td>\n",
       "      <td>anti-lgbt</td>\n",
       "    </tr>\n",
       "    <tr>\n",
       "      <th>2020-04-20</th>\n",
       "      <td>0</td>\n",
       "      <td>1</td>\n",
       "      <td>0</td>\n",
       "      <td>0</td>\n",
       "      <td>unknown</td>\n",
       "      <td>Criminal Mischief</td>\n",
       "      <td>Church/Synagogue/Temple/Mosque</td>\n",
       "      <td>anti-buddhist</td>\n",
       "    </tr>\n",
       "    <tr>\n",
       "      <th>2020-04-29</th>\n",
       "      <td>0</td>\n",
       "      <td>1</td>\n",
       "      <td>0</td>\n",
       "      <td>1</td>\n",
       "      <td>african american</td>\n",
       "      <td>Assault by Threat</td>\n",
       "      <td>Department/Discount Store</td>\n",
       "      <td>anti-lgbt</td>\n",
       "    </tr>\n",
       "    <tr>\n",
       "      <th>2020-05-17</th>\n",
       "      <td>0</td>\n",
       "      <td>1</td>\n",
       "      <td>0</td>\n",
       "      <td>1</td>\n",
       "      <td>caucasian</td>\n",
       "      <td>Assault by Contact</td>\n",
       "      <td>Convenience Store</td>\n",
       "      <td>anti-african american</td>\n",
       "    </tr>\n",
       "    <tr>\n",
       "      <th>2020-05-20</th>\n",
       "      <td>0</td>\n",
       "      <td>1</td>\n",
       "      <td>0</td>\n",
       "      <td>1</td>\n",
       "      <td>caucasian</td>\n",
       "      <td>Assault with Injury</td>\n",
       "      <td>Streets/Highway/Road/Alley</td>\n",
       "      <td>anti-hispanic</td>\n",
       "    </tr>\n",
       "  </tbody>\n",
       "</table>\n",
       "</div>"
      ],
      "text/plain": [
       "                  number_of_victims_under_18  number_of_victims_over_18  \\\n",
       "date_of_incident                                                          \n",
       "2020-03-22                                 0                          1   \n",
       "2020-04-20                                 0                          1   \n",
       "2020-04-29                                 0                          1   \n",
       "2020-05-17                                 0                          1   \n",
       "2020-05-20                                 0                          1   \n",
       "\n",
       "                  number_of_offenders_under_18  number_of_offenders_over_18  \\\n",
       "date_of_incident                                                              \n",
       "2020-03-22                                   0                            0   \n",
       "2020-04-20                                   0                            0   \n",
       "2020-04-29                                   0                            1   \n",
       "2020-05-17                                   0                            1   \n",
       "2020-05-20                                   0                            1   \n",
       "\n",
       "                 offender_race_ethnicity              offense  \\\n",
       "date_of_incident                                                \n",
       "2020-03-22                       unknown    Criminal Mischief   \n",
       "2020-04-20                       unknown    Criminal Mischief   \n",
       "2020-04-29              african american    Assault by Threat   \n",
       "2020-05-17                     caucasian   Assault by Contact   \n",
       "2020-05-20                     caucasian  Assault with Injury   \n",
       "\n",
       "                                offense_location                   bias  \n",
       "date_of_incident                                                         \n",
       "2020-03-22                        Residence/Home              anti-lgbt  \n",
       "2020-04-20        Church/Synagogue/Temple/Mosque          anti-buddhist  \n",
       "2020-04-29             Department/Discount Store              anti-lgbt  \n",
       "2020-05-17                     Convenience Store  anti-african american  \n",
       "2020-05-20            Streets/Highway/Road/Alley          anti-hispanic  "
      ]
     },
     "metadata": {},
     "output_type": "display_data"
    },
    {
     "name": "stdout",
     "output_type": "stream",
     "text": [
      "----------------------------------\n"
     ]
    },
    {
     "data": {
      "text/plain": [
       "number_of_victims_under_18         int64\n",
       "number_of_victims_over_18          int64\n",
       "number_of_offenders_under_18       int64\n",
       "number_of_offenders_over_18        int64\n",
       "offender_race_ethnicity         category\n",
       "offense                         category\n",
       "offense_location                category\n",
       "bias                            category\n",
       "dtype: object"
      ]
     },
     "metadata": {},
     "output_type": "display_data"
    }
   ],
   "source": [
    "# Creating an index out of the 'date' column annd converting the non-numeric columns into categories\n",
    "df['date_of_incident'] = df['date_of_incident'].astype('datetime64')\n",
    "df.set_index(['date_of_incident'], inplace=True)\n",
    "df['bias'] = df['bias'].astype('category')\n",
    "df['offense'] = df['offense'].astype('category')\n",
    "df['offense_location'] = df['offense_location'].astype('category')\n",
    "df['offender_race_ethnicity'] = df['offender_race_ethnicity'].astype('category')\n",
    "\n",
    "# Reexamining the dataset\n",
    "display(df.index)\n",
    "print('----------------------------------')\n",
    "display(df.head())\n",
    "print('----------------------------------')\n",
    "display(df.tail())\n",
    "print('----------------------------------')\n",
    "display(df.dtypes)"
   ]
  },
  {
   "cell_type": "markdown",
   "metadata": {},
   "source": [
    "### Question 1. How are reported incidences in Austin distributed according to motivation? "
   ]
  },
  {
   "cell_type": "code",
   "execution_count": 18,
   "metadata": {
    "scrolled": false
   },
   "outputs": [
    {
     "data": {
      "text/plain": [
       "anti-lgbt                18\n",
       "anti-african american    18\n",
       "anti-hispanic             7\n",
       "anti-muslim               4\n",
       "anti-jewish               4\n",
       "anti-caucasian            3\n",
       "anti-disability           1\n",
       "anti-buddhist             1\n",
       "Name: bias, dtype: int64"
      ]
     },
     "metadata": {},
     "output_type": "display_data"
    },
    {
     "name": "stdout",
     "output_type": "stream",
     "text": [
      "----------------------------------\n"
     ]
    },
    {
     "data": {
      "text/plain": [
       "anti-lgbt                0.321429\n",
       "anti-african american    0.321429\n",
       "anti-hispanic            0.125000\n",
       "anti-muslim              0.071429\n",
       "anti-jewish              0.071429\n",
       "anti-caucasian           0.053571\n",
       "anti-disability          0.017857\n",
       "anti-buddhist            0.017857\n",
       "Name: bias, dtype: float64"
      ]
     },
     "metadata": {},
     "output_type": "display_data"
    },
    {
     "data": {
      "image/png": "[encoded data removed]",
      "text/plain": [
       "<Figure size 432x288 with 1 Axes>"
      ]
     },
     "metadata": {
      "needs_background": "light"
     },
     "output_type": "display_data"
    },
    {
     "data": {
      "image/png": "[encoded data removed]",
      "text/plain": [
       "<Figure size 432x288 with 1 Axes>"
      ]
     },
     "metadata": {},
     "output_type": "display_data"
    }
   ],
   "source": [
    "# Creating a dataframe of the biases\n",
    "bias = df['bias'].value_counts()\n",
    "display(bias)\n",
    "\n",
    "bias_pct = df['bias'].value_counts(normalize=True)\n",
    "\n",
    "# Displaying the bias values as proportions\n",
    "print('----------------------------------')\n",
    "display(df['bias'].value_counts(normalize=True))\n",
    "\n",
    "# Visualizing the bias dataframe\n",
    "bias.plot.bar()\n",
    "plt.ylabel('Total Crimes since 2017')\n",
    "plt.title('Distribution of Bias')\n",
    "plt.show()\n",
    "\n",
    "# Visualizing bias values as proportions\n",
    "bias_pct.plot.pie()\n",
    "plt.title('Distribution of Bias')\n",
    "plt.show()"
   ]
  },
  {
   "cell_type": "markdown",
   "metadata": {},
   "source": [
    "### Question 2. How are hate crimes perpetuated? "
   ]
  },
  {
   "cell_type": "code",
   "execution_count": 20,
   "metadata": {},
   "outputs": [
    {
     "data": {
      "text/plain": [
       "Assault                21\n",
       "Simple Assault          8\n",
       "Intimidation            7\n",
       "Criminal Mischief       5\n",
       "Vandalism               4\n",
       "Aggravated Assault      3\n",
       "Destruction             2\n",
       "Theft                   1\n",
       "Robbery                 1\n",
       "Burglary/Assault        1\n",
       "Assault with Injury     1\n",
       "Assault by Threat       1\n",
       "Assault by Contact      1\n",
       "Name: offense, dtype: int64"
      ]
     },
     "metadata": {},
     "output_type": "display_data"
    },
    {
     "name": "stdout",
     "output_type": "stream",
     "text": [
      "----------------------------------\n"
     ]
    },
    {
     "data": {
      "text/plain": [
       "Assault                0.375000\n",
       "Simple Assault         0.142857\n",
       "Intimidation           0.125000\n",
       "Criminal Mischief      0.089286\n",
       "Vandalism              0.071429\n",
       "Aggravated Assault     0.053571\n",
       "Destruction            0.035714\n",
       "Theft                  0.017857\n",
       "Robbery                0.017857\n",
       "Burglary/Assault       0.017857\n",
       "Assault with Injury    0.017857\n",
       "Assault by Threat      0.017857\n",
       "Assault by Contact     0.017857\n",
       "Name: offense, dtype: float64"
      ]
     },
     "metadata": {},
     "output_type": "display_data"
    },
    {
     "data": {
      "image/png": "[encoded data removed]",
      "text/plain": [
       "<Figure size 432x288 with 1 Axes>"
      ]
     },
     "metadata": {
      "needs_background": "light"
     },
     "output_type": "display_data"
    }
   ],
   "source": [
    "# Create a dataframe for the offense values\n",
    "offense_count = df.offense.value_counts()\n",
    "display(offense_count)\n",
    "\n",
    "# Displaying the offense values as proportions\n",
    "print('----------------------------------')\n",
    "display(df.offense.value_counts(normalize=True))\n",
    "\n",
    "\n",
    "# Plotting the offense values\n",
    "offense_count.plot.bar()\n",
    "plt.ylabel('Total Crimes since 2017')\n",
    "plt.title('Distribution of Offenses')\n",
    "plt.show()"
   ]
  },
  {
   "cell_type": "markdown",
   "metadata": {},
   "source": [
    "### Question 3. What is the race/ethnicity of the offenders?      "
   ]
  },
  {
   "cell_type": "code",
   "execution_count": 21,
   "metadata": {},
   "outputs": [
    {
     "data": {
      "text/plain": [
       "caucasian                    26\n",
       "hispanic                     12\n",
       "unknown                       8\n",
       "african american              5\n",
       "group of multiple races       3\n",
       "hispanic (2) caucasian(2)     1\n",
       "asian                         1\n",
       "Name: offender_race_ethnicity, dtype: int64"
      ]
     },
     "metadata": {},
     "output_type": "display_data"
    },
    {
     "name": "stdout",
     "output_type": "stream",
     "text": [
      "----------------------------------\n"
     ]
    },
    {
     "data": {
      "text/plain": [
       "caucasian                    0.464286\n",
       "hispanic                     0.214286\n",
       "unknown                      0.142857\n",
       "african american             0.089286\n",
       "group of multiple races      0.053571\n",
       "hispanic (2) caucasian(2)    0.017857\n",
       "asian                        0.017857\n",
       "Name: offender_race_ethnicity, dtype: float64"
      ]
     },
     "metadata": {},
     "output_type": "display_data"
    },
    {
     "data": {
      "image/png": "[encoded data removed]",
      "text/plain": [
       "<Figure size 432x288 with 1 Axes>"
      ]
     },
     "metadata": {
      "needs_background": "light"
     },
     "output_type": "display_data"
    }
   ],
   "source": [
    "# Create a dataframe for the offender ethnicity values\n",
    "offenders_count = df['offender_race_ethnicity'].value_counts()\n",
    "display(offenders_count)\n",
    "print('----------------------------------')\n",
    "\n",
    "# Displaying the offender ethnicity values as proportions\n",
    "display(df.offender_race_ethnicity.value_counts(normalize=True))\n",
    "\n",
    "# Visualizing the offender ethnicity values\n",
    "offenders_count.plot.bar()\n",
    "plt.ylabel('Total Crimes since 2017')\n",
    "plt.title('Offender Race/Ethnicity')\n",
    "plt.show()"
   ]
  },
  {
   "cell_type": "markdown",
   "metadata": {},
   "source": [
    "Note...the above 'Offender' graph has an instance of 'Hispanic (2), Caucasian (2)' as a single column because of an incident that occurred on 1/19/19 https://www.statesman.com/news/20200124/confrontation-that-ignited-attack-on-austin-gay-couple-questioned-by-detective -- 2 of the offenders were white, and the other 2 were hispanic. "
   ]
  },
  {
   "cell_type": "markdown",
   "metadata": {},
   "source": [
    "### Question 4. Where in Austin do hate crimes often take place? "
   ]
  },
  {
   "cell_type": "code",
   "execution_count": 13,
   "metadata": {
    "scrolled": false
   },
   "outputs": [
    {
     "data": {
      "text/plain": [
       "Residence/Home                        11\n",
       "Streets/Highway/Road/Alley             6\n",
       "Highway/Road/Alley/Street/Sidewalk     6\n",
       "Bar/Nightclub                          5\n",
       "Parking Lot/Garage                     5\n",
       "Name: offense_location, dtype: int64"
      ]
     },
     "metadata": {},
     "output_type": "display_data"
    },
    {
     "name": "stdout",
     "output_type": "stream",
     "text": [
      "----------------------------------\n"
     ]
    },
    {
     "data": {
      "text/plain": [
       "Residence/Home                        0.196429\n",
       "Streets/Highway/Road/Alley            0.107143\n",
       "Highway/Road/Alley/Street/Sidewalk    0.107143\n",
       "Bar/Nightclub                         0.089286\n",
       "Parking Lot/Garage                    0.089286\n",
       "Name: offense_location, dtype: float64"
      ]
     },
     "metadata": {},
     "output_type": "display_data"
    },
    {
     "data": {
      "image/png": "[encoded data removed]",
      "text/plain": [
       "<Figure size 432x288 with 1 Axes>"
      ]
     },
     "metadata": {
      "needs_background": "light"
     },
     "output_type": "display_data"
    }
   ],
   "source": [
    "# Displaying the top 5 locations where hate crimes take place in Austin.\n",
    "location = df.offense_location.value_counts().head(5)\n",
    "display(location)\n",
    "print('----------------------------------')\n",
    "# Displaying 'offense location' as percentages\n",
    "display(df.offense_location.value_counts(normalize=True).head(5))\n",
    "\n",
    "location.plot.bar()\n",
    "plt.ylabel('Total Crimes since 2017')\n",
    "plt.title('Top 5 Crime Location Types')\n",
    "plt.show()"
   ]
  },
  {
   "cell_type": "markdown",
   "metadata": {},
   "source": [
    "### Question 5. Any correlations between victims and offenders? "
   ]
  },
  {
   "cell_type": "code",
   "execution_count": 8,
   "metadata": {},
   "outputs": [
    {
     "data": {
      "text/html": [
       "<div>\n",
       "<style scoped>\n",
       "    .dataframe tbody tr th:only-of-type {\n",
       "        vertical-align: middle;\n",
       "    }\n",
       "\n",
       "    .dataframe tbody tr th {\n",
       "        vertical-align: top;\n",
       "    }\n",
       "\n",
       "    .dataframe thead th {\n",
       "        text-align: right;\n",
       "    }\n",
       "</style>\n",
       "<table border=\"1\" class=\"dataframe\">\n",
       "  <thead>\n",
       "    <tr style=\"text-align: right;\">\n",
       "      <th></th>\n",
       "      <th>number_of_victims_under_18</th>\n",
       "      <th>number_of_victims_over_18</th>\n",
       "      <th>number_of_offenders_under_18</th>\n",
       "      <th>number_of_offenders_over_18</th>\n",
       "    </tr>\n",
       "  </thead>\n",
       "  <tbody>\n",
       "    <tr>\n",
       "      <th>number_of_victims_under_18</th>\n",
       "      <td>1.000000</td>\n",
       "      <td>-0.554402</td>\n",
       "      <td>0.572413</td>\n",
       "      <td>-0.005228</td>\n",
       "    </tr>\n",
       "    <tr>\n",
       "      <th>number_of_victims_over_18</th>\n",
       "      <td>-0.554402</td>\n",
       "      <td>1.000000</td>\n",
       "      <td>-0.398025</td>\n",
       "      <td>0.342371</td>\n",
       "    </tr>\n",
       "    <tr>\n",
       "      <th>number_of_offenders_under_18</th>\n",
       "      <td>0.572413</td>\n",
       "      <td>-0.398025</td>\n",
       "      <td>1.000000</td>\n",
       "      <td>-0.180482</td>\n",
       "    </tr>\n",
       "    <tr>\n",
       "      <th>number_of_offenders_over_18</th>\n",
       "      <td>-0.005228</td>\n",
       "      <td>0.342371</td>\n",
       "      <td>-0.180482</td>\n",
       "      <td>1.000000</td>\n",
       "    </tr>\n",
       "  </tbody>\n",
       "</table>\n",
       "</div>"
      ],
      "text/plain": [
       "                              number_of_victims_under_18  \\\n",
       "number_of_victims_under_18                      1.000000   \n",
       "number_of_victims_over_18                      -0.554402   \n",
       "number_of_offenders_under_18                    0.572413   \n",
       "number_of_offenders_over_18                    -0.005228   \n",
       "\n",
       "                              number_of_victims_over_18  \\\n",
       "number_of_victims_under_18                    -0.554402   \n",
       "number_of_victims_over_18                      1.000000   \n",
       "number_of_offenders_under_18                  -0.398025   \n",
       "number_of_offenders_over_18                    0.342371   \n",
       "\n",
       "                              number_of_offenders_under_18  \\\n",
       "number_of_victims_under_18                        0.572413   \n",
       "number_of_victims_over_18                        -0.398025   \n",
       "number_of_offenders_under_18                      1.000000   \n",
       "number_of_offenders_over_18                      -0.180482   \n",
       "\n",
       "                              number_of_offenders_over_18  \n",
       "number_of_victims_under_18                      -0.005228  \n",
       "number_of_victims_over_18                        0.342371  \n",
       "number_of_offenders_under_18                    -0.180482  \n",
       "number_of_offenders_over_18                      1.000000  "
      ]
     },
     "metadata": {},
     "output_type": "display_data"
    },
    {
     "data": {
      "image/png": "[encoded data removed]",
      "text/plain": [
       "<Figure size 432x288 with 1 Axes>"
      ]
     },
     "metadata": {
      "needs_background": "light"
     },
     "output_type": "display_data"
    }
   ],
   "source": [
    "# Examining correlations between victims & offenders\n",
    "df_corr = df.corr()\n",
    "\n",
    "display(df_corr)\n",
    "df_corr.plot.bar()\n",
    "plt.show()"
   ]
  }
 ],
 "metadata": {
  "kernelspec": {
   "display_name": "Python 3",
   "language": "python",
   "name": "python3"
  },
  "language_info": {
   "codemirror_mode": {
    "name": "ipython",
    "version": 3
   },
   "file_extension": ".py",
   "mimetype": "text/x-python",
   "name": "python",
   "nbconvert_exporter": "python",
   "pygments_lexer": "ipython3",
   "version": "3.7.6"
  }
 },
 "nbformat": 4,
 "nbformat_minor": 4
}
