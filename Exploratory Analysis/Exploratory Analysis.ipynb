{
 "cells": [
  {
   "cell_type": "markdown",
   "metadata": {},
   "source": [
    "# Exploratory Analysis\n",
    "In between this notebook, and the first, I cleaned the data further in Excel since the dataset was small enough to begin with. First, I combined the various LGBT related biases into one as 'Anti-LGBT'. I also, cleaned up some other biases to make the entire column uniform as possible. Second, I cleaned the offender ethnicity column for the same reason. The resulting dataset lists 56 separate alleged hate crimes, in Austin, TX, since 2017. \n",
    "\n",
    "Out of the total number of reported, alleged incidents, 32.14% were directed at the LGBT Community. "
   ]
  },
  {
   "cell_type": "code",
   "execution_count": 1,
   "metadata": {},
   "outputs": [],
   "source": [
    "import pandas as pd\n",
    "import numpy as np\n",
    "import matplotlib.pyplot as plt\n",
    "plt.style.use('fivethirtyeight')"
   ]
  },
  {
   "cell_type": "code",
   "execution_count": 2,
   "metadata": {
    "scrolled": true
   },
   "outputs": [
    {
     "data": {
      "text/html": [
       "<div>\n",
       "<style scoped>\n",
       "    .dataframe tbody tr th:only-of-type {\n",
       "        vertical-align: middle;\n",
       "    }\n",
       "\n",
       "    .dataframe tbody tr th {\n",
       "        vertical-align: top;\n",
       "    }\n",
       "\n",
       "    .dataframe thead th {\n",
       "        text-align: right;\n",
       "    }\n",
       "</style>\n",
       "<table border=\"1\" class=\"dataframe\">\n",
       "  <thead>\n",
       "    <tr style=\"text-align: right;\">\n",
       "      <th></th>\n",
       "      <th>date</th>\n",
       "      <th>bias</th>\n",
       "      <th>number_of_offenders_over_18</th>\n",
       "      <th>number_of_offenders_under_18</th>\n",
       "      <th>number_of_victims_over_18</th>\n",
       "      <th>number_of_victims_under_18</th>\n",
       "      <th>offense</th>\n",
       "      <th>offense_location</th>\n",
       "      <th>offender_ethnicity</th>\n",
       "    </tr>\n",
       "  </thead>\n",
       "  <tbody>\n",
       "    <tr>\n",
       "      <th>0</th>\n",
       "      <td>2017-01-01</td>\n",
       "      <td>Anti-African American</td>\n",
       "      <td>1</td>\n",
       "      <td>0</td>\n",
       "      <td>1</td>\n",
       "      <td>0</td>\n",
       "      <td>Aggravated Assault</td>\n",
       "      <td>Park/Playground</td>\n",
       "      <td>Caucasian</td>\n",
       "    </tr>\n",
       "    <tr>\n",
       "      <th>1</th>\n",
       "      <td>2017-02-01</td>\n",
       "      <td>Anti-Caucasian</td>\n",
       "      <td>1</td>\n",
       "      <td>0</td>\n",
       "      <td>1</td>\n",
       "      <td>0</td>\n",
       "      <td>Aggravated Assault</td>\n",
       "      <td>Street/Alley</td>\n",
       "      <td>African American</td>\n",
       "    </tr>\n",
       "    <tr>\n",
       "      <th>2</th>\n",
       "      <td>2017-03-21</td>\n",
       "      <td>Anti-Jewish</td>\n",
       "      <td>0</td>\n",
       "      <td>0</td>\n",
       "      <td>0</td>\n",
       "      <td>0</td>\n",
       "      <td>Destruction</td>\n",
       "      <td>Street/Alley</td>\n",
       "      <td>Unknown</td>\n",
       "    </tr>\n",
       "    <tr>\n",
       "      <th>3</th>\n",
       "      <td>2017-04-12</td>\n",
       "      <td>Anti-Jewish</td>\n",
       "      <td>0</td>\n",
       "      <td>0</td>\n",
       "      <td>0</td>\n",
       "      <td>0</td>\n",
       "      <td>Simple Assault</td>\n",
       "      <td>Air/Bus/Train Terminal</td>\n",
       "      <td>Caucasian</td>\n",
       "    </tr>\n",
       "    <tr>\n",
       "      <th>4</th>\n",
       "      <td>2017-05-15</td>\n",
       "      <td>Anti-LGBT</td>\n",
       "      <td>2</td>\n",
       "      <td>1</td>\n",
       "      <td>0</td>\n",
       "      <td>1</td>\n",
       "      <td>Simple Assault</td>\n",
       "      <td>Residence/Home</td>\n",
       "      <td>Caucasian</td>\n",
       "    </tr>\n",
       "  </tbody>\n",
       "</table>\n",
       "</div>"
      ],
      "text/plain": [
       "         date                   bias  number_of_offenders_over_18  \\\n",
       "0  2017-01-01  Anti-African American                            1   \n",
       "1  2017-02-01         Anti-Caucasian                            1   \n",
       "2  2017-03-21            Anti-Jewish                            0   \n",
       "3  2017-04-12            Anti-Jewish                            0   \n",
       "4  2017-05-15              Anti-LGBT                            2   \n",
       "\n",
       "   number_of_offenders_under_18  number_of_victims_over_18  \\\n",
       "0                             0                          1   \n",
       "1                             0                          1   \n",
       "2                             0                          0   \n",
       "3                             0                          0   \n",
       "4                             1                          0   \n",
       "\n",
       "   number_of_victims_under_18             offense        offense_location  \\\n",
       "0                           0  Aggravated Assault         Park/Playground   \n",
       "1                           0  Aggravated Assault            Street/Alley   \n",
       "2                           0         Destruction            Street/Alley   \n",
       "3                           0      Simple Assault  Air/Bus/Train Terminal   \n",
       "4                           1      Simple Assault          Residence/Home   \n",
       "\n",
       "  offender_ethnicity  \n",
       "0          Caucasian  \n",
       "1   African American  \n",
       "2            Unknown  \n",
       "3          Caucasian  \n",
       "4          Caucasian  "
      ]
     },
     "metadata": {},
     "output_type": "display_data"
    },
    {
     "name": "stdout",
     "output_type": "stream",
     "text": [
      "----------------------------------\n",
      "<class 'pandas.core.frame.DataFrame'>\n",
      "RangeIndex: 56 entries, 0 to 55\n",
      "Data columns (total 9 columns):\n",
      "date                            56 non-null object\n",
      "bias                            56 non-null object\n",
      "number_of_offenders_over_18     56 non-null int64\n",
      "number_of_offenders_under_18    56 non-null int64\n",
      "number_of_victims_over_18       56 non-null int64\n",
      "number_of_victims_under_18      56 non-null int64\n",
      "offense                         56 non-null object\n",
      "offense_location                56 non-null object\n",
      "offender_ethnicity              56 non-null object\n",
      "dtypes: int64(4), object(5)\n",
      "memory usage: 4.0+ KB\n",
      "None\n",
      "----------------------------------\n",
      "date                            0\n",
      "bias                            0\n",
      "number_of_offenders_over_18     0\n",
      "number_of_offenders_under_18    0\n",
      "number_of_victims_over_18       0\n",
      "number_of_victims_under_18      0\n",
      "offense                         0\n",
      "offense_location                0\n",
      "offender_ethnicity              0\n",
      "dtype: int64\n"
     ]
    }
   ],
   "source": [
    "# Importing & examining the cleaned dataset\n",
    "df = pd.read_csv(r\"C:\\Users\\Robert\\OneDrive\\Desktop\\aus_final_clean.csv\")\n",
    "display(df.head())\n",
    "print('----------------------------------')\n",
    "print(df.info())\n",
    "print('----------------------------------')\n",
    "print(df.isnull().sum())"
   ]
  },
  {
   "cell_type": "code",
   "execution_count": 3,
   "metadata": {
    "scrolled": false
   },
   "outputs": [
    {
     "name": "stdout",
     "output_type": "stream",
     "text": [
      "<class 'pandas.core.frame.DataFrame'>\n",
      "DatetimeIndex: 56 entries, 2017-01-01 to 2020-05-20\n",
      "Data columns (total 8 columns):\n",
      "bias                            56 non-null category\n",
      "number_of_offenders_over_18     56 non-null int64\n",
      "number_of_offenders_under_18    56 non-null int64\n",
      "number_of_victims_over_18       56 non-null int64\n",
      "number_of_victims_under_18      56 non-null int64\n",
      "offense                         56 non-null category\n",
      "offense_location                56 non-null category\n",
      "offender_ethnicity              56 non-null category\n",
      "dtypes: category(4), int64(4)\n",
      "memory usage: 4.5 KB\n",
      "None\n",
      "----------------------------------\n",
      "DatetimeIndex(['2017-01-01', '2017-02-01', '2017-03-21', '2017-04-12',\n",
      "               '2017-05-15', '2017-06-04', '2017-06-15', '2017-06-17',\n",
      "               '2017-07-01', '2017-07-05', '2017-07-20', '2017-07-21',\n",
      "               '2017-10-15', '2017-10-24', '2017-11-10', '2017-11-16',\n",
      "               '2017-11-26', '2018-01-19', '2018-01-25', '2018-02-08',\n",
      "               '2018-02-22', '2018-03-02', '2018-03-06', '2018-03-08',\n",
      "               '2018-04-01', '2018-04-30', '2018-05-21', '2018-06-16',\n",
      "               '2018-06-28', '2018-08-13', '2018-08-25', '2018-09-09',\n",
      "               '2018-09-11', '2018-10-11', '2018-10-19', '2018-12-15',\n",
      "               '2018-12-29', '2019-01-19', '2019-02-22', '2019-03-31',\n",
      "               '2019-04-04', '2019-06-11', '2019-08-06', '2019-08-12',\n",
      "               '2019-08-24', '2019-11-23', '2019-12-19', '2019-12-30',\n",
      "               '2020-03-01', '2020-03-08', '2020-03-22', '2020-03-22',\n",
      "               '2020-04-20', '2020-04-29', '2020-05-17', '2020-05-20'],\n",
      "              dtype='datetime64[ns]', name='date', freq=None)\n",
      "----------------------------------\n"
     ]
    },
    {
     "data": {
      "text/html": [
       "<div>\n",
       "<style scoped>\n",
       "    .dataframe tbody tr th:only-of-type {\n",
       "        vertical-align: middle;\n",
       "    }\n",
       "\n",
       "    .dataframe tbody tr th {\n",
       "        vertical-align: top;\n",
       "    }\n",
       "\n",
       "    .dataframe thead th {\n",
       "        text-align: right;\n",
       "    }\n",
       "</style>\n",
       "<table border=\"1\" class=\"dataframe\">\n",
       "  <thead>\n",
       "    <tr style=\"text-align: right;\">\n",
       "      <th></th>\n",
       "      <th>bias</th>\n",
       "      <th>number_of_offenders_over_18</th>\n",
       "      <th>number_of_offenders_under_18</th>\n",
       "      <th>number_of_victims_over_18</th>\n",
       "      <th>number_of_victims_under_18</th>\n",
       "      <th>offense</th>\n",
       "      <th>offense_location</th>\n",
       "      <th>offender_ethnicity</th>\n",
       "    </tr>\n",
       "    <tr>\n",
       "      <th>date</th>\n",
       "      <th></th>\n",
       "      <th></th>\n",
       "      <th></th>\n",
       "      <th></th>\n",
       "      <th></th>\n",
       "      <th></th>\n",
       "      <th></th>\n",
       "      <th></th>\n",
       "    </tr>\n",
       "  </thead>\n",
       "  <tbody>\n",
       "    <tr>\n",
       "      <th>2017-01-01</th>\n",
       "      <td>Anti-African American</td>\n",
       "      <td>1</td>\n",
       "      <td>0</td>\n",
       "      <td>1</td>\n",
       "      <td>0</td>\n",
       "      <td>Aggravated Assault</td>\n",
       "      <td>Park/Playground</td>\n",
       "      <td>Caucasian</td>\n",
       "    </tr>\n",
       "    <tr>\n",
       "      <th>2017-02-01</th>\n",
       "      <td>Anti-Caucasian</td>\n",
       "      <td>1</td>\n",
       "      <td>0</td>\n",
       "      <td>1</td>\n",
       "      <td>0</td>\n",
       "      <td>Aggravated Assault</td>\n",
       "      <td>Street/Alley</td>\n",
       "      <td>African American</td>\n",
       "    </tr>\n",
       "    <tr>\n",
       "      <th>2017-03-21</th>\n",
       "      <td>Anti-Jewish</td>\n",
       "      <td>0</td>\n",
       "      <td>0</td>\n",
       "      <td>0</td>\n",
       "      <td>0</td>\n",
       "      <td>Destruction</td>\n",
       "      <td>Street/Alley</td>\n",
       "      <td>Unknown</td>\n",
       "    </tr>\n",
       "    <tr>\n",
       "      <th>2017-04-12</th>\n",
       "      <td>Anti-Jewish</td>\n",
       "      <td>0</td>\n",
       "      <td>0</td>\n",
       "      <td>0</td>\n",
       "      <td>0</td>\n",
       "      <td>Simple Assault</td>\n",
       "      <td>Air/Bus/Train Terminal</td>\n",
       "      <td>Caucasian</td>\n",
       "    </tr>\n",
       "    <tr>\n",
       "      <th>2017-05-15</th>\n",
       "      <td>Anti-LGBT</td>\n",
       "      <td>2</td>\n",
       "      <td>1</td>\n",
       "      <td>0</td>\n",
       "      <td>1</td>\n",
       "      <td>Simple Assault</td>\n",
       "      <td>Residence/Home</td>\n",
       "      <td>Caucasian</td>\n",
       "    </tr>\n",
       "  </tbody>\n",
       "</table>\n",
       "</div>"
      ],
      "text/plain": [
       "                             bias  number_of_offenders_over_18  \\\n",
       "date                                                             \n",
       "2017-01-01  Anti-African American                            1   \n",
       "2017-02-01         Anti-Caucasian                            1   \n",
       "2017-03-21            Anti-Jewish                            0   \n",
       "2017-04-12            Anti-Jewish                            0   \n",
       "2017-05-15              Anti-LGBT                            2   \n",
       "\n",
       "            number_of_offenders_under_18  number_of_victims_over_18  \\\n",
       "date                                                                  \n",
       "2017-01-01                             0                          1   \n",
       "2017-02-01                             0                          1   \n",
       "2017-03-21                             0                          0   \n",
       "2017-04-12                             0                          0   \n",
       "2017-05-15                             1                          0   \n",
       "\n",
       "            number_of_victims_under_18             offense  \\\n",
       "date                                                         \n",
       "2017-01-01                           0  Aggravated Assault   \n",
       "2017-02-01                           0  Aggravated Assault   \n",
       "2017-03-21                           0         Destruction   \n",
       "2017-04-12                           0      Simple Assault   \n",
       "2017-05-15                           1      Simple Assault   \n",
       "\n",
       "                  offense_location offender_ethnicity  \n",
       "date                                                   \n",
       "2017-01-01         Park/Playground          Caucasian  \n",
       "2017-02-01            Street/Alley   African American  \n",
       "2017-03-21            Street/Alley            Unknown  \n",
       "2017-04-12  Air/Bus/Train Terminal          Caucasian  \n",
       "2017-05-15          Residence/Home          Caucasian  "
      ]
     },
     "metadata": {},
     "output_type": "display_data"
    },
    {
     "name": "stdout",
     "output_type": "stream",
     "text": [
      "----------------------------------\n"
     ]
    },
    {
     "data": {
      "text/html": [
       "<div>\n",
       "<style scoped>\n",
       "    .dataframe tbody tr th:only-of-type {\n",
       "        vertical-align: middle;\n",
       "    }\n",
       "\n",
       "    .dataframe tbody tr th {\n",
       "        vertical-align: top;\n",
       "    }\n",
       "\n",
       "    .dataframe thead th {\n",
       "        text-align: right;\n",
       "    }\n",
       "</style>\n",
       "<table border=\"1\" class=\"dataframe\">\n",
       "  <thead>\n",
       "    <tr style=\"text-align: right;\">\n",
       "      <th></th>\n",
       "      <th>bias</th>\n",
       "      <th>number_of_offenders_over_18</th>\n",
       "      <th>number_of_offenders_under_18</th>\n",
       "      <th>number_of_victims_over_18</th>\n",
       "      <th>number_of_victims_under_18</th>\n",
       "      <th>offense</th>\n",
       "      <th>offense_location</th>\n",
       "      <th>offender_ethnicity</th>\n",
       "    </tr>\n",
       "    <tr>\n",
       "      <th>date</th>\n",
       "      <th></th>\n",
       "      <th></th>\n",
       "      <th></th>\n",
       "      <th></th>\n",
       "      <th></th>\n",
       "      <th></th>\n",
       "      <th></th>\n",
       "      <th></th>\n",
       "    </tr>\n",
       "  </thead>\n",
       "  <tbody>\n",
       "    <tr>\n",
       "      <th>2020-03-22</th>\n",
       "      <td>Anti-Jewish</td>\n",
       "      <td>0</td>\n",
       "      <td>0</td>\n",
       "      <td>1</td>\n",
       "      <td>0</td>\n",
       "      <td>Criminal Mischief</td>\n",
       "      <td>Residence/Home</td>\n",
       "      <td>Unknown</td>\n",
       "    </tr>\n",
       "    <tr>\n",
       "      <th>2020-04-20</th>\n",
       "      <td>Anti-Buddhist</td>\n",
       "      <td>0</td>\n",
       "      <td>0</td>\n",
       "      <td>1</td>\n",
       "      <td>0</td>\n",
       "      <td>Criminal Mischief</td>\n",
       "      <td>Place of Worship</td>\n",
       "      <td>Unknown</td>\n",
       "    </tr>\n",
       "    <tr>\n",
       "      <th>2020-04-29</th>\n",
       "      <td>Anti-LGBT</td>\n",
       "      <td>1</td>\n",
       "      <td>0</td>\n",
       "      <td>1</td>\n",
       "      <td>0</td>\n",
       "      <td>Assault by Threat</td>\n",
       "      <td>Department/Discount Store</td>\n",
       "      <td>African American</td>\n",
       "    </tr>\n",
       "    <tr>\n",
       "      <th>2020-05-17</th>\n",
       "      <td>Anti-African American</td>\n",
       "      <td>1</td>\n",
       "      <td>0</td>\n",
       "      <td>1</td>\n",
       "      <td>0</td>\n",
       "      <td>Assault by Contact</td>\n",
       "      <td>Convenience Store</td>\n",
       "      <td>Caucasian</td>\n",
       "    </tr>\n",
       "    <tr>\n",
       "      <th>2020-05-20</th>\n",
       "      <td>Anti-Hispanic</td>\n",
       "      <td>1</td>\n",
       "      <td>0</td>\n",
       "      <td>1</td>\n",
       "      <td>0</td>\n",
       "      <td>Assault with Injury</td>\n",
       "      <td>Street/Alley</td>\n",
       "      <td>Caucasian</td>\n",
       "    </tr>\n",
       "  </tbody>\n",
       "</table>\n",
       "</div>"
      ],
      "text/plain": [
       "                             bias  number_of_offenders_over_18  \\\n",
       "date                                                             \n",
       "2020-03-22            Anti-Jewish                            0   \n",
       "2020-04-20          Anti-Buddhist                            0   \n",
       "2020-04-29              Anti-LGBT                            1   \n",
       "2020-05-17  Anti-African American                            1   \n",
       "2020-05-20          Anti-Hispanic                            1   \n",
       "\n",
       "            number_of_offenders_under_18  number_of_victims_over_18  \\\n",
       "date                                                                  \n",
       "2020-03-22                             0                          1   \n",
       "2020-04-20                             0                          1   \n",
       "2020-04-29                             0                          1   \n",
       "2020-05-17                             0                          1   \n",
       "2020-05-20                             0                          1   \n",
       "\n",
       "            number_of_victims_under_18              offense  \\\n",
       "date                                                          \n",
       "2020-03-22                           0    Criminal Mischief   \n",
       "2020-04-20                           0    Criminal Mischief   \n",
       "2020-04-29                           0    Assault by Threat   \n",
       "2020-05-17                           0   Assault by Contact   \n",
       "2020-05-20                           0  Assault with Injury   \n",
       "\n",
       "                     offense_location offender_ethnicity  \n",
       "date                                                      \n",
       "2020-03-22             Residence/Home            Unknown  \n",
       "2020-04-20           Place of Worship            Unknown  \n",
       "2020-04-29  Department/Discount Store   African American  \n",
       "2020-05-17          Convenience Store          Caucasian  \n",
       "2020-05-20               Street/Alley          Caucasian  "
      ]
     },
     "metadata": {},
     "output_type": "display_data"
    }
   ],
   "source": [
    "# Creating an index from the dates and performing the necessary conversions\n",
    "df['date'] = df['date'].astype('datetime64')\n",
    "df = df.set_index('date')\n",
    "df['bias'] = df['bias'].astype('category')\n",
    "df['offense'] = df['offense'].astype('category')\n",
    "df['offense_location'] = df['offense_location'].astype('category')\n",
    "df['offender_ethnicity'] = df['offender_ethnicity'].astype('category')\n",
    "\n",
    "# Reexamining the dataset\n",
    "print(df.info())\n",
    "print('----------------------------------')\n",
    "print(df.index)\n",
    "print('----------------------------------')\n",
    "display(df.head())\n",
    "print('----------------------------------')\n",
    "display(df.tail())"
   ]
  },
  {
   "cell_type": "markdown",
   "metadata": {},
   "source": [
    "We'll look at the numerical data in the victims & offenders columns later. First, I want to explore the categorical data.\n",
    "\n",
    "### Question 1. How are reported incidences in Austin distributed according to motivation? "
   ]
  },
  {
   "cell_type": "code",
   "execution_count": 4,
   "metadata": {},
   "outputs": [
    {
     "name": "stdout",
     "output_type": "stream",
     "text": [
      "Anti-LGBT                18\n",
      "Anti-African American    18\n",
      "Anti-Hispanic             7\n",
      "Anti-Muslim               4\n",
      "Anti-Jewish               4\n",
      "Anti-Caucasian            3\n",
      "Anti-Disability           1\n",
      "Anti-Buddhist             1\n",
      "Name: bias, dtype: int64\n",
      "----------------------------------\n",
      "Total number of reported hate crimes since 2017 = 56\n",
      "----------------------------------\n",
      "Incident Biases as Percentages:\n",
      "Anti-LGBT                0.321429\n",
      "Anti-African American    0.321429\n",
      "Anti-Hispanic            0.125000\n",
      "Anti-Muslim              0.071429\n",
      "Anti-Jewish              0.071429\n",
      "Anti-Caucasian           0.053571\n",
      "Anti-Disability          0.017857\n",
      "Anti-Buddhist            0.017857\n",
      "Name: bias, dtype: float64\n"
     ]
    },
    {
     "data": {
      "image/png": "[encoded data removed]",
      "text/plain": [
       "<Figure size 432x288 with 1 Axes>"
      ]
     },
     "metadata": {
      "needs_background": "light"
     },
     "output_type": "display_data"
    }
   ],
   "source": [
    "bias = df.bias.value_counts()\n",
    "bias_pct = df.bias.value_counts(normalize=True)\n",
    "print(bias)\n",
    "print('----------------------------------')\n",
    "print('Total number of reported hate crimes since 2017 = 56')\n",
    "print('----------------------------------')\n",
    "print('Incident Biases as Percentages:')\n",
    "print(bias_pct)\n",
    "\n",
    "bias.plot.bar()\n",
    "plt.xlabel('Motivation')\n",
    "plt.ylabel('Total')\n",
    "plt.title('Distribution of Incidents according to Motivation')\n",
    "plt.show()"
   ]
  },
  {
   "cell_type": "markdown",
   "metadata": {},
   "source": [
    "### Question 2. How are the offense-types distributed? "
   ]
  },
  {
   "cell_type": "code",
   "execution_count": 5,
   "metadata": {},
   "outputs": [
    {
     "data": {
      "text/plain": [
       "Assault                21\n",
       "Simple Assault          8\n",
       "Intimidation            7\n",
       "Criminal Mischief       5\n",
       "Vandalism               4\n",
       "Aggravated Assault      3\n",
       "Destruction             2\n",
       "Theft                   1\n",
       "Robbery                 1\n",
       "Burglary/Assault        1\n",
       "Assault with Injury     1\n",
       "Assault by Threat       1\n",
       "Assault by Contact      1\n",
       "Name: offense, dtype: int64"
      ]
     },
     "metadata": {},
     "output_type": "display_data"
    },
    {
     "name": "stdout",
     "output_type": "stream",
     "text": [
      "----------------------------------\n",
      "Offense Percentages:\n"
     ]
    },
    {
     "data": {
      "text/plain": [
       "Assault                0.375000\n",
       "Simple Assault         0.142857\n",
       "Intimidation           0.125000\n",
       "Criminal Mischief      0.089286\n",
       "Vandalism              0.071429\n",
       "Aggravated Assault     0.053571\n",
       "Destruction            0.035714\n",
       "Theft                  0.017857\n",
       "Robbery                0.017857\n",
       "Burglary/Assault       0.017857\n",
       "Assault with Injury    0.017857\n",
       "Assault by Threat      0.017857\n",
       "Assault by Contact     0.017857\n",
       "Name: offense, dtype: float64"
      ]
     },
     "metadata": {},
     "output_type": "display_data"
    },
    {
     "data": {
      "image/png": "[encoded data removed]",
      "text/plain": [
       "<Figure size 432x288 with 1 Axes>"
      ]
     },
     "metadata": {
      "needs_background": "light"
     },
     "output_type": "display_data"
    }
   ],
   "source": [
    "offense_count = df.offense.value_counts()\n",
    "display(offense_count)\n",
    "print('----------------------------------')\n",
    "print('Offense Percentages:')\n",
    "display(df.offense.value_counts(normalize=True))\n",
    "\n",
    "\n",
    "offense_count.plot.bar()\n",
    "\n",
    "plt.xlabel('Offense')\n",
    "plt.ylabel('Total')\n",
    "plt.title('Distribution of Offenses')\n",
    "plt.show()"
   ]
  },
  {
   "cell_type": "markdown",
   "metadata": {},
   "source": [
    "### Question 3. How are the offenders distributed according to race/ethnicity?      "
   ]
  },
  {
   "cell_type": "code",
   "execution_count": 6,
   "metadata": {},
   "outputs": [
    {
     "name": "stdout",
     "output_type": "stream",
     "text": [
      "7\n",
      "57\n",
      "----------------------------------\n",
      "Total # of offenders = 64\n"
     ]
    }
   ],
   "source": [
    "print(df.number_of_offenders_under_18.sum())\n",
    "print(df.number_of_offenders_over_18.sum())\n",
    "print('----------------------------------')\n",
    "print('Total # of offenders = 64')"
   ]
  },
  {
   "cell_type": "code",
   "execution_count": 7,
   "metadata": {},
   "outputs": [
    {
     "name": "stdout",
     "output_type": "stream",
     "text": [
      "Caucasian                    26\n",
      "Hispanic                     12\n",
      "Unknown                      11\n",
      "African American              5\n",
      "Hispanic (2) Caucasian(2)     1\n",
      "Asian                         1\n",
      "Name: offender_ethnicity, dtype: int64\n",
      "----------------------------------\n",
      "Percentages of offender(s) ethnicity:\n",
      "Caucasian                    0.464286\n",
      "Hispanic                     0.214286\n",
      "Unknown                      0.196429\n",
      "African American             0.089286\n",
      "Hispanic (2) Caucasian(2)    0.017857\n",
      "Asian                        0.017857\n",
      "Name: offender_ethnicity, dtype: float64\n"
     ]
    },
    {
     "data": {
      "image/png": "[encoded data removed]",
      "text/plain": [
       "<Figure size 432x288 with 1 Axes>"
      ]
     },
     "metadata": {
      "needs_background": "light"
     },
     "output_type": "display_data"
    }
   ],
   "source": [
    "offenders_count = df['offender_ethnicity'].value_counts()\n",
    "print(offenders_count)\n",
    "print('----------------------------------')\n",
    "print('Percentages of offender(s) ethnicity:')\n",
    "print(df.offender_ethnicity.value_counts(normalize=True))\n",
    "\n",
    "offenders_count.plot.bar()\n",
    "\n",
    "plt.xlabel('Ethnicity')\n",
    "plt.ylabel('Total')\n",
    "plt.title('Distribution of Offender(s) Ethnicity')\n",
    "plt.show()"
   ]
  },
  {
   "cell_type": "markdown",
   "metadata": {},
   "source": [
    "Note...the above 'Offender' graph has an instance of 'Hispanic (2), Caucasian (2)' as a single column because of an incident that occurred on 1/19/19 https://www.statesman.com/news/20200124/confrontation-that-ignited-attack-on-austin-gay-couple-questioned-by-detective -- 2 of the offenders were white, and the other 2 were hispanic. "
   ]
  },
  {
   "cell_type": "markdown",
   "metadata": {},
   "source": [
    "### Question 4. How are the offenses (type) distributed? "
   ]
  },
  {
   "cell_type": "code",
   "execution_count": 8,
   "metadata": {
    "scrolled": true
   },
   "outputs": [
    {
     "name": "stdout",
     "output_type": "stream",
     "text": [
      "Street/Alley                        16\n",
      "Residence/Home                      11\n",
      "Bar/Nightclub                        5\n",
      "Parking Lot/Garage                   5\n",
      "Convenience Store                    4\n",
      "Place of Worship                     2\n",
      "Park/Playground                      2\n",
      "Unknown                              1\n",
      "Drug Store/Dr.'s office/Hospital     1\n",
      "Bank/Savings and Loan                1\n",
      "Department/Discount Store            1\n",
      "Parking Lot                          1\n",
      "Hotel/Motel                          1\n",
      "Parking/Drop Lot                     1\n",
      "Restaurant                           1\n",
      "School-Elementary/Secondary          1\n",
      "Shelter-Mission/Homeless             1\n",
      "Air/Bus/Train Terminal               1\n",
      "Name: offense_location, dtype: int64\n",
      "----------------------------------\n",
      "Street/Alley                        0.285714\n",
      "Residence/Home                      0.196429\n",
      "Bar/Nightclub                       0.089286\n",
      "Parking Lot/Garage                  0.089286\n",
      "Convenience Store                   0.071429\n",
      "Place of Worship                    0.035714\n",
      "Park/Playground                     0.035714\n",
      "Unknown                             0.017857\n",
      "Drug Store/Dr.'s office/Hospital    0.017857\n",
      "Bank/Savings and Loan               0.017857\n",
      "Department/Discount Store           0.017857\n",
      "Parking Lot                         0.017857\n",
      "Hotel/Motel                         0.017857\n",
      "Parking/Drop Lot                    0.017857\n",
      "Restaurant                          0.017857\n",
      "School-Elementary/Secondary         0.017857\n",
      "Shelter-Mission/Homeless            0.017857\n",
      "Air/Bus/Train Terminal              0.017857\n",
      "Name: offense_location, dtype: float64\n"
     ]
    },
    {
     "data": {
      "image/png": "[encoded data removed]",
      "text/plain": [
       "<Figure size 432x288 with 1 Axes>"
      ]
     },
     "metadata": {
      "needs_background": "light"
     },
     "output_type": "display_data"
    }
   ],
   "source": [
    "# Examining the 'offense location' column\n",
    "location = df.offense_location.value_counts()\n",
    "print(location)\n",
    "print('----------------------------------')\n",
    "# Displaying 'offense location' as percentages\n",
    "print(df.offense_location.value_counts(normalize=True))\n",
    "\n",
    "location.plot.bar()\n",
    "plt.show()"
   ]
  },
  {
   "cell_type": "markdown",
   "metadata": {},
   "source": [
    "Interestingly, the 2nd highest percentage of crimes take place within the home (19.64%).\n",
    "\n",
    "The victim columns only contain numbers and no indicators of the victims' ethnicity/race. Really, all we can do with these columns is see how they correlate with the offender columns. "
   ]
  },
  {
   "cell_type": "markdown",
   "metadata": {},
   "source": [
    "### Question 5. Any correlations? "
   ]
  },
  {
   "cell_type": "code",
   "execution_count": 9,
   "metadata": {},
   "outputs": [
    {
     "data": {
      "text/html": [
       "<div>\n",
       "<style scoped>\n",
       "    .dataframe tbody tr th:only-of-type {\n",
       "        vertical-align: middle;\n",
       "    }\n",
       "\n",
       "    .dataframe tbody tr th {\n",
       "        vertical-align: top;\n",
       "    }\n",
       "\n",
       "    .dataframe thead th {\n",
       "        text-align: right;\n",
       "    }\n",
       "</style>\n",
       "<table border=\"1\" class=\"dataframe\">\n",
       "  <thead>\n",
       "    <tr style=\"text-align: right;\">\n",
       "      <th></th>\n",
       "      <th>number_of_offenders_over_18</th>\n",
       "      <th>number_of_offenders_under_18</th>\n",
       "      <th>number_of_victims_over_18</th>\n",
       "      <th>number_of_victims_under_18</th>\n",
       "    </tr>\n",
       "  </thead>\n",
       "  <tbody>\n",
       "    <tr>\n",
       "      <th>number_of_offenders_over_18</th>\n",
       "      <td>1.000000</td>\n",
       "      <td>-0.180482</td>\n",
       "      <td>0.342371</td>\n",
       "      <td>-0.005228</td>\n",
       "    </tr>\n",
       "    <tr>\n",
       "      <th>number_of_offenders_under_18</th>\n",
       "      <td>-0.180482</td>\n",
       "      <td>1.000000</td>\n",
       "      <td>-0.398025</td>\n",
       "      <td>0.572413</td>\n",
       "    </tr>\n",
       "    <tr>\n",
       "      <th>number_of_victims_over_18</th>\n",
       "      <td>0.342371</td>\n",
       "      <td>-0.398025</td>\n",
       "      <td>1.000000</td>\n",
       "      <td>-0.554402</td>\n",
       "    </tr>\n",
       "    <tr>\n",
       "      <th>number_of_victims_under_18</th>\n",
       "      <td>-0.005228</td>\n",
       "      <td>0.572413</td>\n",
       "      <td>-0.554402</td>\n",
       "      <td>1.000000</td>\n",
       "    </tr>\n",
       "  </tbody>\n",
       "</table>\n",
       "</div>"
      ],
      "text/plain": [
       "                              number_of_offenders_over_18  \\\n",
       "number_of_offenders_over_18                      1.000000   \n",
       "number_of_offenders_under_18                    -0.180482   \n",
       "number_of_victims_over_18                        0.342371   \n",
       "number_of_victims_under_18                      -0.005228   \n",
       "\n",
       "                              number_of_offenders_under_18  \\\n",
       "number_of_offenders_over_18                      -0.180482   \n",
       "number_of_offenders_under_18                      1.000000   \n",
       "number_of_victims_over_18                        -0.398025   \n",
       "number_of_victims_under_18                        0.572413   \n",
       "\n",
       "                              number_of_victims_over_18  \\\n",
       "number_of_offenders_over_18                    0.342371   \n",
       "number_of_offenders_under_18                  -0.398025   \n",
       "number_of_victims_over_18                      1.000000   \n",
       "number_of_victims_under_18                    -0.554402   \n",
       "\n",
       "                              number_of_victims_under_18  \n",
       "number_of_offenders_over_18                    -0.005228  \n",
       "number_of_offenders_under_18                    0.572413  \n",
       "number_of_victims_over_18                      -0.554402  \n",
       "number_of_victims_under_18                      1.000000  "
      ]
     },
     "metadata": {},
     "output_type": "display_data"
    },
    {
     "data": {
      "image/png": "[encoded data removed]",
      "text/plain": [
       "<Figure size 432x288 with 1 Axes>"
      ]
     },
     "metadata": {
      "needs_background": "light"
     },
     "output_type": "display_data"
    }
   ],
   "source": [
    "# Examining correlations between victims & offenders\n",
    "df_corr = df.corr()\n",
    "\n",
    "display(df_corr)\n",
    "df_corr.plot.bar()\n",
    "plt.show()"
   ]
  }
 ],
 "metadata": {
  "kernelspec": {
   "display_name": "Python 3",
   "language": "python",
   "name": "python3"
  },
  "language_info": {
   "codemirror_mode": {
    "name": "ipython",
    "version": 3
   },
   "file_extension": ".py",
   "mimetype": "text/x-python",
   "name": "python",
   "nbconvert_exporter": "python",
   "pygments_lexer": "ipython3",
   "version": "3.7.6"
  }
 },
 "nbformat": 4,
 "nbformat_minor": 4
}
