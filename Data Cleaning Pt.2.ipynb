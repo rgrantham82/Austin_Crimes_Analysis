{
 "cells": [
  {
   "cell_type": "code",
   "execution_count": 1,
   "metadata": {},
   "outputs": [],
   "source": [
    "import pandas as pd\n",
    "import numpy as np\n",
    "import io\n",
    "import matplotlib\n",
    "import matplotlib.pyplot as plt\n",
    "import seaborn as sns"
   ]
  },
  {
   "cell_type": "code",
   "execution_count": 2,
   "metadata": {
    "scrolled": false
   },
   "outputs": [
    {
     "data": {
      "text/plain": [
       "date                            datetime64[ns]\n",
       "bias                                  category\n",
       "number_of_vitims_under_18                int64\n",
       "number_of_victims_over_18                int64\n",
       "number_of_offenders_under_18             int64\n",
       "number_of_offenders_over_18              int64\n",
       "race_or_ethnic_of_offender              object\n",
       "offense                               category\n",
       "offense_location                      category\n",
       "dtype: object"
      ]
     },
     "metadata": {},
     "output_type": "display_data"
    },
    {
     "data": {
      "text/html": [
       "<div>\n",
       "<style scoped>\n",
       "    .dataframe tbody tr th:only-of-type {\n",
       "        vertical-align: middle;\n",
       "    }\n",
       "\n",
       "    .dataframe tbody tr th {\n",
       "        vertical-align: top;\n",
       "    }\n",
       "\n",
       "    .dataframe thead th {\n",
       "        text-align: right;\n",
       "    }\n",
       "</style>\n",
       "<table border=\"1\" class=\"dataframe\">\n",
       "  <thead>\n",
       "    <tr style=\"text-align: right;\">\n",
       "      <th></th>\n",
       "      <th>date</th>\n",
       "      <th>bias</th>\n",
       "      <th>number_of_vitims_under_18</th>\n",
       "      <th>number_of_victims_over_18</th>\n",
       "      <th>number_of_offenders_under_18</th>\n",
       "      <th>number_of_offenders_over_18</th>\n",
       "      <th>race_or_ethnic_of_offender</th>\n",
       "      <th>offense</th>\n",
       "      <th>offense_location</th>\n",
       "    </tr>\n",
       "  </thead>\n",
       "  <tbody>\n",
       "    <tr>\n",
       "      <th>0</th>\n",
       "      <td>2017-01-01</td>\n",
       "      <td>Anti-Black or African American</td>\n",
       "      <td>0</td>\n",
       "      <td>1</td>\n",
       "      <td>0</td>\n",
       "      <td>1</td>\n",
       "      <td>White/Not Hispanic</td>\n",
       "      <td>Aggravated Assault</td>\n",
       "      <td>Park/Playground</td>\n",
       "    </tr>\n",
       "    <tr>\n",
       "      <th>1</th>\n",
       "      <td>2017-02-01</td>\n",
       "      <td>Anti-White</td>\n",
       "      <td>0</td>\n",
       "      <td>1</td>\n",
       "      <td>0</td>\n",
       "      <td>1</td>\n",
       "      <td>Black or African American/Not Hispanic</td>\n",
       "      <td>Aggravated Assault</td>\n",
       "      <td>Highway/Road/Alley/Street/Sidewalk</td>\n",
       "    </tr>\n",
       "    <tr>\n",
       "      <th>2</th>\n",
       "      <td>2017-03-01</td>\n",
       "      <td>Anti-Jewish</td>\n",
       "      <td>0</td>\n",
       "      <td>0</td>\n",
       "      <td>0</td>\n",
       "      <td>0</td>\n",
       "      <td>Unknown</td>\n",
       "      <td>Destruction</td>\n",
       "      <td>Highway/Road/Alley/Street/Sidewalk</td>\n",
       "    </tr>\n",
       "    <tr>\n",
       "      <th>3</th>\n",
       "      <td>2017-04-01</td>\n",
       "      <td>Anti-Jewish</td>\n",
       "      <td>0</td>\n",
       "      <td>0</td>\n",
       "      <td>0</td>\n",
       "      <td>0</td>\n",
       "      <td>White/Unknown</td>\n",
       "      <td>Simple Assault</td>\n",
       "      <td>Air/Bus/Train Terminal</td>\n",
       "    </tr>\n",
       "    <tr>\n",
       "      <th>4</th>\n",
       "      <td>2017-05-01</td>\n",
       "      <td>Anti-Gay (Male)</td>\n",
       "      <td>1</td>\n",
       "      <td>0</td>\n",
       "      <td>1</td>\n",
       "      <td>2</td>\n",
       "      <td>White/Not Hispanic</td>\n",
       "      <td>Simple Assault</td>\n",
       "      <td>Residence/Home</td>\n",
       "    </tr>\n",
       "  </tbody>\n",
       "</table>\n",
       "</div>"
      ],
      "text/plain": [
       "        date                            bias  number_of_vitims_under_18  \\\n",
       "0 2017-01-01  Anti-Black or African American                          0   \n",
       "1 2017-02-01                      Anti-White                          0   \n",
       "2 2017-03-01                     Anti-Jewish                          0   \n",
       "3 2017-04-01                     Anti-Jewish                          0   \n",
       "4 2017-05-01                 Anti-Gay (Male)                          1   \n",
       "\n",
       "   number_of_victims_over_18  number_of_offenders_under_18  \\\n",
       "0                          1                             0   \n",
       "1                          1                             0   \n",
       "2                          0                             0   \n",
       "3                          0                             0   \n",
       "4                          0                             1   \n",
       "\n",
       "   number_of_offenders_over_18              race_or_ethnic_of_offender  \\\n",
       "0                            1                      White/Not Hispanic   \n",
       "1                            1  Black or African American/Not Hispanic   \n",
       "2                            0                                 Unknown   \n",
       "3                            0                           White/Unknown   \n",
       "4                            2                      White/Not Hispanic   \n",
       "\n",
       "              offense                    offense_location  \n",
       "0  Aggravated Assault                     Park/Playground  \n",
       "1  Aggravated Assault  Highway/Road/Alley/Street/Sidewalk  \n",
       "2         Destruction  Highway/Road/Alley/Street/Sidewalk  \n",
       "3      Simple Assault              Air/Bus/Train Terminal  \n",
       "4      Simple Assault                      Residence/Home  "
      ]
     },
     "metadata": {},
     "output_type": "display_data"
    }
   ],
   "source": [
    "df = pd.read_csv(r\"C:\\Users\\Robert\\OneDrive\\Desktop\\cat_aus_final.csv\")\n",
    "df.date = df.date.astype('datetime64')\n",
    "df.bias = df.bias.astype('category')\n",
    "df.offense = df.offense.astype('category')\n",
    "df.offense_location = df.offense_location.astype('category')\n",
    "\n",
    "display(df.dtypes)\n",
    "display(df.head())"
   ]
  },
  {
   "cell_type": "code",
   "execution_count": 3,
   "metadata": {
    "scrolled": true
   },
   "outputs": [
    {
     "data": {
      "image/png": "[encoded data removed]",
      "text/plain": [
       "<Figure size 432x288 with 1 Axes>"
      ]
     },
     "metadata": {
      "needs_background": "light"
     },
     "output_type": "display_data"
    }
   ],
   "source": [
    "df.set_index('date', inplace=True)\n",
    "\n",
    "df.plot()\n",
    "plt.show()"
   ]
  },
  {
   "cell_type": "code",
   "execution_count": 4,
   "metadata": {},
   "outputs": [],
   "source": [
    "df.to_csv(r\"C:\\Users\\Robert\\OneDrive\\Desktop\\aus_final_clean.csv\")"
   ]
  }
 ],
 "metadata": {
  "kernelspec": {
   "display_name": "Python 3",
   "language": "python",
   "name": "python3"
  },
  "language_info": {
   "codemirror_mode": {
    "name": "ipython",
    "version": 3
   },
   "file_extension": ".py",
   "mimetype": "text/x-python",
   "name": "python",
   "nbconvert_exporter": "python",
   "pygments_lexer": "ipython3",
   "version": "3.7.6"
  }
 },
 "nbformat": 4,
 "nbformat_minor": 4
}
